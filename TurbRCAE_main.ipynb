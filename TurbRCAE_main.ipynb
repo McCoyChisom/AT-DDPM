{
  "nbformat": 4,
  "nbformat_minor": 0,
  "metadata": {
    "colab": {
      "provenance": [],
      "gpuType": "T4",
      "authorship_tag": "ABX9TyMoePTQNQi0BXW2l3clE0W1",
      "include_colab_link": true
    },
    "kernelspec": {
      "name": "python3",
      "display_name": "Python 3"
    },
    "language_info": {
      "name": "python"
    },
    "accelerator": "GPU"
  },
  "cells": [
    {
      "cell_type": "markdown",
      "metadata": {
        "id": "view-in-github",
        "colab_type": "text"
      },
      "source": [
        "<a href=\"https://colab.research.google.com/github/McCoyChisom/AT-DDPM/blob/main/TurbRCAE_main.ipynb\" target=\"_parent\"><img src=\"https://colab.research.google.com/assets/colab-badge.svg\" alt=\"Open In Colab\"/></a>"
      ]
    },
    {
      "cell_type": "code",
      "source": [
        "!pip install qai-hub\n"
      ],
      "metadata": {
        "colab": {
          "base_uri": "https://localhost:8080/",
          "height": 1000
        },
        "id": "qD1txTzvc2v5",
        "outputId": "6acbc3fd-2452-4661-c7e6-6a8ab5983748"
      },
      "execution_count": null,
      "outputs": [
        {
          "output_type": "stream",
          "name": "stdout",
          "text": [
            "Collecting qai-hub\n",
            "  Downloading qai_hub-0.31.0-py3-none-any.whl.metadata (2.7 kB)\n",
            "Collecting backoff>=2.2 (from qai-hub)\n",
            "  Downloading backoff-2.2.1-py3-none-any.whl.metadata (14 kB)\n",
            "Collecting deprecation (from qai-hub)\n",
            "  Downloading deprecation-2.1.0-py2.py3-none-any.whl.metadata (4.6 kB)\n",
            "Requirement already satisfied: h5py<4,>=2.10.0 in /usr/local/lib/python3.11/dist-packages (from qai-hub) (3.14.0)\n",
            "Collecting numpy<2,>=1.22.0 (from qai-hub)\n",
            "  Downloading numpy-1.26.4-cp311-cp311-manylinux_2_17_x86_64.manylinux2014_x86_64.whl.metadata (61 kB)\n",
            "\u001b[2K     \u001b[90m━━━━━━━━━━━━━━━━━━━━━━━━━━━━━━━━━━━━━━━━\u001b[0m \u001b[32m61.0/61.0 kB\u001b[0m \u001b[31m3.7 MB/s\u001b[0m eta \u001b[36m0:00:00\u001b[0m\n",
            "\u001b[?25hRequirement already satisfied: packaging>=20.0 in /usr/local/lib/python3.11/dist-packages (from qai-hub) (24.2)\n",
            "Requirement already satisfied: prettytable>=3.9.0 in /usr/local/lib/python3.11/dist-packages (from qai-hub) (3.16.0)\n",
            "Collecting protobuf<4,>=3.20 (from qai-hub)\n",
            "  Downloading protobuf-3.20.3-py2.py3-none-any.whl.metadata (720 bytes)\n",
            "Requirement already satisfied: requests in /usr/local/lib/python3.11/dist-packages (from qai-hub) (2.32.3)\n",
            "Requirement already satisfied: requests-toolbelt in /usr/local/lib/python3.11/dist-packages (from qai-hub) (1.0.0)\n",
            "Collecting s3transfer<0.11,>=0.10.3 (from qai-hub)\n",
            "  Downloading s3transfer-0.10.4-py3-none-any.whl.metadata (1.7 kB)\n",
            "Collecting semver>=3.0 (from qai-hub)\n",
            "  Downloading semver-3.0.4-py3-none-any.whl.metadata (6.8 kB)\n",
            "Requirement already satisfied: tqdm in /usr/local/lib/python3.11/dist-packages (from qai-hub) (4.67.1)\n",
            "Requirement already satisfied: typing-extensions>=4.12.2 in /usr/local/lib/python3.11/dist-packages (from qai-hub) (4.14.0)\n",
            "Requirement already satisfied: wcwidth in /usr/local/lib/python3.11/dist-packages (from prettytable>=3.9.0->qai-hub) (0.2.13)\n",
            "Collecting botocore<2.0a.0,>=1.33.2 (from s3transfer<0.11,>=0.10.3->qai-hub)\n",
            "  Downloading botocore-1.39.3-py3-none-any.whl.metadata (5.7 kB)\n",
            "Requirement already satisfied: charset-normalizer<4,>=2 in /usr/local/lib/python3.11/dist-packages (from requests->qai-hub) (3.4.2)\n",
            "Requirement already satisfied: idna<4,>=2.5 in /usr/local/lib/python3.11/dist-packages (from requests->qai-hub) (3.10)\n",
            "Requirement already satisfied: urllib3<3,>=1.21.1 in /usr/local/lib/python3.11/dist-packages (from requests->qai-hub) (2.4.0)\n",
            "Requirement already satisfied: certifi>=2017.4.17 in /usr/local/lib/python3.11/dist-packages (from requests->qai-hub) (2025.6.15)\n",
            "Collecting jmespath<2.0.0,>=0.7.1 (from botocore<2.0a.0,>=1.33.2->s3transfer<0.11,>=0.10.3->qai-hub)\n",
            "  Downloading jmespath-1.0.1-py3-none-any.whl.metadata (7.6 kB)\n",
            "Requirement already satisfied: python-dateutil<3.0.0,>=2.1 in /usr/local/lib/python3.11/dist-packages (from botocore<2.0a.0,>=1.33.2->s3transfer<0.11,>=0.10.3->qai-hub) (2.9.0.post0)\n",
            "Requirement already satisfied: six>=1.5 in /usr/local/lib/python3.11/dist-packages (from python-dateutil<3.0.0,>=2.1->botocore<2.0a.0,>=1.33.2->s3transfer<0.11,>=0.10.3->qai-hub) (1.17.0)\n",
            "Downloading qai_hub-0.31.0-py3-none-any.whl (108 kB)\n",
            "\u001b[2K   \u001b[90m━━━━━━━━━━━━━━━━━━━━━━━━━━━━━━━━━━━━━━━━\u001b[0m \u001b[32m108.1/108.1 kB\u001b[0m \u001b[31m8.1 MB/s\u001b[0m eta \u001b[36m0:00:00\u001b[0m\n",
            "\u001b[?25hDownloading backoff-2.2.1-py3-none-any.whl (15 kB)\n",
            "Downloading numpy-1.26.4-cp311-cp311-manylinux_2_17_x86_64.manylinux2014_x86_64.whl (18.3 MB)\n",
            "\u001b[2K   \u001b[90m━━━━━━━━━━━━━━━━━━━━━━━━━━━━━━━━━━━━━━━━\u001b[0m \u001b[32m18.3/18.3 MB\u001b[0m \u001b[31m87.6 MB/s\u001b[0m eta \u001b[36m0:00:00\u001b[0m\n",
            "\u001b[?25hDownloading protobuf-3.20.3-py2.py3-none-any.whl (162 kB)\n",
            "\u001b[2K   \u001b[90m━━━━━━━━━━━━━━━━━━━━━━━━━━━━━━━━━━━━━━━━\u001b[0m \u001b[32m162.1/162.1 kB\u001b[0m \u001b[31m15.7 MB/s\u001b[0m eta \u001b[36m0:00:00\u001b[0m\n",
            "\u001b[?25hDownloading s3transfer-0.10.4-py3-none-any.whl (83 kB)\n",
            "\u001b[2K   \u001b[90m━━━━━━━━━━━━━━━━━━━━━━━━━━━━━━━━━━━━━━━━\u001b[0m \u001b[32m83.2/83.2 kB\u001b[0m \u001b[31m9.0 MB/s\u001b[0m eta \u001b[36m0:00:00\u001b[0m\n",
            "\u001b[?25hDownloading semver-3.0.4-py3-none-any.whl (17 kB)\n",
            "Downloading deprecation-2.1.0-py2.py3-none-any.whl (11 kB)\n",
            "Downloading botocore-1.39.3-py3-none-any.whl (13.8 MB)\n",
            "\u001b[2K   \u001b[90m━━━━━━━━━━━━━━━━━━━━━━━━━━━━━━━━━━━━━━━━\u001b[0m \u001b[32m13.8/13.8 MB\u001b[0m \u001b[31m78.2 MB/s\u001b[0m eta \u001b[36m0:00:00\u001b[0m\n",
            "\u001b[?25hDownloading jmespath-1.0.1-py3-none-any.whl (20 kB)\n",
            "Installing collected packages: semver, protobuf, numpy, jmespath, deprecation, backoff, botocore, s3transfer, qai-hub\n",
            "  Attempting uninstall: protobuf\n",
            "    Found existing installation: protobuf 5.29.5\n",
            "    Uninstalling protobuf-5.29.5:\n",
            "      Successfully uninstalled protobuf-5.29.5\n",
            "  Attempting uninstall: numpy\n",
            "    Found existing installation: numpy 2.0.2\n",
            "    Uninstalling numpy-2.0.2:\n",
            "      Successfully uninstalled numpy-2.0.2\n",
            "\u001b[31mERROR: pip's dependency resolver does not currently take into account all the packages that are installed. This behaviour is the source of the following dependency conflicts.\n",
            "ydf 0.12.0 requires protobuf<6.0.0,>=5.29.1, but you have protobuf 3.20.3 which is incompatible.\n",
            "grpcio-status 1.71.2 requires protobuf<6.0dev,>=5.26.1, but you have protobuf 3.20.3 which is incompatible.\n",
            "thinc 8.3.6 requires numpy<3.0.0,>=2.0.0, but you have numpy 1.26.4 which is incompatible.\n",
            "tensorflow-metadata 1.17.2 requires protobuf>=4.25.2; python_version >= \"3.11\", but you have protobuf 3.20.3 which is incompatible.\u001b[0m\u001b[31m\n",
            "\u001b[0mSuccessfully installed backoff-2.2.1 botocore-1.39.3 deprecation-2.1.0 jmespath-1.0.1 numpy-1.26.4 protobuf-3.20.3 qai-hub-0.31.0 s3transfer-0.10.4 semver-3.0.4\n"
          ]
        },
        {
          "output_type": "display_data",
          "data": {
            "application/vnd.colab-display-data+json": {
              "pip_warning": {
                "packages": [
                  "google",
                  "numpy"
                ]
              },
              "id": "cd4ef4271c9d4835a4cfddf4a01c7263"
            }
          },
          "metadata": {}
        }
      ]
    },
    {
      "cell_type": "code",
      "source": [
        "# Install Miniconda\n",
        "%%bash\n",
        "MINICONDA_INSTALLER_SCRIPT=Miniconda3-latest-Linux-x86_64.sh\n",
        "MINICONDA_PREFIX=/content/miniconda\n",
        "wget -q https://repo.anaconda.com/miniconda/$MINICONDA_INSTALLER_SCRIPT\n",
        "bash $MINICONDA_INSTALLER_SCRIPT -b -f -p $MINICONDA_PREFIX\n"
      ],
      "metadata": {
        "colab": {
          "base_uri": "https://localhost:8080/"
        },
        "id": "Z0rHuth6Vvh2",
        "outputId": "ca8dddbe-c554-49b9-ca1f-4de1b42c7ede"
      },
      "execution_count": null,
      "outputs": [
        {
          "output_type": "stream",
          "name": "stdout",
          "text": [
            "PREFIX=/content/miniconda\n",
            "Unpacking payload ...\n",
            "\n",
            "Installing base environment...\n",
            "\n",
            "Preparing transaction: ...working... done\n",
            "Executing transaction: ...working... done\n",
            "installation finished.\n",
            "WARNING:\n",
            "    You currently have a PYTHONPATH environment variable set. This may cause\n",
            "    unexpected behavior when running the Python interpreter in Miniconda3.\n",
            "    For best results, please verify that your PYTHONPATH only points to\n",
            "    directories of packages that are compatible with the Python interpreter\n",
            "    in Miniconda3: /content/miniconda\n"
          ]
        },
        {
          "output_type": "stream",
          "name": "stderr",
          "text": [
            "entry_point.py:256: DeprecationWarning: Python 3.14 will, by default, filter extracted tar archives and reject files or modify their metadata. Use the filter argument to control this behavior.\n",
            "entry_point.py:256: DeprecationWarning: Python 3.14 will, by default, filter extracted tar archives and reject files or modify their metadata. Use the filter argument to control this behavior.\n",
            "entry_point.py:256: DeprecationWarning: Python 3.14 will, by default, filter extracted tar archives and reject files or modify their metadata. Use the filter argument to control this behavior.\n"
          ]
        }
      ]
    },
    {
      "cell_type": "code",
      "source": [
        "%%bash\n",
        "source /content/miniconda/bin/activate\n",
        "conda create -y -n qai_env python=3.10\n"
      ],
      "metadata": {
        "colab": {
          "base_uri": "https://localhost:8080/"
        },
        "id": "XUL5wXQXWBcw",
        "outputId": "fdd3ac07-2c5b-46af-d2af-fe7db71aef81"
      },
      "execution_count": null,
      "outputs": [
        {
          "output_type": "stream",
          "name": "stdout",
          "text": [
            "Channels:\n",
            " - defaults\n",
            "Platform: linux-64\n",
            "Collecting package metadata (repodata.json): - \b\b\\ \b\b| \b\b/ \b\b- \b\b\\ \b\b| \b\b/ \b\b- \b\b\\ \b\bdone\n",
            "Solving environment: / \b\bdone\n",
            "\n",
            "## Package Plan ##\n",
            "\n",
            "  environment location: /content/miniconda/envs/qai_env\n",
            "\n",
            "  added / updated specs:\n",
            "    - python=3.10\n",
            "\n",
            "\n",
            "The following packages will be downloaded:\n",
            "\n",
            "    package                    |            build\n",
            "    ---------------------------|-----------------\n",
            "    python-3.10.18             |       h1a3bd86_0        26.5 MB\n",
            "    setuptools-78.1.1          |  py310h06a4308_0         1.7 MB\n",
            "    wheel-0.45.1               |  py310h06a4308_0         115 KB\n",
            "    ------------------------------------------------------------\n",
            "                                           Total:        28.4 MB\n",
            "\n",
            "The following NEW packages will be INSTALLED:\n",
            "\n",
            "  _libgcc_mutex      pkgs/main/linux-64::_libgcc_mutex-0.1-main \n",
            "  _openmp_mutex      pkgs/main/linux-64::_openmp_mutex-5.1-1_gnu \n",
            "  bzip2              pkgs/main/linux-64::bzip2-1.0.8-h5eee18b_6 \n",
            "  ca-certificates    pkgs/main/linux-64::ca-certificates-2025.2.25-h06a4308_0 \n",
            "  expat              pkgs/main/linux-64::expat-2.7.1-h6a678d5_0 \n",
            "  ld_impl_linux-64   pkgs/main/linux-64::ld_impl_linux-64-2.40-h12ee557_0 \n",
            "  libffi             pkgs/main/linux-64::libffi-3.4.4-h6a678d5_1 \n",
            "  libgcc-ng          pkgs/main/linux-64::libgcc-ng-11.2.0-h1234567_1 \n",
            "  libgomp            pkgs/main/linux-64::libgomp-11.2.0-h1234567_1 \n",
            "  libstdcxx-ng       pkgs/main/linux-64::libstdcxx-ng-11.2.0-h1234567_1 \n",
            "  libuuid            pkgs/main/linux-64::libuuid-1.41.5-h5eee18b_0 \n",
            "  libxcb             pkgs/main/linux-64::libxcb-1.17.0-h9b100fa_0 \n",
            "  ncurses            pkgs/main/linux-64::ncurses-6.4-h6a678d5_0 \n",
            "  openssl            pkgs/main/linux-64::openssl-3.0.16-h5eee18b_0 \n",
            "  pip                pkgs/main/noarch::pip-25.1-pyhc872135_2 \n",
            "  pthread-stubs      pkgs/main/linux-64::pthread-stubs-0.3-h0ce48e5_1 \n",
            "  python             pkgs/main/linux-64::python-3.10.18-h1a3bd86_0 \n",
            "  readline           pkgs/main/linux-64::readline-8.2-h5eee18b_0 \n",
            "  setuptools         pkgs/main/linux-64::setuptools-78.1.1-py310h06a4308_0 \n",
            "  sqlite             pkgs/main/linux-64::sqlite-3.45.3-h5eee18b_0 \n",
            "  tk                 pkgs/main/linux-64::tk-8.6.14-h993c535_1 \n",
            "  tzdata             pkgs/main/noarch::tzdata-2025b-h04d1e81_0 \n",
            "  wheel              pkgs/main/linux-64::wheel-0.45.1-py310h06a4308_0 \n",
            "  xorg-libx11        pkgs/main/linux-64::xorg-libx11-1.8.12-h9b100fa_1 \n",
            "  xorg-libxau        pkgs/main/linux-64::xorg-libxau-1.0.12-h9b100fa_0 \n",
            "  xorg-libxdmcp      pkgs/main/linux-64::xorg-libxdmcp-1.1.5-h9b100fa_0 \n",
            "  xorg-xorgproto     pkgs/main/linux-64::xorg-xorgproto-2024.1-h5eee18b_1 \n",
            "  xz                 pkgs/main/linux-64::xz-5.6.4-h5eee18b_1 \n",
            "  zlib               pkgs/main/linux-64::zlib-1.2.13-h5eee18b_1 \n",
            "\n",
            "\n",
            "\n",
            "Downloading and Extracting Packages: ...working...\rpython-3.10.18       | 26.5 MB   |            |   0% \n",
            "\rsetuptools-78.1.1    | 1.7 MB    |            |   0% \u001b[A\n",
            "\n",
            "\rwheel-0.45.1         | 115 KB    |            |   0% \u001b[A\u001b[A\n",
            "\n",
            "\rwheel-0.45.1         | 115 KB    | ########## | 100% \u001b[A\u001b[A\rpython-3.10.18       | 26.5 MB   | 1          |   2% \n",
            "\rsetuptools-78.1.1    | 1.7 MB    | ######6    |  66% \u001b[A\n",
            "\rsetuptools-78.1.1    | 1.7 MB    | ########## | 100% \u001b[A\n",
            "\n",
            "\rwheel-0.45.1         | 115 KB    | ########## | 100% \u001b[A\u001b[A\n",
            "\n",
            "\rwheel-0.45.1         | 115 KB    | ########## | 100% \u001b[A\u001b[A\rpython-3.10.18       | 26.5 MB   | ###5       |  36% \rpython-3.10.18       | 26.5 MB   | ######6    |  67% \n",
            "\rsetuptools-78.1.1    | 1.7 MB    | ########## | 100% \u001b[A\rpython-3.10.18       | 26.5 MB   | ########## | 100% \rpython-3.10.18       | 26.5 MB   | ########## | 100% \rpython-3.10.18       | 26.5 MB   | ########## | 100% \r                                                     \r\n",
            "\r                                                     \u001b[A\n",
            "\n",
            "\r                                                     \u001b[A\u001b[A done\n",
            "Preparing transaction: \\ \b\b| \b\bdone\n",
            "Verifying transaction: - \b\b\\ \b\b| \b\b/ \b\b- \b\b\\ \b\b| \b\b/ \b\b- \b\b\\ \b\b| \b\b/ \b\bdone\n",
            "Executing transaction: \\ \b\b| \b\b/ \b\b- \b\b\\ \b\b| \b\b/ \b\b- \b\b\\ \b\b| \b\b/ \b\b- \b\b\\ \b\b| \b\b/ \b\b- \b\b\\ \b\b| \b\b/ \b\b- \b\b\\ \b\b| \b\b/ \b\b- \b\b\\ \b\b| \b\b/ \b\b- \b\b\\ \b\b| \b\b/ \b\b- \b\b\\ \b\b| \b\b/ \b\b- \b\bdone\n",
            "#\n",
            "# To activate this environment, use\n",
            "#\n",
            "#     $ conda activate qai_env\n",
            "#\n",
            "# To deactivate an active environment, use\n",
            "#\n",
            "#     $ conda deactivate\n",
            "\n"
          ]
        }
      ]
    },
    {
      "cell_type": "code",
      "source": [
        "%%bash\n",
        "MINICONDA_INSTALLER_SCRIPT=Miniconda3-latest-Linux-x86_64.sh\n",
        "MINICONDA_PREFIX=/content/miniconda\n",
        "wget -q https://repo.anaconda.com/miniconda/$MINICONDA_INSTALLER_SCRIPT\n",
        "bash $MINICONDA_INSTALLER_SCRIPT -b -f -p $MINICONDA_PREFIX\n"
      ],
      "metadata": {
        "colab": {
          "base_uri": "https://localhost:8080/"
        },
        "id": "6f-EJFk0XD7A",
        "outputId": "5d1111bd-a24f-40c7-d842-1027bae1bc8d"
      },
      "execution_count": null,
      "outputs": [
        {
          "output_type": "stream",
          "name": "stdout",
          "text": [
            "PREFIX=/content/miniconda\n",
            "Unpacking payload ...\n",
            "\n",
            "Installing base environment...\n",
            "\n",
            "Preparing transaction: ...working... done\n",
            "Executing transaction: ...working... done\n",
            "installation finished.\n",
            "WARNING:\n",
            "    You currently have a PYTHONPATH environment variable set. This may cause\n",
            "    unexpected behavior when running the Python interpreter in Miniconda3.\n",
            "    For best results, please verify that your PYTHONPATH only points to\n",
            "    directories of packages that are compatible with the Python interpreter\n",
            "    in Miniconda3: /content/miniconda\n"
          ]
        },
        {
          "output_type": "stream",
          "name": "stderr",
          "text": [
            "entry_point.py:256: DeprecationWarning: Python 3.14 will, by default, filter extracted tar archives and reject files or modify their metadata. Use the filter argument to control this behavior.\n",
            "entry_point.py:256: DeprecationWarning: Python 3.14 will, by default, filter extracted tar archives and reject files or modify their metadata. Use the filter argument to control this behavior.\n",
            "entry_point.py:256: DeprecationWarning: Python 3.14 will, by default, filter extracted tar archives and reject files or modify their metadata. Use the filter argument to control this behavior.\n"
          ]
        }
      ]
    },
    {
      "cell_type": "code",
      "source": [
        "%%bash\n",
        "/content/miniconda/bin/conda update -n base -c defaults conda -y\n"
      ],
      "metadata": {
        "colab": {
          "base_uri": "https://localhost:8080/"
        },
        "id": "AqiCwlDAXhWm",
        "outputId": "0ab5eae5-c231-4ade-ad99-9b8e1bf23823"
      },
      "execution_count": null,
      "outputs": [
        {
          "output_type": "stream",
          "name": "stdout",
          "text": [
            "Channels:\n",
            " - defaults\n",
            "Platform: linux-64\n",
            "Collecting package metadata (repodata.json): - \b\b\\ \b\b| \b\b/ \b\b- \b\b\\ \b\b| \b\b/ \b\b- \b\b\\ \b\bdone\n",
            "Solving environment: / \b\b- \b\bdone\n",
            "\n",
            "## Package Plan ##\n",
            "\n",
            "  environment location: /content/miniconda\n",
            "\n",
            "  added / updated specs:\n",
            "    - conda\n",
            "\n",
            "\n",
            "The following packages will be downloaded:\n",
            "\n",
            "    package                    |            build\n",
            "    ---------------------------|-----------------\n",
            "    certifi-2025.6.15          |  py313h06a4308_0         155 KB\n",
            "    ------------------------------------------------------------\n",
            "                                           Total:         155 KB\n",
            "\n",
            "The following packages will be UPDATED:\n",
            "\n",
            "  certifi                         2025.4.26-py313h06a4308_0 --> 2025.6.15-py313h06a4308_0 \n",
            "\n",
            "\n",
            "\n",
            "Downloading and Extracting Packages: ...working...\rcertifi-2025.6.15    | 155 KB    |            |   0% \rcertifi-2025.6.15    | 155 KB    | ########## | 100% \rcertifi-2025.6.15    | 155 KB    | ########## | 100% \r                                                     \r done\n",
            "Preparing transaction: | \b\bdone\n",
            "Verifying transaction: - \b\bdone\n",
            "Executing transaction: | \b\bdone\n"
          ]
        }
      ]
    },
    {
      "cell_type": "code",
      "source": [
        "%%bash\n",
        "/content/miniconda/bin/conda create -y -n qai_env python=3.10\n"
      ],
      "metadata": {
        "colab": {
          "base_uri": "https://localhost:8080/"
        },
        "id": "yn0Pf9xHXnLD",
        "outputId": "b236d0cb-0d58-48a6-e6ce-ba940f381589"
      },
      "execution_count": null,
      "outputs": [
        {
          "output_type": "stream",
          "name": "stdout",
          "text": [
            "Channels:\n",
            " - defaults\n",
            "Platform: linux-64\n",
            "Collecting package metadata (repodata.json): - \b\b\\ \b\b| \b\bdone\n",
            "Solving environment: - \b\bdone\n",
            "\n",
            "## Package Plan ##\n",
            "\n",
            "  environment location: /content/miniconda/envs/qai_env\n",
            "\n",
            "  added / updated specs:\n",
            "    - python=3.10\n",
            "\n",
            "\n",
            "The following NEW packages will be INSTALLED:\n",
            "\n",
            "  _libgcc_mutex      pkgs/main/linux-64::_libgcc_mutex-0.1-main \n",
            "  _openmp_mutex      pkgs/main/linux-64::_openmp_mutex-5.1-1_gnu \n",
            "  bzip2              pkgs/main/linux-64::bzip2-1.0.8-h5eee18b_6 \n",
            "  ca-certificates    pkgs/main/linux-64::ca-certificates-2025.2.25-h06a4308_0 \n",
            "  expat              pkgs/main/linux-64::expat-2.7.1-h6a678d5_0 \n",
            "  ld_impl_linux-64   pkgs/main/linux-64::ld_impl_linux-64-2.40-h12ee557_0 \n",
            "  libffi             pkgs/main/linux-64::libffi-3.4.4-h6a678d5_1 \n",
            "  libgcc-ng          pkgs/main/linux-64::libgcc-ng-11.2.0-h1234567_1 \n",
            "  libgomp            pkgs/main/linux-64::libgomp-11.2.0-h1234567_1 \n",
            "  libstdcxx-ng       pkgs/main/linux-64::libstdcxx-ng-11.2.0-h1234567_1 \n",
            "  libuuid            pkgs/main/linux-64::libuuid-1.41.5-h5eee18b_0 \n",
            "  libxcb             pkgs/main/linux-64::libxcb-1.17.0-h9b100fa_0 \n",
            "  ncurses            pkgs/main/linux-64::ncurses-6.4-h6a678d5_0 \n",
            "  openssl            pkgs/main/linux-64::openssl-3.0.16-h5eee18b_0 \n",
            "  pip                pkgs/main/noarch::pip-25.1-pyhc872135_2 \n",
            "  pthread-stubs      pkgs/main/linux-64::pthread-stubs-0.3-h0ce48e5_1 \n",
            "  python             pkgs/main/linux-64::python-3.10.18-h1a3bd86_0 \n",
            "  readline           pkgs/main/linux-64::readline-8.2-h5eee18b_0 \n",
            "  setuptools         pkgs/main/linux-64::setuptools-78.1.1-py310h06a4308_0 \n",
            "  sqlite             pkgs/main/linux-64::sqlite-3.45.3-h5eee18b_0 \n",
            "  tk                 pkgs/main/linux-64::tk-8.6.14-h993c535_1 \n",
            "  tzdata             pkgs/main/noarch::tzdata-2025b-h04d1e81_0 \n",
            "  wheel              pkgs/main/linux-64::wheel-0.45.1-py310h06a4308_0 \n",
            "  xorg-libx11        pkgs/main/linux-64::xorg-libx11-1.8.12-h9b100fa_1 \n",
            "  xorg-libxau        pkgs/main/linux-64::xorg-libxau-1.0.12-h9b100fa_0 \n",
            "  xorg-libxdmcp      pkgs/main/linux-64::xorg-libxdmcp-1.1.5-h9b100fa_0 \n",
            "  xorg-xorgproto     pkgs/main/linux-64::xorg-xorgproto-2024.1-h5eee18b_1 \n",
            "  xz                 pkgs/main/linux-64::xz-5.6.4-h5eee18b_1 \n",
            "  zlib               pkgs/main/linux-64::zlib-1.2.13-h5eee18b_1 \n",
            "\n",
            "\n",
            "\n",
            "Downloading and Extracting Packages: ...working... done\n",
            "Preparing transaction: | \b\b/ \b\bdone\n",
            "Verifying transaction: \\ \b\b| \b\b/ \b\b- \b\b\\ \b\b| \b\b/ \b\b- \b\b\\ \b\b| \b\b/ \b\b- \b\bdone\n",
            "Executing transaction: | \b\b/ \b\b- \b\b\\ \b\b| \b\b/ \b\b- \b\b\\ \b\b| \b\b/ \b\b- \b\b\\ \b\b| \b\b/ \b\b- \b\b\\ \b\b| \b\b/ \b\b- \b\b\\ \b\b| \b\b/ \b\b- \b\b\\ \b\b| \b\b/ \b\b- \b\b\\ \b\b| \b\b/ \b\b- \b\b\\ \b\b| \b\b/ \b\b- \b\b\\ \b\b| \b\b/ \b\bdone\n",
            "#\n",
            "# To activate this environment, use\n",
            "#\n",
            "#     $ conda activate qai_env\n",
            "#\n",
            "# To deactivate an active environment, use\n",
            "#\n",
            "#     $ conda deactivate\n",
            "\n"
          ]
        }
      ]
    },
    {
      "cell_type": "code",
      "source": [
        "%%bash\n",
        "source /content/miniconda/bin/activate qai_env\n",
        "pip install qai-hub onnx torch torchvision\n"
      ],
      "metadata": {
        "colab": {
          "base_uri": "https://localhost:8080/"
        },
        "id": "Nx411NtaXt1i",
        "outputId": "86fe28e9-56e5-451c-d6d0-19db3bf9f493"
      },
      "execution_count": null,
      "outputs": [
        {
          "output_type": "stream",
          "name": "stdout",
          "text": [
            "Collecting qai-hub\n",
            "  Using cached qai_hub-0.31.0-py3-none-any.whl.metadata (2.7 kB)\n",
            "Collecting onnx\n",
            "  Downloading onnx-1.18.0-cp310-cp310-manylinux_2_17_x86_64.manylinux2014_x86_64.whl.metadata (6.9 kB)\n",
            "Collecting torch\n",
            "  Downloading torch-2.7.1-cp310-cp310-manylinux_2_28_x86_64.whl.metadata (29 kB)\n",
            "Collecting torchvision\n",
            "  Downloading torchvision-0.22.1-cp310-cp310-manylinux_2_28_x86_64.whl.metadata (6.1 kB)\n",
            "Collecting backoff>=2.2 (from qai-hub)\n",
            "  Using cached backoff-2.2.1-py3-none-any.whl.metadata (14 kB)\n",
            "Collecting deprecation (from qai-hub)\n",
            "  Using cached deprecation-2.1.0-py2.py3-none-any.whl.metadata (4.6 kB)\n",
            "Collecting h5py<4,>=2.10.0 (from qai-hub)\n",
            "  Downloading h5py-3.14.0-cp310-cp310-manylinux_2_17_x86_64.manylinux2014_x86_64.whl.metadata (2.7 kB)\n",
            "Collecting numpy<2,>=1.22.0 (from qai-hub)\n",
            "  Downloading numpy-1.26.4-cp310-cp310-manylinux_2_17_x86_64.manylinux2014_x86_64.whl.metadata (61 kB)\n",
            "Collecting packaging>=20.0 (from qai-hub)\n",
            "  Downloading packaging-25.0-py3-none-any.whl.metadata (3.3 kB)\n",
            "Collecting prettytable>=3.9.0 (from qai-hub)\n",
            "  Downloading prettytable-3.16.0-py3-none-any.whl.metadata (33 kB)\n",
            "Collecting protobuf<4,>=3.20 (from qai-hub)\n",
            "  Downloading protobuf-3.20.3-cp310-cp310-manylinux_2_12_x86_64.manylinux2010_x86_64.whl.metadata (679 bytes)\n",
            "Collecting requests (from qai-hub)\n",
            "  Downloading requests-2.32.4-py3-none-any.whl.metadata (4.9 kB)\n",
            "Collecting requests-toolbelt (from qai-hub)\n",
            "  Downloading requests_toolbelt-1.0.0-py2.py3-none-any.whl.metadata (14 kB)\n",
            "Collecting s3transfer<0.11,>=0.10.3 (from qai-hub)\n",
            "  Using cached s3transfer-0.10.4-py3-none-any.whl.metadata (1.7 kB)\n",
            "Collecting semver>=3.0 (from qai-hub)\n",
            "  Using cached semver-3.0.4-py3-none-any.whl.metadata (6.8 kB)\n",
            "Collecting tqdm (from qai-hub)\n",
            "  Downloading tqdm-4.67.1-py3-none-any.whl.metadata (57 kB)\n",
            "Collecting typing-extensions>=4.12.2 (from qai-hub)\n",
            "  Downloading typing_extensions-4.14.0-py3-none-any.whl.metadata (3.0 kB)\n",
            "Collecting botocore<2.0a.0,>=1.33.2 (from s3transfer<0.11,>=0.10.3->qai-hub)\n",
            "  Using cached botocore-1.39.3-py3-none-any.whl.metadata (5.7 kB)\n",
            "Collecting jmespath<2.0.0,>=0.7.1 (from botocore<2.0a.0,>=1.33.2->s3transfer<0.11,>=0.10.3->qai-hub)\n",
            "  Using cached jmespath-1.0.1-py3-none-any.whl.metadata (7.6 kB)\n",
            "Collecting python-dateutil<3.0.0,>=2.1 (from botocore<2.0a.0,>=1.33.2->s3transfer<0.11,>=0.10.3->qai-hub)\n",
            "  Downloading python_dateutil-2.9.0.post0-py2.py3-none-any.whl.metadata (8.4 kB)\n",
            "Collecting urllib3!=2.2.0,<3,>=1.25.4 (from botocore<2.0a.0,>=1.33.2->s3transfer<0.11,>=0.10.3->qai-hub)\n",
            "  Downloading urllib3-2.5.0-py3-none-any.whl.metadata (6.5 kB)\n",
            "Collecting six>=1.5 (from python-dateutil<3.0.0,>=2.1->botocore<2.0a.0,>=1.33.2->s3transfer<0.11,>=0.10.3->qai-hub)\n",
            "  Downloading six-1.17.0-py2.py3-none-any.whl.metadata (1.7 kB)\n",
            "INFO: pip is looking at multiple versions of onnx to determine which version is compatible with other requirements. This could take a while.\n",
            "Collecting onnx\n",
            "  Downloading onnx-1.17.0-cp310-cp310-manylinux_2_17_x86_64.manylinux2014_x86_64.whl.metadata (16 kB)\n",
            "Collecting filelock (from torch)\n",
            "  Downloading filelock-3.18.0-py3-none-any.whl.metadata (2.9 kB)\n",
            "Collecting sympy>=1.13.3 (from torch)\n",
            "  Downloading sympy-1.14.0-py3-none-any.whl.metadata (12 kB)\n",
            "Collecting networkx (from torch)\n",
            "  Downloading networkx-3.4.2-py3-none-any.whl.metadata (6.3 kB)\n",
            "Collecting jinja2 (from torch)\n",
            "  Downloading jinja2-3.1.6-py3-none-any.whl.metadata (2.9 kB)\n",
            "Collecting fsspec (from torch)\n",
            "  Downloading fsspec-2025.5.1-py3-none-any.whl.metadata (11 kB)\n",
            "Collecting nvidia-cuda-nvrtc-cu12==12.6.77 (from torch)\n",
            "  Downloading nvidia_cuda_nvrtc_cu12-12.6.77-py3-none-manylinux2014_x86_64.whl.metadata (1.5 kB)\n",
            "Collecting nvidia-cuda-runtime-cu12==12.6.77 (from torch)\n",
            "  Downloading nvidia_cuda_runtime_cu12-12.6.77-py3-none-manylinux2014_x86_64.manylinux_2_17_x86_64.whl.metadata (1.5 kB)\n",
            "Collecting nvidia-cuda-cupti-cu12==12.6.80 (from torch)\n",
            "  Downloading nvidia_cuda_cupti_cu12-12.6.80-py3-none-manylinux2014_x86_64.manylinux_2_17_x86_64.whl.metadata (1.6 kB)\n",
            "Collecting nvidia-cudnn-cu12==9.5.1.17 (from torch)\n",
            "  Downloading nvidia_cudnn_cu12-9.5.1.17-py3-none-manylinux_2_28_x86_64.whl.metadata (1.6 kB)\n",
            "Collecting nvidia-cublas-cu12==12.6.4.1 (from torch)\n",
            "  Downloading nvidia_cublas_cu12-12.6.4.1-py3-none-manylinux2014_x86_64.manylinux_2_17_x86_64.whl.metadata (1.5 kB)\n",
            "Collecting nvidia-cufft-cu12==11.3.0.4 (from torch)\n",
            "  Downloading nvidia_cufft_cu12-11.3.0.4-py3-none-manylinux2014_x86_64.manylinux_2_17_x86_64.whl.metadata (1.5 kB)\n",
            "Collecting nvidia-curand-cu12==10.3.7.77 (from torch)\n",
            "  Downloading nvidia_curand_cu12-10.3.7.77-py3-none-manylinux2014_x86_64.manylinux_2_17_x86_64.whl.metadata (1.5 kB)\n",
            "Collecting nvidia-cusolver-cu12==11.7.1.2 (from torch)\n",
            "  Downloading nvidia_cusolver_cu12-11.7.1.2-py3-none-manylinux2014_x86_64.manylinux_2_17_x86_64.whl.metadata (1.6 kB)\n",
            "Collecting nvidia-cusparse-cu12==12.5.4.2 (from torch)\n",
            "  Downloading nvidia_cusparse_cu12-12.5.4.2-py3-none-manylinux2014_x86_64.manylinux_2_17_x86_64.whl.metadata (1.6 kB)\n",
            "Collecting nvidia-cusparselt-cu12==0.6.3 (from torch)\n",
            "  Downloading nvidia_cusparselt_cu12-0.6.3-py3-none-manylinux2014_x86_64.whl.metadata (6.8 kB)\n",
            "Collecting nvidia-nccl-cu12==2.26.2 (from torch)\n",
            "  Downloading nvidia_nccl_cu12-2.26.2-py3-none-manylinux2014_x86_64.manylinux_2_17_x86_64.whl.metadata (2.0 kB)\n",
            "Collecting nvidia-nvtx-cu12==12.6.77 (from torch)\n",
            "  Downloading nvidia_nvtx_cu12-12.6.77-py3-none-manylinux2014_x86_64.manylinux_2_17_x86_64.whl.metadata (1.6 kB)\n",
            "Collecting nvidia-nvjitlink-cu12==12.6.85 (from torch)\n",
            "  Downloading nvidia_nvjitlink_cu12-12.6.85-py3-none-manylinux2010_x86_64.manylinux_2_12_x86_64.whl.metadata (1.5 kB)\n",
            "Collecting nvidia-cufile-cu12==1.11.1.6 (from torch)\n",
            "  Downloading nvidia_cufile_cu12-1.11.1.6-py3-none-manylinux2014_x86_64.manylinux_2_17_x86_64.whl.metadata (1.5 kB)\n",
            "Collecting triton==3.3.1 (from torch)\n",
            "  Downloading triton-3.3.1-cp310-cp310-manylinux_2_27_x86_64.manylinux_2_28_x86_64.whl.metadata (1.5 kB)\n",
            "Requirement already satisfied: setuptools>=40.8.0 in ./miniconda/envs/qai_env/lib/python3.10/site-packages (from triton==3.3.1->torch) (78.1.1)\n",
            "Collecting pillow!=8.3.*,>=5.3.0 (from torchvision)\n",
            "  Downloading pillow-11.3.0-cp310-cp310-manylinux_2_27_x86_64.manylinux_2_28_x86_64.whl.metadata (9.0 kB)\n",
            "Collecting wcwidth (from prettytable>=3.9.0->qai-hub)\n",
            "  Downloading wcwidth-0.2.13-py2.py3-none-any.whl.metadata (14 kB)\n",
            "Collecting mpmath<1.4,>=1.1.0 (from sympy>=1.13.3->torch)\n",
            "  Downloading mpmath-1.3.0-py3-none-any.whl.metadata (8.6 kB)\n",
            "Collecting MarkupSafe>=2.0 (from jinja2->torch)\n",
            "  Downloading MarkupSafe-3.0.2-cp310-cp310-manylinux_2_17_x86_64.manylinux2014_x86_64.whl.metadata (4.0 kB)\n",
            "Collecting charset_normalizer<4,>=2 (from requests->qai-hub)\n",
            "  Downloading charset_normalizer-3.4.2-cp310-cp310-manylinux_2_17_x86_64.manylinux2014_x86_64.whl.metadata (35 kB)\n",
            "Collecting idna<4,>=2.5 (from requests->qai-hub)\n",
            "  Downloading idna-3.10-py3-none-any.whl.metadata (10 kB)\n",
            "Collecting certifi>=2017.4.17 (from requests->qai-hub)\n",
            "  Downloading certifi-2025.6.15-py3-none-any.whl.metadata (2.4 kB)\n",
            "Using cached qai_hub-0.31.0-py3-none-any.whl (108 kB)\n",
            "Downloading h5py-3.14.0-cp310-cp310-manylinux_2_17_x86_64.manylinux2014_x86_64.whl (4.6 MB)\n",
            "   ━━━━━━━━━━━━━━━━━━━━━━━━━━━━━━━━━━━━━━━━ 4.6/4.6 MB 17.1 MB/s eta 0:00:00\n",
            "Downloading numpy-1.26.4-cp310-cp310-manylinux_2_17_x86_64.manylinux2014_x86_64.whl (18.2 MB)\n",
            "   ━━━━━━━━━━━━━━━━━━━━━━━━━━━━━━━━━━━━━━━━ 18.2/18.2 MB 81.4 MB/s eta 0:00:00\n",
            "Downloading protobuf-3.20.3-cp310-cp310-manylinux_2_12_x86_64.manylinux2010_x86_64.whl (1.1 MB)\n",
            "   ━━━━━━━━━━━━━━━━━━━━━━━━━━━━━━━━━━━━━━━━ 1.1/1.1 MB 59.0 MB/s eta 0:00:00\n",
            "Using cached s3transfer-0.10.4-py3-none-any.whl (83 kB)\n",
            "Using cached botocore-1.39.3-py3-none-any.whl (13.8 MB)\n",
            "Using cached jmespath-1.0.1-py3-none-any.whl (20 kB)\n",
            "Downloading python_dateutil-2.9.0.post0-py2.py3-none-any.whl (229 kB)\n",
            "Downloading urllib3-2.5.0-py3-none-any.whl (129 kB)\n",
            "Downloading onnx-1.17.0-cp310-cp310-manylinux_2_17_x86_64.manylinux2014_x86_64.whl (16.0 MB)\n",
            "   ━━━━━━━━━━━━━━━━━━━━━━━━━━━━━━━━━━━━━━━━ 16.0/16.0 MB 155.0 MB/s eta 0:00:00\n",
            "Downloading torch-2.7.1-cp310-cp310-manylinux_2_28_x86_64.whl (821.2 MB)\n",
            "   ━━━━━━━━━━━━━━━━━━━━━━━━━━━━━━━━━━━━━━━━ 821.2/821.2 MB 16.0 MB/s eta 0:00:00\n",
            "Downloading nvidia_cublas_cu12-12.6.4.1-py3-none-manylinux2014_x86_64.manylinux_2_17_x86_64.whl (393.1 MB)\n",
            "   ━━━━━━━━━━━━━━━━━━━━━━━━━━━━━━━━━━━━━━━━ 393.1/393.1 MB 59.0 MB/s eta 0:00:00\n",
            "Downloading nvidia_cuda_cupti_cu12-12.6.80-py3-none-manylinux2014_x86_64.manylinux_2_17_x86_64.whl (8.9 MB)\n",
            "   ━━━━━━━━━━━━━━━━━━━━━━━━━━━━━━━━━━━━━━━━ 8.9/8.9 MB 142.0 MB/s eta 0:00:00\n",
            "Downloading nvidia_cuda_nvrtc_cu12-12.6.77-py3-none-manylinux2014_x86_64.whl (23.7 MB)\n",
            "   ━━━━━━━━━━━━━━━━━━━━━━━━━━━━━━━━━━━━━━━━ 23.7/23.7 MB 155.8 MB/s eta 0:00:00\n",
            "Downloading nvidia_cuda_runtime_cu12-12.6.77-py3-none-manylinux2014_x86_64.manylinux_2_17_x86_64.whl (897 kB)\n",
            "   ━━━━━━━━━━━━━━━━━━━━━━━━━━━━━━━━━━━━━━━━ 897.7/897.7 kB 52.2 MB/s eta 0:00:00\n",
            "Downloading nvidia_cudnn_cu12-9.5.1.17-py3-none-manylinux_2_28_x86_64.whl (571.0 MB)\n",
            "   ━━━━━━━━━━━━━━━━━━━━━━━━━━━━━━━━━━━━━━━━ 571.0/571.0 MB 38.2 MB/s eta 0:00:00\n",
            "Downloading nvidia_cufft_cu12-11.3.0.4-py3-none-manylinux2014_x86_64.manylinux_2_17_x86_64.whl (200.2 MB)\n",
            "   ━━━━━━━━━━━━━━━━━━━━━━━━━━━━━━━━━━━━━━━━ 200.2/200.2 MB 65.7 MB/s eta 0:00:00\n",
            "Downloading nvidia_cufile_cu12-1.11.1.6-py3-none-manylinux2014_x86_64.manylinux_2_17_x86_64.whl (1.1 MB)\n",
            "   ━━━━━━━━━━━━━━━━━━━━━━━━━━━━━━━━━━━━━━━━ 1.1/1.1 MB 44.0 MB/s eta 0:00:00\n",
            "Downloading nvidia_curand_cu12-10.3.7.77-py3-none-manylinux2014_x86_64.manylinux_2_17_x86_64.whl (56.3 MB)\n",
            "   ━━━━━━━━━━━━━━━━━━━━━━━━━━━━━━━━━━━━━━━━ 56.3/56.3 MB 55.1 MB/s eta 0:00:00\n",
            "Downloading nvidia_cusolver_cu12-11.7.1.2-py3-none-manylinux2014_x86_64.manylinux_2_17_x86_64.whl (158.2 MB)\n",
            "   ━━━━━━━━━━━━━━━━━━━━━━━━━━━━━━━━━━━━━━━━ 158.2/158.2 MB 55.8 MB/s eta 0:00:00\n",
            "Downloading nvidia_cusparse_cu12-12.5.4.2-py3-none-manylinux2014_x86_64.manylinux_2_17_x86_64.whl (216.6 MB)\n",
            "   ━━━━━━━━━━━━━━━━━━━━━━━━━━━━━━━━━━━━━━━━ 216.6/216.6 MB 54.5 MB/s eta 0:00:00\n",
            "Downloading nvidia_cusparselt_cu12-0.6.3-py3-none-manylinux2014_x86_64.whl (156.8 MB)\n",
            "   ━━━━━━━━━━━━━━━━━━━━━━━━━━━━━━━━━━━━━━━━ 156.8/156.8 MB 55.3 MB/s eta 0:00:00\n",
            "Downloading nvidia_nccl_cu12-2.26.2-py3-none-manylinux2014_x86_64.manylinux_2_17_x86_64.whl (201.3 MB)\n",
            "   ━━━━━━━━━━━━━━━━━━━━━━━━━━━━━━━━━━━━━━━━ 201.3/201.3 MB 63.4 MB/s eta 0:00:00\n",
            "Downloading nvidia_nvjitlink_cu12-12.6.85-py3-none-manylinux2010_x86_64.manylinux_2_12_x86_64.whl (19.7 MB)\n",
            "   ━━━━━━━━━━━━━━━━━━━━━━━━━━━━━━━━━━━━━━━━ 19.7/19.7 MB 99.8 MB/s eta 0:00:00\n",
            "Downloading nvidia_nvtx_cu12-12.6.77-py3-none-manylinux2014_x86_64.manylinux_2_17_x86_64.whl (89 kB)\n",
            "Downloading triton-3.3.1-cp310-cp310-manylinux_2_27_x86_64.manylinux_2_28_x86_64.whl (155.6 MB)\n",
            "   ━━━━━━━━━━━━━━━━━━━━━━━━━━━━━━━━━━━━━━━━ 155.6/155.6 MB 58.9 MB/s eta 0:00:00\n",
            "Downloading torchvision-0.22.1-cp310-cp310-manylinux_2_28_x86_64.whl (7.5 MB)\n",
            "   ━━━━━━━━━━━━━━━━━━━━━━━━━━━━━━━━━━━━━━━━ 7.5/7.5 MB 100.9 MB/s eta 0:00:00\n",
            "Using cached backoff-2.2.1-py3-none-any.whl (15 kB)\n",
            "Downloading packaging-25.0-py3-none-any.whl (66 kB)\n",
            "Downloading pillow-11.3.0-cp310-cp310-manylinux_2_27_x86_64.manylinux_2_28_x86_64.whl (6.6 MB)\n",
            "   ━━━━━━━━━━━━━━━━━━━━━━━━━━━━━━━━━━━━━━━━ 6.6/6.6 MB 97.9 MB/s eta 0:00:00\n",
            "Downloading prettytable-3.16.0-py3-none-any.whl (33 kB)\n",
            "Using cached semver-3.0.4-py3-none-any.whl (17 kB)\n",
            "Downloading six-1.17.0-py2.py3-none-any.whl (11 kB)\n",
            "Downloading sympy-1.14.0-py3-none-any.whl (6.3 MB)\n",
            "   ━━━━━━━━━━━━━━━━━━━━━━━━━━━━━━━━━━━━━━━━ 6.3/6.3 MB 98.8 MB/s eta 0:00:00\n",
            "Downloading mpmath-1.3.0-py3-none-any.whl (536 kB)\n",
            "   ━━━━━━━━━━━━━━━━━━━━━━━━━━━━━━━━━━━━━━━━ 536.2/536.2 kB 24.5 MB/s eta 0:00:00\n",
            "Downloading typing_extensions-4.14.0-py3-none-any.whl (43 kB)\n",
            "Using cached deprecation-2.1.0-py2.py3-none-any.whl (11 kB)\n",
            "Downloading filelock-3.18.0-py3-none-any.whl (16 kB)\n",
            "Downloading fsspec-2025.5.1-py3-none-any.whl (199 kB)\n",
            "Downloading jinja2-3.1.6-py3-none-any.whl (134 kB)\n",
            "Downloading MarkupSafe-3.0.2-cp310-cp310-manylinux_2_17_x86_64.manylinux2014_x86_64.whl (20 kB)\n",
            "Downloading networkx-3.4.2-py3-none-any.whl (1.7 MB)\n",
            "   ━━━━━━━━━━━━━━━━━━━━━━━━━━━━━━━━━━━━━━━━ 1.7/1.7 MB 59.2 MB/s eta 0:00:00\n",
            "Downloading requests-2.32.4-py3-none-any.whl (64 kB)\n",
            "Downloading charset_normalizer-3.4.2-cp310-cp310-manylinux_2_17_x86_64.manylinux2014_x86_64.whl (149 kB)\n",
            "Downloading idna-3.10-py3-none-any.whl (70 kB)\n",
            "Downloading certifi-2025.6.15-py3-none-any.whl (157 kB)\n",
            "Downloading requests_toolbelt-1.0.0-py2.py3-none-any.whl (54 kB)\n",
            "Downloading tqdm-4.67.1-py3-none-any.whl (78 kB)\n",
            "Downloading wcwidth-0.2.13-py2.py3-none-any.whl (34 kB)\n",
            "Installing collected packages: wcwidth, nvidia-cusparselt-cu12, mpmath, urllib3, typing-extensions, triton, tqdm, sympy, six, semver, protobuf, prettytable, pillow, packaging, nvidia-nvtx-cu12, nvidia-nvjitlink-cu12, nvidia-nccl-cu12, nvidia-curand-cu12, nvidia-cufile-cu12, nvidia-cuda-runtime-cu12, nvidia-cuda-nvrtc-cu12, nvidia-cuda-cupti-cu12, nvidia-cublas-cu12, numpy, networkx, MarkupSafe, jmespath, idna, fsspec, filelock, charset_normalizer, certifi, backoff, requests, python-dateutil, onnx, nvidia-cusparse-cu12, nvidia-cufft-cu12, nvidia-cudnn-cu12, jinja2, h5py, deprecation, requests-toolbelt, nvidia-cusolver-cu12, botocore, torch, s3transfer, torchvision, qai-hub\n",
            "\n",
            "Successfully installed MarkupSafe-3.0.2 backoff-2.2.1 botocore-1.39.3 certifi-2025.6.15 charset_normalizer-3.4.2 deprecation-2.1.0 filelock-3.18.0 fsspec-2025.5.1 h5py-3.14.0 idna-3.10 jinja2-3.1.6 jmespath-1.0.1 mpmath-1.3.0 networkx-3.4.2 numpy-1.26.4 nvidia-cublas-cu12-12.6.4.1 nvidia-cuda-cupti-cu12-12.6.80 nvidia-cuda-nvrtc-cu12-12.6.77 nvidia-cuda-runtime-cu12-12.6.77 nvidia-cudnn-cu12-9.5.1.17 nvidia-cufft-cu12-11.3.0.4 nvidia-cufile-cu12-1.11.1.6 nvidia-curand-cu12-10.3.7.77 nvidia-cusolver-cu12-11.7.1.2 nvidia-cusparse-cu12-12.5.4.2 nvidia-cusparselt-cu12-0.6.3 nvidia-nccl-cu12-2.26.2 nvidia-nvjitlink-cu12-12.6.85 nvidia-nvtx-cu12-12.6.77 onnx-1.17.0 packaging-25.0 pillow-11.3.0 prettytable-3.16.0 protobuf-3.20.3 python-dateutil-2.9.0.post0 qai-hub-0.31.0 requests-2.32.4 requests-toolbelt-1.0.0 s3transfer-0.10.4 semver-3.0.4 six-1.17.0 sympy-1.14.0 torch-2.7.1 torchvision-0.22.1 tqdm-4.67.1 triton-3.3.1 typing-extensions-4.14.0 urllib3-2.5.0 wcwidth-0.2.13\n"
          ]
        }
      ]
    },
    {
      "cell_type": "code",
      "source": [
        "!pip install qai-hub onnx torch torchvision\n"
      ],
      "metadata": {
        "colab": {
          "base_uri": "https://localhost:8080/"
        },
        "id": "4JP8uyPdYhBe",
        "outputId": "f777aefd-8420-49bb-dd11-4ac281800515"
      },
      "execution_count": null,
      "outputs": [
        {
          "output_type": "stream",
          "name": "stdout",
          "text": [
            "Requirement already satisfied: qai-hub in /usr/local/lib/python3.11/dist-packages (0.31.0)\n",
            "Collecting onnx\n",
            "  Downloading onnx-1.18.0-cp311-cp311-manylinux_2_17_x86_64.manylinux2014_x86_64.whl.metadata (6.9 kB)\n",
            "Requirement already satisfied: torch in /usr/local/lib/python3.11/dist-packages (2.6.0+cu124)\n",
            "Requirement already satisfied: torchvision in /usr/local/lib/python3.11/dist-packages (0.21.0+cu124)\n",
            "Requirement already satisfied: backoff>=2.2 in /usr/local/lib/python3.11/dist-packages (from qai-hub) (2.2.1)\n",
            "Requirement already satisfied: deprecation in /usr/local/lib/python3.11/dist-packages (from qai-hub) (2.1.0)\n",
            "Requirement already satisfied: h5py<4,>=2.10.0 in /usr/local/lib/python3.11/dist-packages (from qai-hub) (3.14.0)\n",
            "Requirement already satisfied: numpy<2,>=1.22.0 in /usr/local/lib/python3.11/dist-packages (from qai-hub) (1.26.4)\n",
            "Requirement already satisfied: packaging>=20.0 in /usr/local/lib/python3.11/dist-packages (from qai-hub) (24.2)\n",
            "Requirement already satisfied: prettytable>=3.9.0 in /usr/local/lib/python3.11/dist-packages (from qai-hub) (3.16.0)\n",
            "Requirement already satisfied: protobuf<4,>=3.20 in /usr/local/lib/python3.11/dist-packages (from qai-hub) (3.20.3)\n",
            "Requirement already satisfied: requests in /usr/local/lib/python3.11/dist-packages (from qai-hub) (2.32.3)\n",
            "Requirement already satisfied: requests-toolbelt in /usr/local/lib/python3.11/dist-packages (from qai-hub) (1.0.0)\n",
            "Requirement already satisfied: s3transfer<0.11,>=0.10.3 in /usr/local/lib/python3.11/dist-packages (from qai-hub) (0.10.4)\n",
            "Requirement already satisfied: semver>=3.0 in /usr/local/lib/python3.11/dist-packages (from qai-hub) (3.0.4)\n",
            "Requirement already satisfied: tqdm in /usr/local/lib/python3.11/dist-packages (from qai-hub) (4.67.1)\n",
            "Requirement already satisfied: typing-extensions>=4.12.2 in /usr/local/lib/python3.11/dist-packages (from qai-hub) (4.14.0)\n",
            "INFO: pip is looking at multiple versions of onnx to determine which version is compatible with other requirements. This could take a while.\n",
            "  Downloading onnx-1.17.0-cp311-cp311-manylinux_2_17_x86_64.manylinux2014_x86_64.whl.metadata (16 kB)\n",
            "Requirement already satisfied: filelock in /usr/local/lib/python3.11/dist-packages (from torch) (3.18.0)\n",
            "Requirement already satisfied: networkx in /usr/local/lib/python3.11/dist-packages (from torch) (3.5)\n",
            "Requirement already satisfied: jinja2 in /usr/local/lib/python3.11/dist-packages (from torch) (3.1.6)\n",
            "Requirement already satisfied: fsspec in /usr/local/lib/python3.11/dist-packages (from torch) (2025.3.2)\n",
            "Collecting nvidia-cuda-nvrtc-cu12==12.4.127 (from torch)\n",
            "  Downloading nvidia_cuda_nvrtc_cu12-12.4.127-py3-none-manylinux2014_x86_64.whl.metadata (1.5 kB)\n",
            "Collecting nvidia-cuda-runtime-cu12==12.4.127 (from torch)\n",
            "  Downloading nvidia_cuda_runtime_cu12-12.4.127-py3-none-manylinux2014_x86_64.whl.metadata (1.5 kB)\n",
            "Collecting nvidia-cuda-cupti-cu12==12.4.127 (from torch)\n",
            "  Downloading nvidia_cuda_cupti_cu12-12.4.127-py3-none-manylinux2014_x86_64.whl.metadata (1.6 kB)\n",
            "Collecting nvidia-cudnn-cu12==9.1.0.70 (from torch)\n",
            "  Downloading nvidia_cudnn_cu12-9.1.0.70-py3-none-manylinux2014_x86_64.whl.metadata (1.6 kB)\n",
            "Collecting nvidia-cublas-cu12==12.4.5.8 (from torch)\n",
            "  Downloading nvidia_cublas_cu12-12.4.5.8-py3-none-manylinux2014_x86_64.whl.metadata (1.5 kB)\n",
            "Collecting nvidia-cufft-cu12==11.2.1.3 (from torch)\n",
            "  Downloading nvidia_cufft_cu12-11.2.1.3-py3-none-manylinux2014_x86_64.whl.metadata (1.5 kB)\n",
            "Collecting nvidia-curand-cu12==10.3.5.147 (from torch)\n",
            "  Downloading nvidia_curand_cu12-10.3.5.147-py3-none-manylinux2014_x86_64.whl.metadata (1.5 kB)\n",
            "Collecting nvidia-cusolver-cu12==11.6.1.9 (from torch)\n",
            "  Downloading nvidia_cusolver_cu12-11.6.1.9-py3-none-manylinux2014_x86_64.whl.metadata (1.6 kB)\n",
            "Collecting nvidia-cusparse-cu12==12.3.1.170 (from torch)\n",
            "  Downloading nvidia_cusparse_cu12-12.3.1.170-py3-none-manylinux2014_x86_64.whl.metadata (1.6 kB)\n",
            "Requirement already satisfied: nvidia-cusparselt-cu12==0.6.2 in /usr/local/lib/python3.11/dist-packages (from torch) (0.6.2)\n",
            "Requirement already satisfied: nvidia-nccl-cu12==2.21.5 in /usr/local/lib/python3.11/dist-packages (from torch) (2.21.5)\n",
            "Requirement already satisfied: nvidia-nvtx-cu12==12.4.127 in /usr/local/lib/python3.11/dist-packages (from torch) (12.4.127)\n",
            "Collecting nvidia-nvjitlink-cu12==12.4.127 (from torch)\n",
            "  Downloading nvidia_nvjitlink_cu12-12.4.127-py3-none-manylinux2014_x86_64.whl.metadata (1.5 kB)\n",
            "Requirement already satisfied: triton==3.2.0 in /usr/local/lib/python3.11/dist-packages (from torch) (3.2.0)\n",
            "Requirement already satisfied: sympy==1.13.1 in /usr/local/lib/python3.11/dist-packages (from torch) (1.13.1)\n",
            "Requirement already satisfied: mpmath<1.4,>=1.1.0 in /usr/local/lib/python3.11/dist-packages (from sympy==1.13.1->torch) (1.3.0)\n",
            "Requirement already satisfied: pillow!=8.3.*,>=5.3.0 in /usr/local/lib/python3.11/dist-packages (from torchvision) (11.2.1)\n",
            "Requirement already satisfied: wcwidth in /usr/local/lib/python3.11/dist-packages (from prettytable>=3.9.0->qai-hub) (0.2.13)\n",
            "Requirement already satisfied: botocore<2.0a.0,>=1.33.2 in /usr/local/lib/python3.11/dist-packages (from s3transfer<0.11,>=0.10.3->qai-hub) (1.39.3)\n",
            "Requirement already satisfied: MarkupSafe>=2.0 in /usr/local/lib/python3.11/dist-packages (from jinja2->torch) (3.0.2)\n",
            "Requirement already satisfied: charset-normalizer<4,>=2 in /usr/local/lib/python3.11/dist-packages (from requests->qai-hub) (3.4.2)\n",
            "Requirement already satisfied: idna<4,>=2.5 in /usr/local/lib/python3.11/dist-packages (from requests->qai-hub) (3.10)\n",
            "Requirement already satisfied: urllib3<3,>=1.21.1 in /usr/local/lib/python3.11/dist-packages (from requests->qai-hub) (2.4.0)\n",
            "Requirement already satisfied: certifi>=2017.4.17 in /usr/local/lib/python3.11/dist-packages (from requests->qai-hub) (2025.6.15)\n",
            "Requirement already satisfied: jmespath<2.0.0,>=0.7.1 in /usr/local/lib/python3.11/dist-packages (from botocore<2.0a.0,>=1.33.2->s3transfer<0.11,>=0.10.3->qai-hub) (1.0.1)\n",
            "Requirement already satisfied: python-dateutil<3.0.0,>=2.1 in /usr/local/lib/python3.11/dist-packages (from botocore<2.0a.0,>=1.33.2->s3transfer<0.11,>=0.10.3->qai-hub) (2.9.0.post0)\n",
            "Requirement already satisfied: six>=1.5 in /usr/local/lib/python3.11/dist-packages (from python-dateutil<3.0.0,>=2.1->botocore<2.0a.0,>=1.33.2->s3transfer<0.11,>=0.10.3->qai-hub) (1.17.0)\n",
            "Downloading onnx-1.17.0-cp311-cp311-manylinux_2_17_x86_64.manylinux2014_x86_64.whl (16.0 MB)\n",
            "\u001b[2K   \u001b[90m━━━━━━━━━━━━━━━━━━━━━━━━━━━━━━━━━━━━━━━━\u001b[0m \u001b[32m16.0/16.0 MB\u001b[0m \u001b[31m87.2 MB/s\u001b[0m eta \u001b[36m0:00:00\u001b[0m\n",
            "\u001b[?25hDownloading nvidia_cublas_cu12-12.4.5.8-py3-none-manylinux2014_x86_64.whl (363.4 MB)\n",
            "\u001b[2K   \u001b[90m━━━━━━━━━━━━━━━━━━━━━━━━━━━━━━━━━━━━━━━━\u001b[0m \u001b[32m363.4/363.4 MB\u001b[0m \u001b[31m2.9 MB/s\u001b[0m eta \u001b[36m0:00:00\u001b[0m\n",
            "\u001b[?25hDownloading nvidia_cuda_cupti_cu12-12.4.127-py3-none-manylinux2014_x86_64.whl (13.8 MB)\n",
            "\u001b[2K   \u001b[90m━━━━━━━━━━━━━━━━━━━━━━━━━━━━━━━━━━━━━━━━\u001b[0m \u001b[32m13.8/13.8 MB\u001b[0m \u001b[31m108.1 MB/s\u001b[0m eta \u001b[36m0:00:00\u001b[0m\n",
            "\u001b[?25hDownloading nvidia_cuda_nvrtc_cu12-12.4.127-py3-none-manylinux2014_x86_64.whl (24.6 MB)\n",
            "\u001b[2K   \u001b[90m━━━━━━━━━━━━━━━━━━━━━━━━━━━━━━━━━━━━━━━━\u001b[0m \u001b[32m24.6/24.6 MB\u001b[0m \u001b[31m87.9 MB/s\u001b[0m eta \u001b[36m0:00:00\u001b[0m\n",
            "\u001b[?25hDownloading nvidia_cuda_runtime_cu12-12.4.127-py3-none-manylinux2014_x86_64.whl (883 kB)\n",
            "\u001b[2K   \u001b[90m━━━━━━━━━━━━━━━━━━━━━━━━━━━━━━━━━━━━━━━━\u001b[0m \u001b[32m883.7/883.7 kB\u001b[0m \u001b[31m51.8 MB/s\u001b[0m eta \u001b[36m0:00:00\u001b[0m\n",
            "\u001b[?25hDownloading nvidia_cudnn_cu12-9.1.0.70-py3-none-manylinux2014_x86_64.whl (664.8 MB)\n",
            "\u001b[2K   \u001b[90m━━━━━━━━━━━━━━━━━━━━━━━━━━━━━━━━━━━━━━━━\u001b[0m \u001b[32m664.8/664.8 MB\u001b[0m \u001b[31m2.2 MB/s\u001b[0m eta \u001b[36m0:00:00\u001b[0m\n",
            "\u001b[?25hDownloading nvidia_cufft_cu12-11.2.1.3-py3-none-manylinux2014_x86_64.whl (211.5 MB)\n",
            "\u001b[2K   \u001b[90m━━━━━━━━━━━━━━━━━━━━━━━━━━━━━━━━━━━━━━━━\u001b[0m \u001b[32m211.5/211.5 MB\u001b[0m \u001b[31m5.6 MB/s\u001b[0m eta \u001b[36m0:00:00\u001b[0m\n",
            "\u001b[?25hDownloading nvidia_curand_cu12-10.3.5.147-py3-none-manylinux2014_x86_64.whl (56.3 MB)\n",
            "\u001b[2K   \u001b[90m━━━━━━━━━━━━━━━━━━━━━━━━━━━━━━━━━━━━━━━━\u001b[0m \u001b[32m56.3/56.3 MB\u001b[0m \u001b[31m15.2 MB/s\u001b[0m eta \u001b[36m0:00:00\u001b[0m\n",
            "\u001b[?25hDownloading nvidia_cusolver_cu12-11.6.1.9-py3-none-manylinux2014_x86_64.whl (127.9 MB)\n",
            "\u001b[2K   \u001b[90m━━━━━━━━━━━━━━━━━━━━━━━━━━━━━━━━━━━━━━━━\u001b[0m \u001b[32m127.9/127.9 MB\u001b[0m \u001b[31m7.6 MB/s\u001b[0m eta \u001b[36m0:00:00\u001b[0m\n",
            "\u001b[?25hDownloading nvidia_cusparse_cu12-12.3.1.170-py3-none-manylinux2014_x86_64.whl (207.5 MB)\n",
            "\u001b[2K   \u001b[90m━━━━━━━━━━━━━━━━━━━━━━━━━━━━━━━━━━━━━━━━\u001b[0m \u001b[32m207.5/207.5 MB\u001b[0m \u001b[31m5.6 MB/s\u001b[0m eta \u001b[36m0:00:00\u001b[0m\n",
            "\u001b[?25hDownloading nvidia_nvjitlink_cu12-12.4.127-py3-none-manylinux2014_x86_64.whl (21.1 MB)\n",
            "\u001b[2K   \u001b[90m━━━━━━━━━━━━━━━━━━━━━━━━━━━━━━━━━━━━━━━━\u001b[0m \u001b[32m21.1/21.1 MB\u001b[0m \u001b[31m72.1 MB/s\u001b[0m eta \u001b[36m0:00:00\u001b[0m\n",
            "\u001b[?25hInstalling collected packages: onnx, nvidia-nvjitlink-cu12, nvidia-curand-cu12, nvidia-cufft-cu12, nvidia-cuda-runtime-cu12, nvidia-cuda-nvrtc-cu12, nvidia-cuda-cupti-cu12, nvidia-cublas-cu12, nvidia-cusparse-cu12, nvidia-cudnn-cu12, nvidia-cusolver-cu12\n",
            "  Attempting uninstall: nvidia-nvjitlink-cu12\n",
            "    Found existing installation: nvidia-nvjitlink-cu12 12.5.82\n",
            "    Uninstalling nvidia-nvjitlink-cu12-12.5.82:\n",
            "      Successfully uninstalled nvidia-nvjitlink-cu12-12.5.82\n",
            "  Attempting uninstall: nvidia-curand-cu12\n",
            "    Found existing installation: nvidia-curand-cu12 10.3.6.82\n",
            "    Uninstalling nvidia-curand-cu12-10.3.6.82:\n",
            "      Successfully uninstalled nvidia-curand-cu12-10.3.6.82\n",
            "  Attempting uninstall: nvidia-cufft-cu12\n",
            "    Found existing installation: nvidia-cufft-cu12 11.2.3.61\n",
            "    Uninstalling nvidia-cufft-cu12-11.2.3.61:\n",
            "      Successfully uninstalled nvidia-cufft-cu12-11.2.3.61\n",
            "  Attempting uninstall: nvidia-cuda-runtime-cu12\n",
            "    Found existing installation: nvidia-cuda-runtime-cu12 12.5.82\n",
            "    Uninstalling nvidia-cuda-runtime-cu12-12.5.82:\n",
            "      Successfully uninstalled nvidia-cuda-runtime-cu12-12.5.82\n",
            "  Attempting uninstall: nvidia-cuda-nvrtc-cu12\n",
            "    Found existing installation: nvidia-cuda-nvrtc-cu12 12.5.82\n",
            "    Uninstalling nvidia-cuda-nvrtc-cu12-12.5.82:\n",
            "      Successfully uninstalled nvidia-cuda-nvrtc-cu12-12.5.82\n",
            "  Attempting uninstall: nvidia-cuda-cupti-cu12\n",
            "    Found existing installation: nvidia-cuda-cupti-cu12 12.5.82\n",
            "    Uninstalling nvidia-cuda-cupti-cu12-12.5.82:\n",
            "      Successfully uninstalled nvidia-cuda-cupti-cu12-12.5.82\n",
            "  Attempting uninstall: nvidia-cublas-cu12\n",
            "    Found existing installation: nvidia-cublas-cu12 12.5.3.2\n",
            "    Uninstalling nvidia-cublas-cu12-12.5.3.2:\n",
            "      Successfully uninstalled nvidia-cublas-cu12-12.5.3.2\n",
            "  Attempting uninstall: nvidia-cusparse-cu12\n",
            "    Found existing installation: nvidia-cusparse-cu12 12.5.1.3\n",
            "    Uninstalling nvidia-cusparse-cu12-12.5.1.3:\n",
            "      Successfully uninstalled nvidia-cusparse-cu12-12.5.1.3\n",
            "  Attempting uninstall: nvidia-cudnn-cu12\n",
            "    Found existing installation: nvidia-cudnn-cu12 9.3.0.75\n",
            "    Uninstalling nvidia-cudnn-cu12-9.3.0.75:\n",
            "      Successfully uninstalled nvidia-cudnn-cu12-9.3.0.75\n",
            "  Attempting uninstall: nvidia-cusolver-cu12\n",
            "    Found existing installation: nvidia-cusolver-cu12 11.6.3.83\n",
            "    Uninstalling nvidia-cusolver-cu12-11.6.3.83:\n",
            "      Successfully uninstalled nvidia-cusolver-cu12-11.6.3.83\n",
            "Successfully installed nvidia-cublas-cu12-12.4.5.8 nvidia-cuda-cupti-cu12-12.4.127 nvidia-cuda-nvrtc-cu12-12.4.127 nvidia-cuda-runtime-cu12-12.4.127 nvidia-cudnn-cu12-9.1.0.70 nvidia-cufft-cu12-11.2.1.3 nvidia-curand-cu12-10.3.5.147 nvidia-cusolver-cu12-11.6.1.9 nvidia-cusparse-cu12-12.3.1.170 nvidia-nvjitlink-cu12-12.4.127 onnx-1.17.0\n"
          ]
        }
      ]
    },
    {
      "cell_type": "code",
      "source": [
        "!pip show qai-hub\n"
      ],
      "metadata": {
        "colab": {
          "base_uri": "https://localhost:8080/"
        },
        "id": "lyIv_XxcZdTX",
        "outputId": "eea1ee91-88af-4898-f190-1592335ebdc9"
      },
      "execution_count": null,
      "outputs": [
        {
          "output_type": "stream",
          "name": "stdout",
          "text": [
            "Name: qai-hub\n",
            "Version: 0.31.0\n",
            "Summary: Python API for Qualcomm® AI Hub.\n",
            "Home-page: https://aihub.qualcomm.com/\n",
            "Author: Qualcomm® Technologies, Inc.\n",
            "Author-email: ai-hub-support@qti.qualcomm.com\n",
            "License: BSD License\n",
            "Location: /usr/local/lib/python3.11/dist-packages\n",
            "Requires: backoff, deprecation, h5py, numpy, packaging, prettytable, protobuf, requests, requests-toolbelt, s3transfer, semver, tqdm, typing-extensions\n",
            "Required-by: \n"
          ]
        }
      ]
    },
    {
      "cell_type": "code",
      "source": [
        "!qai-hub configure --api_token 8085f244004a8eecd82feba76dc95d3a0b2b9f09\n",
        "\n"
      ],
      "metadata": {
        "colab": {
          "base_uri": "https://localhost:8080/"
        },
        "id": "vTeal-4Ca6Ir",
        "outputId": "34282f40-a929-4378-88b0-0d291d8efa7a"
      },
      "execution_count": null,
      "outputs": [
        {
          "output_type": "stream",
          "name": "stdout",
          "text": [
            "2025-07-04 08:11:22.974 - INFO - Enabling verbose logging.\n",
            "qai-hub configuration saved to /root/.qai_hub/client.ini\n",
            "==================== /root/.qai_hub/client.ini ====================\n",
            "[api]\n",
            "api_token = 8085f244004a8eecd82feba76dc95d3a0b2b9f09\n",
            "api_url = https://app.aihub.qualcomm.com\n",
            "web_url = https://app.aihub.qualcomm.com\n",
            "verbose = True\n",
            "\n",
            "\n"
          ]
        }
      ]
    },
    {
      "cell_type": "code",
      "source": [
        "import qai_hub as hub\n",
        "hub.get_devices()"
      ],
      "metadata": {
        "colab": {
          "base_uri": "https://localhost:8080/"
        },
        "id": "0ovwxkyzbbmR",
        "outputId": "a82a5530-45d5-41d7-aa73-6b3da237331e"
      },
      "execution_count": null,
      "outputs": [
        {
          "output_type": "execute_result",
          "data": {
            "text/plain": [
              "[Device(name='Google Pixel 3 (Family)', os='10', attributes=['os:android', 'framework:tflite', 'framework:onnx', 'abi:aarch64-android', 'vendor:google', 'format:phone', 'chipset:qualcomm-snapdragon-845', 'chipset:sdm845', 'hexagon:v65', 'soc-model:1']),\n",
              " Device(name='Google Pixel 3', os='10', attributes=['os:android', 'framework:tflite', 'framework:onnx', 'abi:aarch64-android', 'vendor:google', 'format:phone', 'chipset:qualcomm-snapdragon-845', 'chipset:sdm845', 'hexagon:v65', 'soc-model:1']),\n",
              " Device(name='Google Pixel 3a', os='10', attributes=['os:android', 'framework:tflite', 'framework:onnx', 'abi:aarch64-android', 'vendor:google', 'format:phone', 'chipset:qualcomm-snapdragon-670', 'chipset:sdm670', 'hexagon:v65', 'soc-model:6']),\n",
              " Device(name='Google Pixel 3 XL', os='10', attributes=['os:android', 'framework:tflite', 'framework:onnx', 'abi:aarch64-android', 'vendor:google', 'format:phone', 'chipset:qualcomm-snapdragon-845', 'chipset:sdm845', 'hexagon:v65', 'soc-model:1']),\n",
              " Device(name='Google Pixel 4', os='10', attributes=['os:android', 'framework:tflite', 'framework:onnx', 'abi:aarch64-android', 'vendor:google', 'format:phone', 'chipset:qualcomm-snapdragon-855', 'chipset:sm8150', 'hexagon:v66', 'soc-model:12']),\n",
              " Device(name='Google Pixel 4', os='11', attributes=['os:android', 'framework:tflite', 'framework:onnx', 'abi:aarch64-android', 'vendor:google', 'format:phone', 'chipset:qualcomm-snapdragon-855', 'chipset:sm8150', 'hexagon:v66', 'soc-model:12']),\n",
              " Device(name='Google Pixel 4a', os='11', attributes=['os:android', 'framework:tflite', 'framework:onnx', 'abi:aarch64-android', 'vendor:google', 'format:phone', 'chipset:qualcomm-snapdragon-730g', 'chipset:sm7150-ab', 'hexagon:v65', 'soc-model:17']),\n",
              " Device(name='Google Pixel 5', os='11', attributes=['os:android', 'framework:tflite', 'framework:onnx', 'abi:aarch64-android', 'vendor:google', 'format:phone', 'chipset:qualcomm-snapdragon-765g', 'chipset:sm7250', 'hexagon:v66', 'soc-model:25']),\n",
              " Device(name='Samsung Galaxy Tab S7', os='11', attributes=['os:android', 'framework:tflite', 'framework:onnx', 'abi:aarch64-android', 'vendor:samsung', 'format:tablet', 'chipset:qualcomm-snapdragon-865+', 'chipset:sm8250-ab', 'hexagon:v66', 'soc-model:21']),\n",
              " Device(name='Samsung Galaxy Tab A8 (2021)', os='11', attributes=['os:android', 'framework:tflite', 'framework:onnx', 'abi:aarch64-android', 'vendor:samsung', 'format:tablet', 'chipset:qualcomm-snapdragon-429', 'chipset:sdm429']),\n",
              " Device(name='Samsung Galaxy Note 20 (Intl)', os='11', attributes=['os:android', 'framework:tflite', 'framework:onnx', 'abi:aarch64-android', 'vendor:samsung', 'format:phone', 'chipset:samsung-exynos-990']),\n",
              " Device(name='Samsung Galaxy S21 (Family)', os='11', attributes=['os:android', 'framework:tflite', 'framework:onnx', 'abi:aarch64-android', 'vendor:samsung', 'format:phone', 'chipset:qualcomm-snapdragon-888', 'chipset:sm8350', 'hexagon:v68', 'soc-model:30', 'framework:qnn']),\n",
              " Device(name='Samsung Galaxy S21', os='11', attributes=['os:android', 'framework:tflite', 'framework:onnx', 'abi:aarch64-android', 'vendor:samsung', 'format:phone', 'chipset:qualcomm-snapdragon-888', 'chipset:sm8350', 'hexagon:v68', 'soc-model:30', 'framework:qnn']),\n",
              " Device(name='Samsung Galaxy S21+', os='11', attributes=['os:android', 'framework:tflite', 'framework:onnx', 'abi:aarch64-android', 'vendor:samsung', 'format:phone', 'chipset:qualcomm-snapdragon-888', 'chipset:sm8350', 'hexagon:v68', 'soc-model:30', 'framework:qnn']),\n",
              " Device(name='Samsung Galaxy S21 Ultra', os='11', attributes=['os:android', 'framework:tflite', 'framework:onnx', 'abi:aarch64-android', 'vendor:samsung', 'format:phone', 'chipset:qualcomm-snapdragon-888', 'chipset:sm8350', 'hexagon:v68', 'soc-model:30', 'framework:qnn']),\n",
              " Device(name='Xiaomi Redmi Note 10 5G', os='11', attributes=['os:android', 'framework:tflite', 'framework:onnx', 'abi:aarch64-android', 'vendor:oneplus', 'format:phone', 'chipset:qualcomm-snapdragon-678', 'chipset:sm6150-ac', 'hexagon:v66', 'soc-model:16']),\n",
              " Device(name='Google Pixel 3a XL', os='12', attributes=['os:android', 'framework:tflite', 'framework:onnx', 'abi:aarch64-android', 'vendor:google', 'format:phone', 'chipset:qualcomm-snapdragon-670', 'chipset:sdm670', 'hexagon:v65', 'soc-model:6']),\n",
              " Device(name='Google Pixel 4a', os='12', attributes=['os:android', 'framework:tflite', 'framework:onnx', 'abi:aarch64-android', 'vendor:google', 'format:phone', 'chipset:qualcomm-snapdragon-730g', 'chipset:sm7150-ab', 'hexagon:v65', 'soc-model:17']),\n",
              " Device(name='Google Pixel 5 (Family)', os='12', attributes=['os:android', 'framework:tflite', 'framework:onnx', 'abi:aarch64-android', 'vendor:google', 'format:phone', 'chipset:qualcomm-snapdragon-765g', 'chipset:sm7250', 'hexagon:v66', 'soc-model:25']),\n",
              " Device(name='Google Pixel 5', os='12', attributes=['os:android', 'framework:tflite', 'framework:onnx', 'abi:aarch64-android', 'vendor:google', 'format:phone', 'chipset:qualcomm-snapdragon-765g', 'chipset:sm7250', 'hexagon:v66', 'soc-model:25']),\n",
              " Device(name='Google Pixel 5a 5G', os='12', attributes=['os:android', 'framework:tflite', 'framework:onnx', 'abi:aarch64-android', 'vendor:google', 'format:phone', 'chipset:qualcomm-snapdragon-765g', 'chipset:sm7250', 'hexagon:v66', 'soc-model:25']),\n",
              " Device(name='Google Pixel 6', os='12', attributes=['os:android', 'framework:tflite', 'framework:onnx', 'abi:aarch64-android', 'vendor:google', 'format:phone', 'chipset:google-tensor']),\n",
              " Device(name='Samsung Galaxy A53 5G', os='12', attributes=['os:android', 'framework:tflite', 'framework:onnx', 'abi:aarch64-android', 'vendor:samsung', 'format:phone', 'chipset:samsung-exynos-1280']),\n",
              " Device(name='Samsung Galaxy A73 5G', os='12', attributes=['os:android', 'framework:tflite', 'framework:onnx', 'abi:aarch64-android', 'vendor:samsung', 'format:phone', 'chipset:qualcomm-snapdragon-778g', 'chipset:sm7325', 'hexagon:v68', 'soc-model:35', 'framework:qnn']),\n",
              " Device(name='RB3 Gen 2 (Proxy)', os='12', attributes=['os:android', 'framework:tflite', 'framework:onnx', 'abi:aarch64-android', 'vendor:qualcomm', 'format:iot', 'chipset:qualcomm-qcs6490-proxy', 'hexagon:v68', 'soc-model:35', 'framework:qnn']),\n",
              " Device(name='QCS6490 (Proxy)', os='12', attributes=['os:android', 'framework:tflite', 'framework:onnx', 'abi:aarch64-android', 'vendor:qualcomm', 'format:iot', 'chipset:qualcomm-qcs6490-proxy', 'hexagon:v68', 'soc-model:35', 'framework:qnn']),\n",
              " Device(name='RB5 (Proxy)', os='12', attributes=['os:android', 'framework:tflite', 'framework:onnx', 'abi:aarch64-android', 'vendor:qualcomm', 'format:iot', 'chipset:qualcomm-qcs8250-proxy', 'hexagon:v66', 'soc-model:21']),\n",
              " Device(name='QCS8250 (Proxy)', os='12', attributes=['os:android', 'framework:tflite', 'framework:onnx', 'abi:aarch64-android', 'vendor:qualcomm', 'format:iot', 'chipset:qualcomm-qcs8250-proxy', 'hexagon:v66', 'soc-model:21']),\n",
              " Device(name='QCS8550 (Proxy)', os='12', attributes=['os:android', 'framework:tflite', 'framework:onnx', 'abi:aarch64-android', 'vendor:qualcomm', 'format:iot', 'chipset:qualcomm-qcs8550-proxy', 'hexagon:v73', 'soc-model:43', 'htp-supports-fp16:true', 'framework:qnn']),\n",
              " Device(name='Samsung Galaxy S21 (Family)', os='12', attributes=['os:android', 'framework:tflite', 'framework:onnx', 'abi:aarch64-android', 'vendor:samsung', 'format:phone', 'chipset:qualcomm-snapdragon-888', 'chipset:sm8350', 'hexagon:v68', 'soc-model:30', 'framework:qnn']),\n",
              " Device(name='Samsung Galaxy S21', os='12', attributes=['os:android', 'framework:tflite', 'framework:onnx', 'abi:aarch64-android', 'vendor:samsung', 'format:phone', 'chipset:qualcomm-snapdragon-888', 'chipset:sm8350', 'hexagon:v68', 'soc-model:30', 'framework:qnn']),\n",
              " Device(name='Samsung Galaxy S21 Ultra', os='12', attributes=['os:android', 'framework:tflite', 'framework:onnx', 'abi:aarch64-android', 'vendor:samsung', 'format:phone', 'chipset:qualcomm-snapdragon-888', 'chipset:sm8350', 'hexagon:v68', 'soc-model:30', 'framework:qnn']),\n",
              " Device(name='Samsung Galaxy S22 (Family)', os='12', attributes=['os:android', 'framework:tflite', 'framework:onnx', 'abi:aarch64-android', 'vendor:samsung', 'format:phone', 'chipset:qualcomm-snapdragon-8gen1', 'chipset:sm8450', 'hexagon:v69', 'soc-model:36', 'htp-supports-fp16:true', 'framework:qnn']),\n",
              " Device(name='Samsung Galaxy S22 Ultra 5G', os='12', attributes=['os:android', 'framework:tflite', 'framework:onnx', 'abi:aarch64-android', 'vendor:samsung', 'format:phone', 'chipset:qualcomm-snapdragon-8gen1', 'chipset:sm8450', 'hexagon:v69', 'soc-model:36', 'htp-supports-fp16:true', 'framework:qnn']),\n",
              " Device(name='Samsung Galaxy S22 5G', os='12', attributes=['os:android', 'framework:tflite', 'framework:onnx', 'abi:aarch64-android', 'vendor:samsung', 'format:phone', 'chipset:qualcomm-snapdragon-8gen1', 'chipset:sm8450', 'hexagon:v69', 'soc-model:36', 'htp-supports-fp16:true', 'framework:qnn']),\n",
              " Device(name='Samsung Galaxy S22+ 5G', os='12', attributes=['os:android', 'framework:tflite', 'framework:onnx', 'abi:aarch64-android', 'vendor:samsung', 'format:phone', 'chipset:qualcomm-snapdragon-8gen1', 'chipset:sm8450', 'hexagon:v69', 'soc-model:36', 'htp-supports-fp16:true', 'framework:qnn']),\n",
              " Device(name='Samsung Galaxy Tab S8', os='12', attributes=['os:android', 'framework:tflite', 'framework:onnx', 'abi:aarch64-android', 'vendor:samsung', 'format:tablet', 'chipset:qualcomm-snapdragon-8gen1', 'chipset:sm8450', 'hexagon:v69', 'soc-model:36', 'htp-supports-fp16:true', 'framework:qnn']),\n",
              " Device(name='Xiaomi 12 (Family)', os='12', attributes=['os:android', 'framework:tflite', 'framework:onnx', 'abi:aarch64-android', 'vendor:xiaomi', 'format:phone', 'chipset:qualcomm-snapdragon-8gen1', 'chipset:sm8450', 'hexagon:v69', 'soc-model:36', 'htp-supports-fp16:true', 'framework:qnn']),\n",
              " Device(name='Xiaomi 12', os='12', attributes=['os:android', 'framework:tflite', 'framework:onnx', 'abi:aarch64-android', 'vendor:xiaomi', 'format:phone', 'chipset:qualcomm-snapdragon-8gen1', 'chipset:sm8450', 'hexagon:v69', 'soc-model:36', 'htp-supports-fp16:true', 'framework:qnn']),\n",
              " Device(name='Xiaomi 12 Pro', os='12', attributes=['os:android', 'framework:tflite', 'framework:onnx', 'abi:aarch64-android', 'vendor:xiaomi', 'format:phone', 'chipset:qualcomm-snapdragon-8gen1', 'chipset:sm8450', 'hexagon:v69', 'soc-model:36', 'htp-supports-fp16:true', 'framework:qnn']),\n",
              " Device(name='Google Pixel 6 (Family)', os='13', attributes=['os:android', 'framework:tflite', 'framework:onnx', 'abi:aarch64-android', 'vendor:google', 'format:phone', 'chipset:google-tensor']),\n",
              " Device(name='Google Pixel 6', os='13', attributes=['os:android', 'framework:tflite', 'framework:onnx', 'abi:aarch64-android', 'vendor:google', 'format:phone', 'chipset:google-tensor']),\n",
              " Device(name='Google Pixel 6a', os='13', attributes=['os:android', 'framework:tflite', 'framework:onnx', 'abi:aarch64-android', 'vendor:google', 'format:phone', 'chipset:google-tensor']),\n",
              " Device(name='Google Pixel 7 (Family)', os='13', attributes=['os:android', 'framework:tflite', 'framework:onnx', 'abi:aarch64-android', 'vendor:google', 'format:phone', 'chipset:google-tensor-g2']),\n",
              " Device(name='Google Pixel 7', os='13', attributes=['os:android', 'framework:tflite', 'framework:onnx', 'abi:aarch64-android', 'vendor:google', 'format:phone', 'chipset:google-tensor-g2']),\n",
              " Device(name='Google Pixel 7 Pro', os='13', attributes=['os:android', 'framework:tflite', 'framework:onnx', 'abi:aarch64-android', 'vendor:google', 'format:phone', 'chipset:google-tensor-g2']),\n",
              " Device(name='Samsung Galaxy A14 5G', os='13', attributes=['os:android', 'framework:tflite', 'framework:onnx', 'abi:aarch64-android', 'vendor:samsung', 'format:phone', 'chipset:samsung-exynos-1330']),\n",
              " Device(name='Samsung Galaxy S22 5G', os='13', attributes=['os:android', 'framework:tflite', 'framework:onnx', 'abi:aarch64-android', 'vendor:samsung', 'format:phone', 'chipset:qualcomm-snapdragon-8gen1', 'chipset:sm8450', 'hexagon:v69', 'soc-model:36', 'htp-supports-fp16:true', 'framework:qnn']),\n",
              " Device(name='QCS8450 (Proxy)', os='13', attributes=['os:android', 'framework:tflite', 'framework:onnx', 'abi:aarch64-android', 'vendor:qualcomm', 'format:xr', 'chipset:qualcomm-qcs8450-proxy', 'hexagon:v69', 'soc-model:36', 'htp-supports-fp16:true', 'framework:qnn']),\n",
              " Device(name='XR2 Gen 2 (Proxy)', os='13', attributes=['os:android', 'framework:tflite', 'framework:onnx', 'abi:aarch64-android', 'vendor:qualcomm', 'format:xr', 'chipset:qualcomm-qcs8450-proxy', 'hexagon:v69', 'soc-model:36', 'htp-supports-fp16:true', 'framework:qnn']),\n",
              " Device(name='Samsung Galaxy S23 (Family)', os='13', attributes=['os:android', 'framework:tflite', 'framework:onnx', 'abi:aarch64-android', 'vendor:samsung', 'format:phone', 'chipset:qualcomm-snapdragon-8gen2', 'chipset:sm8550', 'hexagon:v73', 'soc-model:43', 'htp-supports-fp16:true', 'framework:qnn']),\n",
              " Device(name='SA8650 (Proxy)', os='13', attributes=['os:android', 'framework:tflite', 'framework:onnx', 'abi:aarch64-android', 'format:auto', 'vendor:qualcomm', 'chipset:qualcomm-sa8650p-proxy', 'hexagon:v73', 'soc-model:43', 'htp-supports-fp16:true', 'framework:qnn']),\n",
              " Device(name='SA8775 (Proxy)', os='13', attributes=['os:android', 'framework:tflite', 'framework:onnx', 'abi:aarch64-android', 'format:auto', 'vendor:qualcomm', 'chipset:qualcomm-sa8775p-proxy', 'hexagon:v73', 'soc-model:43', 'htp-supports-fp16:true', 'framework:qnn']),\n",
              " Device(name='SA8255 (Proxy)', os='13', attributes=['os:android', 'framework:tflite', 'framework:onnx', 'abi:aarch64-android', 'format:auto', 'vendor:qualcomm', 'chipset:qualcomm-sa8255p-proxy', 'hexagon:v73', 'soc-model:43', 'htp-supports-fp16:true', 'framework:qnn']),\n",
              " Device(name='Samsung Galaxy S23', os='13', attributes=['os:android', 'framework:tflite', 'framework:onnx', 'abi:aarch64-android', 'vendor:samsung', 'format:phone', 'chipset:qualcomm-snapdragon-8gen2', 'chipset:sm8550', 'hexagon:v73', 'soc-model:43', 'htp-supports-fp16:true', 'framework:qnn']),\n",
              " Device(name='Samsung Galaxy S23+', os='13', attributes=['os:android', 'framework:tflite', 'framework:onnx', 'abi:aarch64-android', 'vendor:samsung', 'format:phone', 'chipset:qualcomm-snapdragon-8gen2', 'chipset:sm8550', 'hexagon:v73', 'soc-model:43', 'htp-supports-fp16:true', 'framework:qnn']),\n",
              " Device(name='Samsung Galaxy S23 Ultra', os='13', attributes=['os:android', 'framework:tflite', 'framework:onnx', 'abi:aarch64-android', 'vendor:samsung', 'format:phone', 'chipset:qualcomm-snapdragon-8gen2', 'chipset:sm8550', 'hexagon:v73', 'soc-model:43', 'htp-supports-fp16:true', 'framework:qnn']),\n",
              " Device(name='Google Pixel 7', os='14', attributes=['os:android', 'framework:tflite', 'framework:onnx', 'abi:aarch64-android', 'vendor:google', 'format:phone', 'chipset:google-tensor-g2']),\n",
              " Device(name='Google Pixel 8 (Family)', os='14', attributes=['os:android', 'framework:tflite', 'framework:onnx', 'abi:aarch64-android', 'vendor:google', 'format:phone', 'chipset:google-tensor-g3']),\n",
              " Device(name='Google Pixel 8', os='14', attributes=['os:android', 'framework:tflite', 'framework:onnx', 'abi:aarch64-android', 'vendor:google', 'format:phone', 'chipset:google-tensor-g3']),\n",
              " Device(name='Google Pixel 8 Pro', os='14', attributes=['os:android', 'framework:tflite', 'framework:onnx', 'abi:aarch64-android', 'vendor:google', 'format:phone', 'chipset:google-tensor-g3']),\n",
              " Device(name='Samsung Galaxy S24 (Family)', os='14', attributes=['os:android', 'framework:tflite', 'framework:onnx', 'abi:aarch64-android', 'vendor:samsung', 'format:phone', 'chipset:qualcomm-snapdragon-8gen3', 'chipset:sm8650', 'hexagon:v75', 'soc-model:57', 'htp-supports-fp16:true', 'framework:qnn']),\n",
              " Device(name='Samsung Galaxy S24', os='14', attributes=['os:android', 'framework:tflite', 'framework:onnx', 'abi:aarch64-android', 'vendor:samsung', 'format:phone', 'chipset:qualcomm-snapdragon-8gen3', 'chipset:sm8650', 'hexagon:v75', 'soc-model:57', 'htp-supports-fp16:true', 'framework:qnn']),\n",
              " Device(name='Samsung Galaxy S24 Ultra', os='14', attributes=['os:android', 'framework:tflite', 'framework:onnx', 'abi:aarch64-android', 'vendor:samsung', 'format:phone', 'chipset:qualcomm-snapdragon-8gen3', 'chipset:sm8650', 'hexagon:v75', 'soc-model:57', 'htp-supports-fp16:true', 'framework:qnn']),\n",
              " Device(name='Samsung Galaxy S24+', os='14', attributes=['os:android', 'framework:tflite', 'framework:onnx', 'abi:aarch64-android', 'vendor:samsung', 'format:phone', 'chipset:qualcomm-snapdragon-8gen3', 'chipset:sm8650', 'hexagon:v75', 'soc-model:57', 'htp-supports-fp16:true', 'framework:qnn']),\n",
              " Device(name='Google Pixel 9 (Family)', os='15', attributes=['os:android', 'framework:tflite', 'framework:onnx', 'abi:aarch64-android', 'vendor:google', 'format:phone', 'chipset:google-tensor-g4']),\n",
              " Device(name='Google Pixel 9', os='15', attributes=['os:android', 'framework:tflite', 'framework:onnx', 'abi:aarch64-android', 'vendor:google', 'format:phone', 'chipset:google-tensor-g4']),\n",
              " Device(name='Google Pixel 9 Pro', os='15', attributes=['os:android', 'framework:tflite', 'framework:onnx', 'abi:aarch64-android', 'vendor:google', 'format:phone', 'chipset:google-tensor-g4']),\n",
              " Device(name='Google Pixel 9 Pro XL', os='15', attributes=['os:android', 'framework:tflite', 'framework:onnx', 'abi:aarch64-android', 'vendor:google', 'format:phone', 'chipset:google-tensor-g4']),\n",
              " Device(name='Samsung Galaxy S25', os='15', attributes=['os:android', 'framework:tflite', 'framework:onnx', 'abi:aarch64-android', 'vendor:samsung', 'format:phone', 'chipset:qualcomm-snapdragon-8-elite-for-galaxy', 'chipset:sm8750-ac', 'hexagon:v79', 'soc-model:69', 'htp-supports-fp16:true', 'framework:qnn']),\n",
              " Device(name='Samsung Galaxy S25 Ultra', os='15', attributes=['os:android', 'framework:tflite', 'framework:onnx', 'abi:aarch64-android', 'vendor:samsung', 'format:phone', 'chipset:qualcomm-snapdragon-8-elite-for-galaxy', 'chipset:sm8750-ac', 'hexagon:v79', 'soc-model:69', 'htp-supports-fp16:true', 'framework:qnn']),\n",
              " Device(name='Samsung Galaxy S25+', os='15', attributes=['os:android', 'framework:tflite', 'framework:onnx', 'abi:aarch64-android', 'vendor:samsung', 'format:phone', 'chipset:qualcomm-snapdragon-8-elite-for-galaxy', 'chipset:sm8750-ac', 'hexagon:v79', 'soc-model:69', 'htp-supports-fp16:true', 'framework:qnn']),\n",
              " Device(name='Samsung Galaxy S25 (Family)', os='15', attributes=['os:android', 'framework:tflite', 'framework:onnx', 'abi:aarch64-android', 'vendor:samsung', 'format:phone', 'chipset:qualcomm-snapdragon-8-elite-for-galaxy', 'chipset:sm8750-ac', 'hexagon:v79', 'soc-model:69', 'htp-supports-fp16:true', 'framework:qnn']),\n",
              " Device(name='Snapdragon 8cx Gen 3 CRD', os='11', attributes=['os:windows', 'format:compute', 'framework:onnx', 'vendor:qualcomm', 'abi:aarch64-windows', 'chipset:qualcomm-snapdragon-8cxgen3', 'chipset:sc8280x', 'hexagon:v68', 'soc-model:37', 'framework:qnn']),\n",
              " Device(name='Snapdragon X Elite CRD', os='11', attributes=['os:windows', 'format:compute', 'framework:onnx', 'vendor:qualcomm', 'abi:aarch64-windows', 'chipset:qualcomm-snapdragon-x-elite', 'chipset:sc8380xp', 'hexagon:v73', 'soc-model:60', 'htp-supports-fp16:true', 'framework:qnn']),\n",
              " Device(name='Snapdragon X Plus 8-Core CRD', os='11', attributes=['os:windows', 'format:compute', 'framework:onnx', 'vendor:qualcomm', 'abi:aarch64-windows', 'chipset:qualcomm-snapdragon-x-plus-8-core', 'chipset:sc8340xp', 'hexagon:v73', 'soc-model:60', 'htp-supports-fp16:true', 'framework:qnn']),\n",
              " Device(name='Snapdragon 8 Elite QRD', os='15', attributes=['os:android', 'framework:tflite', 'framework:onnx', 'vendor:qualcomm', 'abi:aarch64-android', 'format:phone', 'chipset:qualcomm-snapdragon-8-elite', 'chipset:sm8750', 'hexagon:v79', 'soc-model:69', 'htp-supports-fp16:true', 'framework:qnn']),\n",
              " Device(name='SA8295P ADP', os='14', attributes=['os:android', 'framework:tflite', 'framework:onnx', 'vendor:qualcomm', 'abi:aarch64-android', 'format:auto', 'chipset:qualcomm-sa8295p', 'hexagon:v68', 'soc-model:39', 'htp-supports-fp16:true', 'framework:qnn']),\n",
              " Device(name='SA8775P ADP', os='14', attributes=['os:android', 'framework:tflite', 'framework:onnx', 'vendor:qualcomm', 'abi:aarch64-android', 'format:auto', 'chipset:qualcomm-sa8775p', 'hexagon:v73', 'soc-model:52', 'htp-supports-fp16:true', 'framework:qnn']),\n",
              " Device(name='SA7255P ADP', os='14', attributes=['os:android', 'framework:tflite', 'framework:onnx', 'vendor:qualcomm', 'abi:aarch64-android', 'format:auto', 'chipset:qualcomm-sa7255p', 'hexagon:v75', 'soc-model:67', 'htp-supports-fp16:true', 'framework:qnn']),\n",
              " Device(name='QCS9075 (Proxy)', os='14', attributes=['os:android', 'framework:tflite', 'framework:onnx', 'vendor:qualcomm', 'abi:aarch64-android', 'format:iot', 'chipset:qualcomm-qcs9075-proxy', 'hexagon:v73', 'soc-model:52', 'htp-supports-fp16:true', 'framework:qnn']),\n",
              " Device(name='QCS8275 (Proxy)', os='14', attributes=['os:android', 'framework:tflite', 'framework:onnx', 'vendor:qualcomm', 'abi:aarch64-android', 'format:iot', 'chipset:qualcomm-qcs8275-proxy', 'hexagon:v75', 'soc-model:67', 'htp-supports-fp16:true', 'framework:qnn'])]"
            ]
          },
          "metadata": {},
          "execution_count": 10
        }
      ]
    },
    {
      "cell_type": "code",
      "source": [
        "!mkdir -p /content/drive/MyDrive/onnx_models\n"
      ],
      "metadata": {
        "id": "VrBjpJ8KfGh7"
      },
      "execution_count": null,
      "outputs": []
    },
    {
      "cell_type": "code",
      "source": [
        "import torch\n",
        "import sys\n",
        "\n",
        "# Add path to main.py so we can import TurbRCAE\n",
        "sys.path.append('/content/drive/MyDrive/TurbRCAE')\n",
        "from main import TurbRCAE  #Import model class\n",
        "\n",
        "def export(model_path, onnx_output_path):\n",
        "    model = TurbRCAE(base_ch=32)\n",
        "    model.load_state_dict(torch.load(model_path, map_location='cpu'))\n",
        "    model.eval()\n",
        "\n",
        "    dummy_input = torch.randn(1, 3, 192, 192)  # Input shape\n",
        "\n",
        "    torch.onnx.export(\n",
        "        model,\n",
        "        dummy_input,\n",
        "        onnx_output_path,\n",
        "        export_params=True,\n",
        "        opset_version=11,\n",
        "        do_constant_folding=True,\n",
        "        input_names=['input'],\n",
        "        output_names=['output'],\n",
        "        dynamic_axes={'input': {0: 'batch_size'}, 'output': {0: 'batch_size'}}\n",
        "    )\n",
        "    print(f\"Exported ONNX model to: {onnx_output_path}\")\n",
        "\n",
        "# Export all 3 models\n",
        "export(\n",
        "    \"/content/drive/MyDrive/blur_32_channel_vgg_mse_108_epoch/best_model.pt\",\n",
        "    \"/content/drive/MyDrive/blur.onnx\"\n",
        ")\n",
        "\n",
        "export(\n",
        "    \"/content/drive/MyDrive/tilt_32_channel_vgg_mse_64_epoch/best_model.pt\",\n",
        "    \"/content/drive/MyDrive/tilt.onnx\"\n",
        ")\n",
        "\n",
        "export(\n",
        "    \"/content/drive/MyDrive/turb_32_channel_vgg_mse_69_epoch/best_model.pt\",\n",
        "    \"/content/drive/MyDrive/turb.onnx\"\n",
        ")\n"
      ],
      "metadata": {
        "id": "spahnPs8e9z7",
        "colab": {
          "base_uri": "https://localhost:8080/"
        },
        "outputId": "75193b7d-85c1-4f26-da4c-b09da55e9a85"
      },
      "execution_count": null,
      "outputs": [
        {
          "output_type": "stream",
          "name": "stdout",
          "text": [
            "Exported ONNX model to: /content/drive/MyDrive/blur.onnx\n",
            "Exported ONNX model to: /content/drive/MyDrive/tilt.onnx\n",
            "Exported ONNX model to: /content/drive/MyDrive/turb.onnx\n"
          ]
        }
      ]
    },
    {
      "cell_type": "code",
      "source": [
        "from google.colab import drive\n",
        "drive.mount('/content/drive')"
      ],
      "metadata": {
        "colab": {
          "base_uri": "https://localhost:8080/"
        },
        "id": "QgcEdxXr8Dmj",
        "outputId": "3af9ea95-2b77-476b-896d-243f6c6bbad9"
      },
      "execution_count": null,
      "outputs": [
        {
          "output_type": "stream",
          "name": "stdout",
          "text": [
            "Mounted at /content/drive\n"
          ]
        }
      ]
    },
    {
      "cell_type": "code",
      "source": [
        "import gc\n",
        "import os\n",
        "import time\n",
        "from datetime import datetime\n",
        "#Imports included due to quantization\n",
        "import gc\n",
        "import os\n",
        "import time\n",
        "from datetime import datetime\n",
        "import glob  # Add this line\n",
        "from torchvision.transforms.functional import to_tensor\n",
        "\n",
        "\n",
        "\n",
        "import cv2\n",
        "import matplotlib.pyplot as plt\n",
        "import numpy as np\n",
        "import torch\n",
        "\n",
        "\n",
        "\n",
        "import cv2\n",
        "import matplotlib.pyplot as plt\n",
        "import numpy as np\n",
        "import torch\n",
        "import torch.nn as nn\n",
        "import torch.nn.functional as F\n",
        "import torch.optim as optim\n",
        "from skimage.metrics import peak_signal_noise_ratio as psnr\n",
        "from skimage.metrics import structural_similarity as ssim\n",
        "\n",
        "# from torchmetrics.image import StructuralSimilarityIndexMeasure\n",
        "# import kornia.losses as kloss\n",
        "from sklearn.model_selection import train_test_split\n",
        "from torch.utils.data import DataLoader, Dataset\n",
        "from torchvision import models, transforms\n",
        "from torchvision.transforms import v2 as transforms\n",
        "\n",
        "import json\n",
        "\n",
        "\n",
        "class ATSynDataset(Dataset):\n",
        "    def __init__(\n",
        "        self,\n",
        "        path,\n",
        "        transform=None,\n",
        "        image_size=(192, 192),\n",
        "        split=\"train\",\n",
        "        preload_data=False,\n",
        "        degradation_type=\"turb\",\n",
        "    ):\n",
        "        self.base_path = path\n",
        "        self.transform = transform\n",
        "        self.image_size = image_size\n",
        "        self.xy_paths = []\n",
        "        self.preloaded_data = []\n",
        "        self.preload_data = preload_data\n",
        "\n",
        "        ground_truth_filename = \"gt.jpg\"\n",
        "\n",
        "        # Detect whether we're given a single scene directory or full dataset\n",
        "        is_single_scene = os.path.exists(os.path.join(self.base_path, degradation_type))\n",
        "\n",
        "        if is_single_scene:\n",
        "            # --- Single scene logic ---\n",
        "            ground_truth_path = os.path.join(self.base_path, ground_truth_filename)\n",
        "            sample_turb_dir = os.path.join(self.base_path, degradation_type)\n",
        "            turb_variation_filenames = os.listdir(sample_turb_dir)\n",
        "\n",
        "            NUM_VARIATIONS = 3\n",
        "            turb_variation_filenames = turb_variation_filenames[:min(NUM_VARIATIONS, len(turb_variation_filenames))]\n",
        "\n",
        "            for filename in turb_variation_filenames:\n",
        "                x_path = os.path.join(sample_turb_dir, filename)\n",
        "                y_path = ground_truth_path\n",
        "                self.xy_paths.append((x_path, y_path))\n",
        "\n",
        "                if preload_data:\n",
        "                    x = cv2.imread(x_path, cv2.IMREAD_COLOR)\n",
        "                    x = cv2.cvtColor(x, cv2.COLOR_BGR2RGB)\n",
        "                    y = cv2.imread(y_path, cv2.IMREAD_COLOR)\n",
        "                    y = cv2.cvtColor(y, cv2.COLOR_BGR2RGB)\n",
        "\n",
        "                    x = self.transform(x)\n",
        "                    y = self.transform(y)\n",
        "                    i, j, h, w = transforms.RandomCrop.get_params(x, output_size=self.image_size)\n",
        "                    x = transforms.functional.crop(x, i, j, h, w)\n",
        "                    y = transforms.functional.crop(y, i, j, h, w)\n",
        "                    self.preloaded_data.append((x, y))\n",
        "        else:\n",
        "            # --- Dataset split logic ---\n",
        "            sample_dirs = sorted(os.listdir(self.base_path))\n",
        "            train_split, val_split = train_test_split(sample_dirs, test_size=0.15, random_state=42)\n",
        "            samples = train_split\n",
        "            if split in [\"validation\", \"val\"]:\n",
        "                samples = val_split\n",
        "            elif split == \"test\":\n",
        "                samples = sample_dirs\n",
        "\n",
        "            for sample_dir in samples:\n",
        "                ground_truth_path = os.path.join(self.base_path, sample_dir, ground_truth_filename)\n",
        "                sample_turb_dir = os.path.join(self.base_path, sample_dir, degradation_type)\n",
        "\n",
        "                if not os.path.exists(sample_turb_dir):\n",
        "                    continue\n",
        "\n",
        "                turb_variation_filenames = os.listdir(sample_turb_dir)\n",
        "                NUM_VARIATIONS = 3\n",
        "                turb_variation_filenames = turb_variation_filenames[:min(NUM_VARIATIONS, len(turb_variation_filenames))]\n",
        "\n",
        "                for filename in turb_variation_filenames:\n",
        "                    x_path = os.path.join(sample_turb_dir, filename)\n",
        "                    y_path = ground_truth_path\n",
        "                    self.xy_paths.append((x_path, y_path))\n",
        "\n",
        "                    if preload_data:\n",
        "                        x = cv2.imread(x_path, cv2.IMREAD_COLOR)\n",
        "                        x = cv2.cvtColor(x, cv2.COLOR_BGR2RGB)\n",
        "                        y = cv2.imread(y_path, cv2.IMREAD_COLOR)\n",
        "                        y = cv2.cvtColor(y, cv2.COLOR_BGR2RGB)\n",
        "\n",
        "                        x = self.transform(x)\n",
        "                        y = self.transform(y)\n",
        "                        i, j, h, w = transforms.RandomCrop.get_params(x, output_size=self.image_size)\n",
        "                        x = transforms.functional.crop(x, i, j, h, w)\n",
        "                        y = transforms.functional.crop(y, i, j, h, w)\n",
        "                        self.preloaded_data.append((x, y))\n",
        "\n",
        "    def __len__(self):\n",
        "        return len(self.xy_paths)\n",
        "\n",
        "    def __getitem__(self, idx):\n",
        "        x_path, y_path = self.xy_paths[idx]\n",
        "        if self.preload_data:\n",
        "            return self.preloaded_data[idx]\n",
        "\n",
        "        retry_attempts = 1\n",
        "        for _ in range(1 + retry_attempts):\n",
        "            try:\n",
        "                x = cv2.imread(x_path, cv2.IMREAD_COLOR)\n",
        "                x = cv2.cvtColor(x, cv2.COLOR_BGR2RGB)\n",
        "                y = cv2.imread(y_path, cv2.IMREAD_COLOR)\n",
        "                y = cv2.cvtColor(y, cv2.COLOR_BGR2RGB)\n",
        "                break\n",
        "            except:\n",
        "                time.sleep(1)\n",
        "\n",
        "        if self.transform:\n",
        "            x = self.transform(x)\n",
        "            y = self.transform(y)\n",
        "            i, j, h, w = transforms.RandomCrop.get_params(x, output_size=self.image_size)\n",
        "            x = transforms.functional.crop(x, i, j, h, w)\n",
        "            y = transforms.functional.crop(y, i, j, h, w)\n",
        "\n",
        "        return x, y\n",
        "\n",
        "\n",
        "\n",
        "\n",
        "#class ATSynDataset(Dataset):\n",
        " #   def __init__(\n",
        "  #      self,\n",
        "   #     path,\n",
        "    #    transform=None,\n",
        "     #   image_size=(192, 192),\n",
        "      #  split=\"train\",\n",
        "       # preload_data=False,\n",
        "       # degradation_type=\"turb\",\n",
        "    #):\n",
        "     #   \"\"\"\n",
        "      #  Args:\n",
        "       #     path (str): Root directory for the dataset.\n",
        "        #    transform (callable, optional): Transformations to apply to images.\n",
        "         #   image_size (tuple): Desired output image size (H, W).\n",
        "          #  split (str): Dataset split ('train', 'val', 'validation', 'test').\n",
        "           # preload_data (bool): Whether to load all samples into memory at init.\n",
        "           # degradation_type (str): Name of the degradation folder (e.g., 'blur', 'turb').\n",
        "        #\"\"\"\n",
        "        #self.base_path = path\n",
        "        #self.transform = transform\n",
        "        #self.image_size = image_size\n",
        "        #self.preload_data = preload_data\n",
        "       # self.degradation_type = degradation_type\n",
        "\n",
        "        # Identify valid samples (must have GT and degradation folders)\n",
        "       # ground_truth_filename = \"gt.jpg\"\n",
        "       # all_dirs = sorted(os.listdir(self.base_path))\n",
        "       # valid_dirs = []\n",
        "       # for d in all_dirs:\n",
        "       #     gt_path = os.path.join(self.base_path, d, ground_truth_filename)\n",
        "       #     turb_dir = os.path.join(self.base_path, d, self.degradation_type)\n",
        "       #     if os.path.isfile(gt_path) and os.path.isdir(turb_dir):\n",
        "       #         valid_dirs.append(d)\n",
        "       #     else:\n",
        "       #         print(f\"[ATSynDataset] Skipping '{d}': missing ground truth or '{self.degradation_type}' folder.\")\n",
        "\n",
        "        # Split dataset\n",
        "       # train_dirs, val_dirs = train_test_split(\n",
        "        #    valid_dirs, test_size=0.15, random_state=42\n",
        "        #)\n",
        "        #if split in (\"val\", \"validation\"):\n",
        "        #    sample_dirs = val_dirs\n",
        "        #elif split == \"test\":\n",
        "        #    sample_dirs = valid_dirs\n",
        "        #else:\n",
        "        #    sample_dirs = train_dirs\n",
        "\n",
        "        # Prepare (input, target) paths\n",
        "       # self.xy_paths = []\n",
        "        #NUM_VARIATIONS = 3  # can adjust\n",
        "        #for d in sample_dirs:\n",
        "        #    gt_path = os.path.join(self.base_path, d, ground_truth_filename)\n",
        "         #   turb_dir = os.path.join(self.base_path, d, self.degradation_type)\n",
        "         #   try:\n",
        "          #      variations = sorted(os.listdir(turb_dir))[:NUM_VARIATIONS]\n",
        "           # except FileNotFoundError:\n",
        "                # Shouldn't happen due to filter, but safe guard\n",
        "           #     continue\n",
        "           # for fn in variations:\n",
        "             #   x_path = os.path.join(turb_dir, fn)\n",
        "               # y_path = gt_path\n",
        "               # self.xy_paths.append((x_path, y_path))\n",
        "\n",
        "        # Optionally preload data\n",
        "       # if self.preload_data:\n",
        "       #     self.preloaded = []\n",
        "       #     for x_path, y_path in self.xy_paths:\n",
        "       #         x_img = self._load_and_transform(x_path)\n",
        "       #         y_img = self._load_and_transform(y_path)\n",
        "       #         # Crop\n",
        "       #         i, j, h, w = transforms.RandomCrop.get_params(\n",
        "       #             x_img, output_size=self.image_size\n",
        "       #         )\n",
        "       #         x_img = transforms.functional.crop(x_img, i, j, h, w)\n",
        "       #         y_img = transforms.functional.crop(y_img, i, j, h, w)\n",
        "       #         self.preloaded.append((x_img, y_img))\n",
        "\n",
        "   # def _load_and_transform(self, path):\n",
        "   #     # Load image with OpenCV, convert, and apply transform\n",
        "   #     img = cv2.imread(path, cv2.IMREAD_COLOR)\n",
        "   #     if img is None:\n",
        "   #         raise FileNotFoundError(f\"Failed to load image: {path}\")\n",
        "   #     img = cv2.cvtColor(img, cv2.COLOR_BGR2RGB)\n",
        "   #     # PIL-like to tensor if needed\n",
        "   #     if self.transform:\n",
        "   #         img = self.transform(img)\n",
        "   #     return img\n",
        "\n",
        "   # def __len__(self):\n",
        "   #     return len(self.xy_paths)\n",
        "\n",
        "   # def __getitem__(self, idx):\n",
        "    #    if self.preload_data:\n",
        "    #        return self.preloaded[idx]\n",
        "\n",
        "    #    x_path, y_path = self.xy_paths[idx]\n",
        "    #    # Retry once if loading fails\n",
        "    #    for attempt in range(2):\n",
        "    #        try:\n",
        "    #            x_img = self._load_and_transform(x_path)\n",
        "    #            y_img = self._load_and_transform(y_path)\n",
        "    #            break\n",
        "    #        except FileNotFoundError:\n",
        "    #            time.sleep(1)\n",
        "        # Random crop\n",
        "    #    i, j, h, w = transforms.RandomCrop.get_params(\n",
        "    #        x_img, output_size=self.image_size\n",
        "    #    )\n",
        "    #    x_img = transforms.functional.crop(x_img, i, j, h, w)\n",
        "    #    y_img = transforms.functional.crop(y_img, i, j, h, w)\n",
        "    #    return x_img, y_img\n",
        "\n",
        "\n",
        "\n",
        "\n",
        "\n",
        "\n",
        "\n",
        "\n",
        "\n",
        "class TurbRCAE(nn.Module):\n",
        "    def __init__(self, in_ch=3, base_ch=32):\n",
        "        super().__init__()\n",
        "\n",
        "        # — Encoder path —\n",
        "        self.enc1 = nn.Sequential(\n",
        "            nn.Conv2d(in_ch, base_ch, kernel_size=3, padding=1),\n",
        "            nn.BatchNorm2d(base_ch),\n",
        "            nn.ReLU(inplace=True),\n",
        "        )\n",
        "        self.pool1 = nn.MaxPool2d(2)  # Spatial dim / 2\n",
        "\n",
        "        self.enc2 = nn.Sequential(\n",
        "            nn.Conv2d(base_ch, 2 * base_ch, kernel_size=3, padding=1),\n",
        "            nn.BatchNorm2d(2 * base_ch),\n",
        "            nn.ReLU(inplace=True),\n",
        "        )\n",
        "        self.pool2 = nn.MaxPool2d(2)  # Spatial dim / 2\n",
        "\n",
        "        self.enc3 = nn.Sequential(\n",
        "            nn.Conv2d(2 * base_ch, 4 * base_ch, kernel_size=3, padding=1),\n",
        "            nn.BatchNorm2d(4 * base_ch),\n",
        "            nn.ReLU(inplace=True),\n",
        "        )\n",
        "        self.pool3 = nn.MaxPool2d(2)  # Spatial dim / 2\n",
        "\n",
        "        # — Bottleneck —\n",
        "        self.bottleneck = nn.Sequential(\n",
        "            nn.Conv2d(\n",
        "                4 * base_ch, 4 * base_ch, kernel_size=3, padding=2, dilation=2\n",
        "            ),  # Dilated conv\n",
        "            nn.BatchNorm2d(4 * base_ch),\n",
        "            nn.ReLU(inplace=True),\n",
        "        )\n",
        "\n",
        "        # — Decoder path —\n",
        "        # Upsample + Conv: 16→32, Channels: 4*base_ch → 2*base_ch\n",
        "        self.up3 = nn.Sequential(\n",
        "            nn.Upsample(scale_factor=2, mode=\"bilinear\", align_corners=False),\n",
        "            # Input channels from bottleneck = 4 * base_ch\n",
        "            nn.Conv2d(4 * base_ch, 2 * base_ch, kernel_size=3, padding=1),\n",
        "        )\n",
        "        # Decode Conv Block 3\n",
        "        # Input channels from torch.cat([up3_out, enc3_out]) = (2*base_ch + 4*base_ch) = 6*base_ch\n",
        "        self.dec3 = nn.Sequential(\n",
        "            nn.Conv2d(6 * base_ch, 2 * base_ch, kernel_size=3, padding=1),\n",
        "            nn.BatchNorm2d(2 * base_ch),\n",
        "            nn.ReLU(inplace=True),\n",
        "            # Output channels = 2 * base_ch\n",
        "        )\n",
        "\n",
        "        # Upsample + Conv: 32→64, Channels: 2*base_ch → base_ch\n",
        "        self.up2 = nn.Sequential(\n",
        "            nn.Upsample(scale_factor=2, mode=\"bilinear\", align_corners=False),\n",
        "            # Input channels from dec3_out = 2 * base_ch <-- CORRECTED\n",
        "            nn.Conv2d(2 * base_ch, base_ch, kernel_size=3, padding=1),\n",
        "        )\n",
        "        # Decode Conv Block 2\n",
        "        # Input channels from torch.cat([up2_out, enc2_out]) = (base_ch + 2*base_ch) = 3*base_ch\n",
        "        self.dec2 = nn.Sequential(\n",
        "            nn.Conv2d(3 * base_ch, base_ch, kernel_size=3, padding=1),\n",
        "            nn.BatchNorm2d(base_ch),\n",
        "            nn.ReLU(inplace=True),\n",
        "            # Output channels = base_ch\n",
        "        )\n",
        "\n",
        "        # Upsample + Conv: 64→128, Channels: base_ch → base_ch\n",
        "        self.up1 = nn.Sequential(\n",
        "            nn.Upsample(scale_factor=2, mode=\"bilinear\", align_corners=False),\n",
        "            # Input channels from dec2_out = base_ch <-- CORRECTED\n",
        "            nn.Conv2d(base_ch, base_ch, kernel_size=3, padding=1),\n",
        "        )\n",
        "        # Decode Conv Block 1 (Final Output)\n",
        "        # Input channels from torch.cat([up1_out, enc1_out]) = (base_ch + base_ch) = 2*base_ch\n",
        "        self.dec1 = nn.Sequential(\n",
        "            nn.Conv2d(2 * base_ch, base_ch, kernel_size=3, padding=1),\n",
        "            nn.BatchNorm2d(base_ch),\n",
        "            nn.ReLU(inplace=True),\n",
        "            # Final projection to output channels\n",
        "            nn.Conv2d(base_ch, in_ch, kernel_size=1),\n",
        "            nn.Tanh(),  # Assuming output is normalized between -1 and 1\n",
        "            # Output channels = in_ch\n",
        "        )\n",
        "\n",
        "    def forward(self, x):\n",
        "        # Encoder\n",
        "        e1 = self.enc1(x)  # [B, base,128,128]\n",
        "        p1 = self.pool1(e1)\n",
        "\n",
        "        e2 = self.enc2(p1)  # [B,2base,64,64]\n",
        "        p2 = self.pool2(e2)\n",
        "\n",
        "        e3 = self.enc3(p2)  # [B,4base,32,32]\n",
        "        p3 = self.pool3(e3)\n",
        "\n",
        "        # Bottleneck\n",
        "        b = self.bottleneck(p3)  # [B,4base,16,16]\n",
        "\n",
        "        # Decoder + skip3\n",
        "        u3 = self.up3(b)  # [B,2base,32,32]\n",
        "        d3 = torch.cat([u3, e3], dim=1)  # [B,4base,32,32]\n",
        "        d3 = self.dec3(d3)  # [B,2base,32,32]\n",
        "\n",
        "        # Decoder + skip2\n",
        "        u2 = self.up2(d3)  # [B, base,64,64]\n",
        "        d2 = torch.cat([u2, e2], dim=1)  # [B,2base,64,64]\n",
        "        d2 = self.dec2(d2)  # [B, base,64,64]\n",
        "\n",
        "        # Decoder + skip1 → output\n",
        "        u1 = self.up1(d2)  # [B, base,128,128]\n",
        "        d1 = torch.cat([u1, e1], dim=1)  # [B,2base,128,128]\n",
        "        out = self.dec1(d1)  # [B, 3,128,128]\n",
        "\n",
        "        return out\n",
        "\n",
        "\n",
        "#class TurbRCAE1(nn.Module):\n",
        " #   def __init__(self):\n",
        "  #      super(TurbRCAE1, self).__init__()\n",
        "\n",
        "        # Encoder: down to 32x32\n",
        "   #     self.enc1 = nn.Sequential(\n",
        "    #        nn.Conv2d(3, 32, kernel_size=3, stride=1, padding=1),\n",
        "     #       nn.BatchNorm2d(32),\n",
        "      #      nn.ReLU(inplace=True),\n",
        "       #     nn.MaxPool2d(kernel_size=2, stride=2),  # -> 32 x 64 x 64\n",
        "        #)\n",
        "        #self.enc2 = nn.Sequential(\n",
        "         #   nn.Conv2d(32, 64, kernel_size=3, stride=1, padding=1),\n",
        "          #  nn.BatchNorm2d(64),\n",
        "           # nn.ReLU(inplace=True),\n",
        "            #nn.MaxPool2d(kernel_size=2, stride=2),  # -> 64 x 32 x 32 (bottleneck)\n",
        "        #)\n",
        "        #self.enc3 = nn.Sequential(\n",
        "         #   nn.Conv2d(64, 128, kernel_size=3, stride=1, padding=1),\n",
        "          #  nn.BatchNorm2d(128),\n",
        "           # nn.ReLU(inplace=True),\n",
        "            #nn.MaxPool2d(kernel_size=2, stride=2),  # -> 64 x 32 x 32 (bottleneck)\n",
        "        #)\n",
        "\n",
        "        # Decoder: upsample back to 128x128 without ConvTranspose2d\n",
        "\n",
        "        #self.dec1 = nn.Sequential(\n",
        "         #   nn.Upsample(scale_factor=2, mode=\"bilinear\", align_corners=False),\n",
        "         #  nn.Conv2d(128, 64, kernel_size=3, stride=1, padding=1),\n",
        "          # nn.BatchNorm2d(64),\n",
        "          # nn.ReLU(inplace=True),\n",
        "        #)\n",
        "        #self.dec2 = nn.Sequential(\n",
        "         #   nn.Upsample(scale_factor=2, mode=\"bilinear\", align_corners=False),\n",
        "          #  nn.Conv2d(128, 32, kernel_size=3, stride=1, padding=1),\n",
        "           # nn.BatchNorm2d(32),\n",
        "            #nn.ReLU(inplace=True),\n",
        "        #)\n",
        "        #self.dec3 = nn.Sequential(\n",
        "         #   nn.Upsample(scale_factor=2, mode=\"bilinear\", align_corners=False),\n",
        "          #  nn.Conv2d(64, 3, kernel_size=3, stride=1, padding=1),\n",
        "           # nn.Tanh(),\n",
        "        #)\n",
        "\n",
        "    #def forward(self, x):\n",
        "      #  e1 = self.enc1(x)  # [B,32,64,64]\n",
        "      #  e2 = self.enc2(e1)  # [B,64,32,32]\n",
        "       # e3 = self.enc3(e2)  # [B,128,16,16]\n",
        "\n",
        "        #d1 = self.dec1(e3)  # [B,64,32,32]\n",
        "        #d1 = torch.cat([d1, e2], dim=1)  # [B,128,32,32]\n",
        "\n",
        "        #d2 = self.dec2(d1)  # [B,32,64,64]\n",
        "        #d2 = torch.cat([d2, e1], dim=1)  # [B,64,64,64]\n",
        "\n",
        "        #out = self.dec3(d2)  # [B,3,128,128]\n",
        "        #return out\n",
        "\n",
        "\n",
        "# Define the VGGPerceptualLoss class\n",
        "class VGGPerceptualLoss(nn.Module):\n",
        "    def __init__(self, vgg_model=\"vgg19\", layers=None):\n",
        "        super(VGGPerceptualLoss, self).__init__()\n",
        "        if vgg_model == \"vgg19\":\n",
        "            self.vgg = models.vgg19(\n",
        "                weights=models.VGG19_Weights.IMAGENET1K_V1\n",
        "            ).features.eval()\n",
        "        else:\n",
        "            raise NotImplementedError(f\"Model {vgg_model} not implemented\")\n",
        "\n",
        "        if layers is None:\n",
        "            self.layers = [2, 7, 12, 21, 30]\n",
        "        else:\n",
        "            self.layers = layers\n",
        "\n",
        "        for param in self.vgg.parameters():\n",
        "            param.requires_grad = False\n",
        "        self.mean = [0.485, 0.456, 0.406]\n",
        "        self.std = [0.229, 0.224, 0.225]\n",
        "        self.normalize = transforms.Normalize(mean=self.mean, std=self.std)\n",
        "\n",
        "    def forward(self, x, y):\n",
        "        x = self.normalize(x)\n",
        "        y = self.normalize(y)\n",
        "        x_features = self.extract_features(x)\n",
        "        y_features = self.extract_features(y)\n",
        "\n",
        "        loss = 0.0\n",
        "        for x_f, y_f in zip(x_features, y_features):\n",
        "            loss += F.mse_loss(x_f, y_f, reduction=\"mean\")\n",
        "\n",
        "        return loss\n",
        "\n",
        "    def extract_features(self, x):\n",
        "        features = []\n",
        "        for i, layer in enumerate(self.vgg):\n",
        "            x = layer(x)\n",
        "            if i in self.layers:\n",
        "                features.append(x)\n",
        "        return features\n",
        "\n",
        "\n",
        "class CombinedLoss(nn.Module):\n",
        "    def __init__(self, alpha=0.8, beta=0.1, inv_normalize=None, device=\"cuda\"):\n",
        "        super(CombinedLoss, self).__init__()\n",
        "        self.alpha = alpha\n",
        "        self.beta = beta  # Beta is used to scale down perceptual loss to values closer to 0-1 like MSE\n",
        "        self.mse_loss = nn.MSELoss().to(device)\n",
        "        self.perceptual_loss = VGGPerceptualLoss().to(device)\n",
        "        # self.ssim_loss = kloss.SSIMLoss(5)\n",
        "        self.inv_normalize = inv_normalize\n",
        "\n",
        "    def forward(self, output, target):\n",
        "        mse = self.mse_loss(output, target)\n",
        "        # ssim = self.ssim_loss(output, target)\n",
        "        # If values alreadu have been normalized, they need to be inversed since VGG does\n",
        "        # its own normalization\n",
        "        if self.inv_normalize:\n",
        "            output = self.inv_normalize(output)\n",
        "            target = self.inv_normalize(target)\n",
        "        perceptual = self.perceptual_loss(output, target)\n",
        "        return self.alpha * mse + (1 - self.alpha) * (self.beta * perceptual)\n",
        "        # return self.alpha * mse + (1 - self.alpha) * ssim\n",
        "\n",
        "\n",
        "# Define EarlyStopping (as before)\n",
        "class EarlyStopping:\n",
        "    def __init__(self, patience=10, delta=0.001):\n",
        "        self.patience = patience\n",
        "        self.delta = delta\n",
        "        self.counter = 0\n",
        "        self.best_loss = None\n",
        "        self.early_stop = False\n",
        "\n",
        "    def __call__(self, val_loss):\n",
        "        if self.best_loss is None:\n",
        "            self.best_loss = val_loss\n",
        "        elif val_loss > self.best_loss - self.delta:\n",
        "            self.counter += 1\n",
        "            if self.counter >= self.patience:\n",
        "                self.early_stop = True\n",
        "        else:\n",
        "            self.best_loss = val_loss\n",
        "            self.counter = 0\n",
        "\n",
        "\n",
        "def plot_one_batch(\n",
        "    model,\n",
        "    dataloader,\n",
        "    post_process_fn,\n",
        "    device=\"cuda\",\n",
        "    save=False,\n",
        "    show=True,\n",
        "    plot_save_path=\"plot\",\n",
        "):\n",
        "    model.eval()\n",
        "    with torch.no_grad():\n",
        "        inputs, targets = next(iter(dataloader))\n",
        "        inputs = inputs.to(device)\n",
        "        targets = targets.to(device)\n",
        "        predictions = model(inputs)\n",
        "\n",
        "    input_images = [post_process_fn(input) for input in inputs]\n",
        "    prediction_images = [post_process_fn(prediction) for prediction in predictions]\n",
        "    target_images = [post_process_fn(target) for target in targets]\n",
        "\n",
        "    # Plot the images\n",
        "    fig = plt.figure(figsize=(15, 6), dpi=150)\n",
        "    num_imgs = min(4, len(input_images))\n",
        "    for i in range(num_imgs):\n",
        "        # Noisy\n",
        "        plt.subplot(3, 4, i + 1)\n",
        "        plt.imshow(input_images[i])\n",
        "        plt.title(\"Noisy\")\n",
        "        plt.axis(\"off\")\n",
        "\n",
        "        # Clean\n",
        "        plt.subplot(3, 4, i + 5)\n",
        "        plt.imshow(target_images[i])\n",
        "        plt.title(\"Ground Truth\")\n",
        "        plt.axis(\"off\")\n",
        "\n",
        "        # Reconstructed\n",
        "        plt.subplot(3, 4, i + 9)\n",
        "        plt.imshow(prediction_images[i])\n",
        "        plt.title(\"Reconstructed\")\n",
        "        plt.axis(\"off\")\n",
        "\n",
        "    plt.tight_layout()\n",
        "    if save:\n",
        "        #fig.savefig(plot_save_path, bbox_inches=\"tight\")\n",
        "        os.makedirs(os.path.dirname(plot_save_path), exist_ok=True)\n",
        "        fig.savefig(plot_save_path, bbox_inches=\"tight\")\n",
        "        plt.close(fig)\n",
        "    if show:\n",
        "        fig.show()\n",
        "        plt.close(fig)\n",
        "\n",
        "\n",
        "def validate_improvement(model, device, dataloader, loss_fn, post_process_fn, epoch):\n",
        "    val_running_psnr = 0.0\n",
        "    val_running_ssim = 0.0\n",
        "    val_running_loss = 0.0\n",
        "    total_samples = 0\n",
        "    model.eval()\n",
        "    with torch.no_grad():\n",
        "        for inputs, targets in dataloader:\n",
        "            inputs = inputs.to(device)\n",
        "            targets = targets.to(device)\n",
        "            batch_size = inputs.size(0)\n",
        "\n",
        "            v_output = model.forward(inputs)\n",
        "\n",
        "            v_loss = loss_fn(v_output, targets)\n",
        "            val_running_loss += (\n",
        "                v_loss.item() * batch_size\n",
        "            )  # multiply by batch size since the loss is already mean over the samples\n",
        "\n",
        "            total_samples += batch_size\n",
        "\n",
        "            for output_image, target_image in zip(v_output, targets):\n",
        "                # Post process images\n",
        "                output_image = post_process_fn(output_image)\n",
        "                target_image = post_process_fn(target_image)\n",
        "                val_running_psnr += psnr(output_image, target_image, data_range=255)\n",
        "                val_running_ssim += ssim(\n",
        "                    output_image, target_image, data_range=255, channel_axis=-1\n",
        "                )\n",
        "\n",
        "    avg_loss = val_running_loss / total_samples\n",
        "    avg_psnr = val_running_psnr / total_samples\n",
        "    avg_ssim = val_running_ssim / total_samples\n",
        "    print(f\"Epoch {epoch+1} validation loss: {avg_loss}\")\n",
        "    print(f\"Epoch {epoch+1} validation ssim: {avg_ssim}\")\n",
        "    print(f\"Epoch {epoch+1} validation psnr: {avg_psnr}\")\n",
        "\n",
        "    return avg_loss\n",
        "\n",
        "\n",
        "def compute_mean_std(dataloader, device=torch.device(\"cpu\")):\n",
        "    \"\"\"\n",
        "    Compute the per-channel mean and standard deviation of images in a DataLoader.\n",
        "\n",
        "    Args:\n",
        "        dataloader (torch.utils.data.DataLoader): Dataloader yielding image batches as tensors\n",
        "            with shape (B, C, H, W) and values in [0, 1].\n",
        "        device (torch.device): Device on which to perform computations.\n",
        "\n",
        "    Returns:\n",
        "        mean (torch.Tensor): Tensor of shape (C,) with per-channel means.\n",
        "        std (torch.Tensor): Tensor of shape (C,) with per-channel standard deviations.\n",
        "    \"\"\"\n",
        "    # Accumulators\n",
        "    channels_sum = torch.zeros(3, device=device)\n",
        "    channels_squared_sum = torch.zeros(3, device=device)\n",
        "    num_batches = 0\n",
        "\n",
        "    print(\"Computing mean...\")\n",
        "    total_batches = len(dataloader)\n",
        "    for i, (images, _) in enumerate(dataloader):\n",
        "        # Move to device\n",
        "        images = images.to(device)\n",
        "\n",
        "        # Sum over batch, height, and width (C stays)\n",
        "        channels_sum += images.sum(dim=[0, 2, 3])\n",
        "        channels_squared_sum += (images**2).sum(dim=[0, 2, 3])\n",
        "        num_batches += images.size(0)\n",
        "        print(f\"Completed batch [{i}/{total_batches}]\")\n",
        "\n",
        "    # Number of pixels per channel\n",
        "    total_pixels = num_batches * images.size(2) * images.size(3)\n",
        "\n",
        "    # Mean and STD computation\n",
        "    mean = channels_sum / total_pixels\n",
        "    # Var = E[X^2] - (E[X])^2\n",
        "    var = (channels_squared_sum / total_pixels) - mean**2\n",
        "    std = torch.sqrt(var)\n",
        "\n",
        "    return mean, std\n",
        "\n",
        "\n",
        "def tensor_to_uint8(\n",
        "    img_tensor: torch.Tensor, inv_normalize: transforms.Transform\n",
        ") -> np.ndarray:\n",
        "    \"\"\"\n",
        "    img_tensor: C×H×W FloatTensor, normalized\n",
        "    Returns: H×W×C uint8 array in [0,255]\n",
        "    \"\"\"\n",
        "    # a) undo normalization\n",
        "   # img_denorm = inv_normalize(img_tensor)\n",
        "    # b) clamp to [0,1]\n",
        "    #img_denorm = img_denorm.clamp(0, 1)\n",
        "    # c) convert to H×W×C numpy in [0,255]\n",
        "    #img_np = img_denorm.mul(255).byte()  # scale to [0,255] & to uint8\n",
        "    #img_np = img_np.permute(1, 2, 0).cpu().numpy()  # C×H×W → H×W×C\n",
        "\n",
        "    img_denorm = inv_normalize(img_tensor.squeeze(0))  # remove batch dimension if exists\n",
        "    img_denorm = img_denorm.clamp(0, 1)\n",
        "    img_np = img_denorm.mul(255).byte()\n",
        "    img_np = img_np.permute(1, 2, 0).cpu().numpy()\n",
        "    return img_np\n",
        "\n",
        "\n",
        "def get_dataset_mean_std(dataset_path, device):\n",
        "    temp_transform = transforms.Compose(\n",
        "        [\n",
        "            transforms.ToImage(),\n",
        "            transforms.Resize((128, 128)),\n",
        "            transforms.ToDtype(torch.float32, scale=True),\n",
        "        ]\n",
        "    )\n",
        "    temp_train_set = ATSynDataset(\n",
        "        dataset_path,\n",
        "        temp_transform,\n",
        "        split=\"train\",\n",
        "    )\n",
        "    BATCH_SIZE = 16\n",
        "    NUM_WORKERS = 30\n",
        "    train_dataloader = DataLoader(\n",
        "        temp_train_set,\n",
        "        batch_size=BATCH_SIZE,\n",
        "        shuffle=True,\n",
        "        num_workers=NUM_WORKERS,\n",
        "        pin_memory=True,\n",
        "    )\n",
        "\n",
        "    # Calculate mean and std for train set once so we can normalize values\n",
        "    mean, std = compute_mean_std(train_dataloader, device)\n",
        "\n",
        "    return mean, std\n",
        "\n",
        "\n",
        "def plot_train_val_loss(train_losses, val_losses, show=True):\n",
        "    fig = plt.figure(\n",
        "        dpi=100\n",
        "    )  # Create a new figure with a resolution of 100 dots per inch (makes plot clearer)\n",
        "    plt.plot(\n",
        "        train_losses, label=\"Training Loss\"\n",
        "    )  # Plot the training loss values stored in the 'losses' list\n",
        "    plt.plot(\n",
        "        val_losses, label=\"Validation Loss\"\n",
        "    )  # Plot the training loss values stored in the 'losses' list\n",
        "    plt.xlabel(\"Epochs\")  # Label the x-axis as \"Epochs\"\n",
        "    plt.ylabel(\n",
        "        \"Loss\"\n",
        "    )  # Label the y-axis as \"Loss (MSE)\" - referring to Mean Squared Error. The Lower the bettetr\n",
        "    plt.title(\n",
        "        \"Convolutional Autoencoder Loss\"\n",
        "    )  # Set the title of the plot as Convolutional Autoencoder Training Loss\n",
        "    plt.legend()  # Display the legend to show which line represents training loss\n",
        "    plt.grid(True)  # Add a grid to the plot for better visualization\n",
        "    plt.savefig(\"loss\")\n",
        "    if show:\n",
        "        plt.show()  # Render & display the plot\n",
        "    plt.close(fig)\n",
        "\n",
        "\n",
        "def test_model(model_path, degradation_type):\n",
        "    device = torch.device(\"cuda\" if torch.cuda.is_available() else \"cpu\")\n",
        "\n",
        "    model = TurbRCAE(base_ch=32).to(device)\n",
        "    #model.load_state_dict(torch.load(model_path))  # Replaced since I have CPU only device\n",
        "    #model.load_state_dict(\n",
        "    state_dict = torch.load(model_path, map_location=torch.device('cpu'))  # Hard-coded CPU\n",
        "    # state_dict = torch.load(model_path, mao_location=device)  # Use device variable\n",
        "\n",
        "    # both hard-coded and device varible methods now gives a CPU-MAPPED state dict\n",
        "    model.load_state_dict(state_dict)\n",
        "\n",
        "    # Train set mean and std after the pixels values have been converted to float 0.0-1.0\n",
        "    train_mean = torch.tensor([0.4750, 0.4592, 0.4289])\n",
        "    train_std = torch.tensor([0.2499, 0.2490, 0.2715])\n",
        "\n",
        "    # To convert images back to normal values\n",
        "    inv_normalize = transforms.Normalize(\n",
        "        mean=(-train_mean / train_std).tolist(), std=(1.0 / train_std).tolist()\n",
        "    )\n",
        "    PATCH_SIZE = 192\n",
        "    transform = transforms.Compose(\n",
        "        [\n",
        "            transforms.ToImage(),\n",
        "            transforms.ToDtype(torch.float32, scale=True),\n",
        "            transforms.Normalize(mean=train_mean.tolist(), std=train_std.tolist()),\n",
        "        ]\n",
        "    )\n",
        "\n",
        "    test_set = ATSynDataset(\n",
        "        #\"../datasets/static_new/test_static/\",\n",
        "        #\"/content/drive/MyDrive/TurbRCAE Tests/ATSyn_static_only_test/test_static\",\n",
        "        \"/content/drive/MyDrive/TurbRCAE Tests/ATSyn_static_only_test/test_static/Places365_test_00000241\",\n",
        "        #\"ATSest_syn_static/static_new/test_static\",  # Relative path\n",
        "        #\"./ATSest_syn_static/static_new/test_static\",  # Relative path\n",
        "\n",
        "\n",
        "        #\"/home/som/RSOTA_venv/models/ATSyn_static/static_new/test_static\",  # Absolute path\n",
        "        transform,\n",
        "        (PATCH_SIZE, PATCH_SIZE),\n",
        "        split=\"test\",\n",
        "        degradation_type=degradation_type,\n",
        "    )\n",
        "\n",
        "    BATCH_SIZE = 1\n",
        "    NUM_WORKERS = 1\n",
        "    test_dataloader = DataLoader(\n",
        "        test_set,\n",
        "        batch_size=BATCH_SIZE,\n",
        "        num_workers=NUM_WORKERS,\n",
        "        pin_memory=True,\n",
        "    )\n",
        "\n",
        "    post_process_fn = lambda image: tensor_to_uint8(image, inv_normalize)\n",
        "\n",
        "    criterion = CombinedLoss(\n",
        "        alpha=0.7, beta=0.1, inv_normalize=inv_normalize, device=device\n",
        "    )\n",
        "\n",
        "    test_psnrs = []\n",
        "    test_ssims = []\n",
        "    test_losses = []\n",
        "    with torch.no_grad():\n",
        "        for inputs, targets in test_dataloader:\n",
        "            inputs = inputs.to(device)\n",
        "            targets = targets.to(device)\n",
        "            model.train(False)\n",
        "\n",
        "            predictions = model(inputs)\n",
        "\n",
        "            for input, pred, target in zip(inputs, predictions, targets):\n",
        "                input = post_process_fn(input)\n",
        "                pred = post_process_fn(pred)\n",
        "                target = post_process_fn(target)\n",
        "\n",
        "                test_psnrs.append(psnr(pred, target, data_range=255))\n",
        "                test_ssims.append(ssim(pred, target, data_range=255, channel_axis=-1))\n",
        "\n",
        "                # Just added image visualization\n",
        "                # (optional) Visualize the images that give very poor or good result (change the comparison value)\n",
        "                 #if test_ssims[-1] > 0.9:\n",
        "                  #   cv2.imshow(\n",
        "                   #      \"Input, prediction, target\",\n",
        "                    #     np.concatenate(\n",
        "                     #        (np.concatenate((input, pred), axis=1), target), axis=1\n",
        "                      #   ),\n",
        "                     #)\n",
        "                     #cv2.waitKey(0)\n",
        "\n",
        "            loss = criterion(predictions, targets)\n",
        "            test_losses.append(loss)\n",
        "\n",
        "    plot_batch_dataloader = DataLoader(test_set, batch_size=4, num_workers=0)\n",
        "    plot_one_batch(\n",
        "        model,\n",
        "        plot_batch_dataloader,\n",
        "        post_process_fn,\n",
        "        save=True,\n",
        "        show=True,\n",
        "        plot_save_path=os.path.join(\n",
        "            \"results\", f\"{degradation_type}_best_model_comparison_on_test_data\"\n",
        "        ),\n",
        "    )\n",
        "\n",
        "    return {\n",
        "        \"psnr\": test_psnrs,\n",
        "        \"ssim\": test_ssims,\n",
        "        \"loss\": test_losses,\n",
        "    }\n",
        "\n",
        "\n",
        "def train_model():\n",
        "    device = torch.device(\"cuda\" if torch.cuda.is_available() else \"cpu\")\n",
        "    print(\"Using device: \" + str(device))\n",
        "    model_directory = \"results/checkpoints/cae\"\n",
        "    os.makedirs(model_directory, exist_ok=True)\n",
        "    best_model_name = \"best_model\"\n",
        "    best_model_path = os.path.join(model_directory, best_model_name)\n",
        "    use_best_model_checkpoint = True\n",
        "    if not os.path.exists(best_model_path):\n",
        "        use_best_model_checkpoint = False\n",
        "\n",
        "    timestamp = datetime.now().strftime(\"%Y%m%d_%H%M%S\")\n",
        "\n",
        "    # Initialize model, optimizer, etc.\n",
        "    model = TurbRCAE(base_ch=32).to(device)\n",
        "    if use_best_model_checkpoint:\n",
        "        model.load_state_dict(torch.load(best_model_path))\n",
        "\n",
        "    # mean, std = get_dataset_mean_std(\n",
        "    #     \"/home/jdev/dev/trakka/turbulence-mitigation/datasets/ATSyn_static/train_static/\",\n",
        "    #     device,\n",
        "    # )\n",
        "    # print(f\"Train dataset mean: {mean}, std: {std}\")\n",
        "    ## For ATSyn static it should print this:\n",
        "    ## tensor([0.4750, 0.4592, 0.4289], device='cuda:0'), std: tensor([0.2499, 0.2490, 0.2715], device='cuda:0')\n",
        "    # return\n",
        "\n",
        "    # Train set mean and std after the pixels values have been converted to float 0.0-1.0\n",
        "    train_mean = torch.tensor([0.4750, 0.4592, 0.4289])\n",
        "    train_std = torch.tensor([0.2499, 0.2490, 0.2715])\n",
        "\n",
        "    # To convert images back to orignal space\n",
        "    inv_normalize = transforms.Normalize(\n",
        "        mean=(-train_mean / train_std).tolist(), std=(1.0 / train_std).tolist()\n",
        "    )\n",
        "    transform = transforms.Compose(\n",
        "        [\n",
        "            transforms.ToImage(),\n",
        "            transforms.ToDtype(torch.float32, scale=True),\n",
        "            transforms.Normalize(mean=train_mean.tolist(), std=train_std.tolist()),\n",
        "        ]\n",
        "    )\n",
        "\n",
        "    PATCH_SIZE = 192\n",
        "    train_set = ATSynDataset(\n",
        "        #\"../datasets/static_new/train_static/\",\n",
        "        \"ATSyn_static/static_new/train_static/\",\n",
        "        transform,\n",
        "        (PATCH_SIZE, PATCH_SIZE),\n",
        "        split=\"train\",\n",
        "        preload_data=True,\n",
        "    )\n",
        "    val_set = ATSynDataset(\n",
        "        \"../datasets/static_new/train_static/\",\n",
        "        \"ATSyn_static/static_new/train_static/\",\n",
        "        transform,\n",
        "        (PATCH_SIZE, PATCH_SIZE),\n",
        "        split=\"val\",\n",
        "        preload_data=True,\n",
        "    )\n",
        "\n",
        "    BATCH_SIZE = 96\n",
        "    NUM_WORKERS = 15\n",
        "    train_dataloader = DataLoader(\n",
        "        train_set,\n",
        "        batch_size=BATCH_SIZE,\n",
        "        prefetch_factor=1,\n",
        "        shuffle=True,\n",
        "        num_workers=NUM_WORKERS,\n",
        "        pin_memory=True,\n",
        "    )\n",
        "\n",
        "    val_dataloader = DataLoader(\n",
        "        val_set,\n",
        "        batch_size=BATCH_SIZE,\n",
        "        shuffle=True,\n",
        "        num_workers=NUM_WORKERS,\n",
        "        pin_memory=True,\n",
        "    )\n",
        "\n",
        "    post_process_fn = lambda image: tensor_to_uint8(image, inv_normalize)\n",
        "\n",
        "    criterion = CombinedLoss(\n",
        "        alpha=0.7, beta=0.1, inv_normalize=inv_normalize, device=device\n",
        "    )\n",
        "    optimizer = optim.Adam(model.parameters(), lr=0.0001)\n",
        "\n",
        "    # Define the number of epochs\n",
        "    num_epochs = 10000\n",
        "    early_stopping = EarlyStopping(patience=10, delta=0.001)\n",
        "    best_v_loss = 1_000_000\n",
        "    train_losses = []\n",
        "    val_losses = []\n",
        "\n",
        "    # -------------\n",
        "    # Training Loop\n",
        "    # -------------\n",
        "    for epoch in range(num_epochs):\n",
        "        running_loss = 0.0\n",
        "        i = 0\n",
        "        total_batches = len(train_dataloader)\n",
        "\n",
        "        for batch_num, (inputs, targets) in enumerate(train_dataloader):\n",
        "            inputs = inputs.to(device)\n",
        "            targets = targets.to(device)\n",
        "            model.train(True)\n",
        "\n",
        "            optimizer.zero_grad()\n",
        "            predictions = model(inputs)\n",
        "\n",
        "            loss = criterion(predictions, targets)\n",
        "\n",
        "            loss.backward()\n",
        "            optimizer.step()\n",
        "\n",
        "            running_loss += loss.item()\n",
        "            i += 1\n",
        "\n",
        "            print(f\"Finished batch [{batch_num+1}/{total_batches}] in epoch {epoch+1}\")\n",
        "\n",
        "        avg_loss = running_loss / i\n",
        "        train_losses.append(avg_loss)\n",
        "\n",
        "        print(f\"Epoch [{epoch+1}/{num_epochs}], Loss: {avg_loss:.4f}\")\n",
        "\n",
        "        # Validate improvement\n",
        "        val_loss = validate_improvement(\n",
        "            model, device, val_dataloader, criterion, post_process_fn, epoch\n",
        "        )\n",
        "        val_losses.append(val_loss)\n",
        "\n",
        "        if val_loss < best_v_loss:\n",
        "            torch.save(model.state_dict(), best_model_path)\n",
        "            torch.save(\n",
        "                model.state_dict(),\n",
        "                os.path.join(model_directory, f\"model_{timestamp}_{epoch+1}\"),\n",
        "            )\n",
        "\n",
        "        early_stopping(val_loss)\n",
        "\n",
        "        if early_stopping.early_stop:\n",
        "            print(\"Early stopping triggered!\")\n",
        "            break\n",
        "\n",
        "        if epoch % 5 == 0:\n",
        "            plot_train_val_loss(train_losses, val_losses, show=False)   # Turn this on with show=True, so you can see the plots displayed\n",
        "            plot_one_batch(\n",
        "                model,\n",
        "                val_dataloader,\n",
        "                post_process_fn,\n",
        "                save=True,\n",
        "                show=False,\n",
        "                plot_save_path=os.path.join(\n",
        "                    \"results\", f\"model_{timestamp}_{epoch+1}_comparison_val_data\"\n",
        "                ),\n",
        "            )\n",
        "        gc.collect()\n",
        "        torch.cuda.empty_cache()\n",
        "\n",
        "    plot_train_val_loss(train_losses, val_losses, show=True)\n",
        "\n",
        "    plot_one_batch(\n",
        "        model,\n",
        "        test_dataloader,\n",
        "        post_process_fn,\n",
        "        save=True,\n",
        "        show=True,\n",
        "        plot_save_path=os.path.join(\"results\", \"best_model_comparison_on_test_data\"),\n",
        "    )\n",
        "\n",
        "\n",
        "def compute_metrics(values):\n",
        "    values = np.array(values)\n",
        "    mean = np.mean(values)\n",
        "    std = np.std(values)\n",
        "    variance = np.var(values)\n",
        "    min = np.min(values)\n",
        "    max = np.max(values)\n",
        "\n",
        "    return mean, std, variance, min, max\n",
        "\n",
        "\n",
        "#def main():\n",
        "    # train_model()\n",
        "\n",
        "    # Test model\n",
        "    #model_paths_with_degradation_type = [\n",
        "         #(\"/home/som/RSOTA_venv/models/blur_32_channel_vgg_mse_108_epoch/best_model.pt\", \"blur\"),\n",
        "         #(\"/home/som/RSOTA_venv/models/tilt_32_channel_vgg_mse_64_epoch/best_model.pt\", \"tilt\"),\n",
        "         #(\"/home/som/RSOTA_venv/models/turb_32_channel_vgg_mse_69_epoch/best_model.pt\", \"turb\"),\n",
        "\n",
        "         #(\"/content/drive/MyDrive/blur_32_channel_vgg_mse_108_epoch/best_model.pt\", \"blur\"),\n",
        "        # (\"/content/drive/MyDrive/tilt_32_channel_vgg_mse_64_epoch/best_model.pt\", \"tilt\"),\n",
        "      #   (\"/content/drive/MyDrive/turb_32_channel_vgg_mse_69_epoch/best_model.pt\", \"turb\"),\n",
        "\n",
        " #   ]\n",
        "    # ensure that test loop is active\n",
        "   # from google.colab import files\n",
        "  #  for model_path, degradation_type in model_paths_with_degradation_type:\n",
        "      #  results = test_model(model_path, degradation_type)\n",
        "\n",
        "        # INSERTED JSON-SAVE BLOCK HERE\n",
        "        # save out the raw metrics for later inspection\n",
        "        #save_path = f\"{degradation_type}_baseline_metrics.json\"          # i MODIFIED THIS TO THE BLOCK BELOW\n",
        "      #  save_dir = \"/content/drive/MyDrive/TurbRCAE Tests/baseline_model_test\"\n",
        "       # os.makedirs(save_dir, exist_ok=True)\n",
        "     #   save_path = os.path.join(save_dir, f\"{degradation_type}_baseline_metrics.json\")\n",
        "      #  with open(save_path, \"w\") as f:\n",
        "          #  json.dump({\n",
        "            #    \"psnr\": results[\"psnr\"],\n",
        "          #      \"ssim\": results[\"ssim\"],\n",
        "         #       \"loss\": [float(l) for l in results[\"loss\"]]\n",
        "         #   }, f, indent=4)\n",
        "       # print(f\"Saved baseline metrics to {save_path}\")\n",
        "\n",
        "        # Uncommented from here\n",
        "\n",
        "\n",
        "        # now continue with your plotting...\n",
        "\n",
        "      #  mean, std, variance, min, max = compute_metrics(results[\"ssim\"])\n",
        "        #mean, std, variance, min, max = compute_metrics(results[\"psnr\"])\n",
        "        #plt.figure(figsize=(10, 6))\n",
        "       # plt.title(f\"Test results for {degradation_type}\")\n",
        "\n",
        "        # Comment back file.download(save_path) should probelm come up\n",
        "       # files.download(save_path)  # pops up download dialog\n",
        "        # ...\n",
        "\n",
        "       # mean, std, variance, min, max = compute_metrics(results[\"ssim\"])\n",
        "  #      mean, std, variance, min, max = compute_metrics(results[\"psnr\"])\n",
        "\n",
        "      #  plt.figure(figsize=(10, 6))\n",
        "     #   plt.title(f\"Test results for {degradation_type}\")\n",
        "        # To here\n",
        "\n",
        "        # Box plot for SSIM\n",
        "    #    plt.subplot(1, 2, 1)\n",
        "     #   plt.boxplot(\n",
        "     #       results[\"ssim\"], patch_artist=True, boxprops=dict(facecolor=\"lightblue\")\n",
        "     #   )\n",
        "     #   plt.title(\"SSIM Value Distribution\")\n",
        "      #  plt.ylabel(\"SSIM\")\n",
        "     #   plt.xticks([1], [\"SSIM Scores\"])  # Hides the x-axis tick label 1\n",
        "     #   plt.grid(True, axis=\"y\")\n",
        "\n",
        "        # Box plot for PSNR\n",
        "     #   plt.subplot(1, 2, 2)\n",
        "    #    plt.boxplot(\n",
        "       #     results[\"psnr\"], patch_artist=True, boxprops=dict(facecolor=\"lightgreen\")\n",
        "      #  )\n",
        "     #   plt.title(\"PSNR Value Distribution\")\n",
        "     #   plt.ylabel(\"PSNR (dB)\")\n",
        "      #  plt.xticks([1], [\"PSNR Scores\"])\n",
        "     #   plt.grid(True, axis=\"y\")\n",
        "\n",
        "      #  plt.tight_layout()\n",
        "        #plt.savefig(f\"{degradation_type}_boxplot.png\")\n",
        "        # plt.savefig(\"psnr_ssim_boxplot.png\")            # i also modified to the one below it\n",
        "       # plt.savefig(os.path.join(save_dir, f\"{degradation_type}_psnr_ssim_boxplot.png\"))\n",
        "      #  plt.show()\n",
        "\n",
        "\n",
        "def main():\n",
        "    # Test model\n",
        "    model_paths_with_degradation_type = [\n",
        "        (\"/content/drive/MyDrive/blur_32_channel_vgg_mse_108_epoch/best_model.pt\", \"blur\"),\n",
        "        (\"/content/drive/MyDrive/tilt_32_channel_vgg_mse_64_epoch/best_model.pt\", \"tilt\"),\n",
        "        (\"/content/drive/MyDrive/turb_32_channel_vgg_mse_69_epoch/best_model.pt\", \"turb\"),\n",
        "    ]\n",
        "\n",
        "    from google.colab import files\n",
        "    save_dir = \"/content/drive/MyDrive/TurbRCAE Tests/baseline_model_test\"\n",
        "    os.makedirs(save_dir, exist_ok=True)\n",
        "\n",
        "    for model_path, degradation_type in model_paths_with_degradation_type:\n",
        "        results = test_model(model_path, degradation_type)\n",
        "\n",
        "        # Save metrics\n",
        "        save_path = os.path.join(save_dir, f\"{degradation_type}_baseline_metrics.json\")\n",
        "        with open(save_path, \"w\") as f:\n",
        "            json.dump({\n",
        "                \"psnr\": results[\"psnr\"],\n",
        "                \"ssim\": results[\"ssim\"],\n",
        "                \"loss\": [float(l) for l in results[\"loss\"]]\n",
        "            }, f, indent=4)\n",
        "        print(f\"Saved baseline metrics to {save_path}\")\n",
        "        files.download(save_path)\n",
        "\n",
        "        # Boxplots\n",
        "        plt.figure(figsize=(10, 6))\n",
        "        plt.suptitle(f\"{degradation_type.upper()} Baseline PSNR/SSIM\")\n",
        "\n",
        "        plt.subplot(1, 2, 1)\n",
        "        plt.boxplot(results[\"ssim\"], patch_artist=True, boxprops=dict(facecolor=\"lightblue\"))\n",
        "        plt.title(\"SSIM\")\n",
        "        plt.ylabel(\"SSIM\")\n",
        "        plt.grid(True)\n",
        "\n",
        "        plt.subplot(1, 2, 2)\n",
        "        plt.boxplot(results[\"psnr\"], patch_artist=True, boxprops=dict(facecolor=\"lightgreen\"))\n",
        "        plt.title(\"PSNR\")\n",
        "        plt.ylabel(\"PSNR (dB)\")\n",
        "        plt.grid(True)\n",
        "\n",
        "        plt.tight_layout()\n",
        "        plt.savefig(os.path.join(save_dir, f\"{degradation_type}_psnr_ssim_boxplot.png\"))\n",
        "        plt.show()\n",
        "\n",
        "    # Call to the QAI Hub quantized pipeline ONCE\n",
        "    run_quantized_qaihub_inference()\n",
        "\n",
        "import os\n",
        "import glob\n",
        "import json\n",
        "import torch\n",
        "import numpy as np\n",
        "import matplotlib.pyplot as plt\n",
        "from PIL import Image\n",
        "from torchvision.transforms import Normalize\n",
        "from torchvision.transforms.functional import to_tensor\n",
        "import qai_hub as hub\n",
        "\n",
        "# Updated tensor_to_uint8 to avoid batched 4D tensor error\n",
        "def run_quantized_qaihub_inference():\n",
        "    import matplotlib.pyplot as plt\n",
        "    from torchvision.transforms import Normalize\n",
        "    from skimage.metrics import peak_signal_noise_ratio as psnr, structural_similarity as ssim\n",
        "\n",
        "    DEVICE = hub.Device(\"QCS8550 (Proxy)\")\n",
        "    INPUT_SHAPE = (1, 3, 192, 192)\n",
        "    C, H, W = INPUT_SHAPE[1:]\n",
        "\n",
        "    ONNX_MODELS = {\n",
        "        \"blur\": \"/content/drive/MyDrive/blur.onnx\",\n",
        "        \"tilt\": \"/content/drive/MyDrive/tilt.onnx\",\n",
        "        \"turb\": \"/content/drive/MyDrive/turb.onnx\"\n",
        "    }\n",
        "\n",
        "    TEST_DATASET_PATH = \"/content/drive/MyDrive/TurbRCAE Tests/ATSyn_static_only_test/test_static/Places365_test_00000241\"\n",
        "    SAVE_DIR = \"/content/drive/MyDrive/TurbRCAE Tests/quantized_model_test_results\"\n",
        "    os.makedirs(SAVE_DIR, exist_ok=True)\n",
        "\n",
        "    train_mean = torch.tensor([0.4750, 0.4592, 0.4289])\n",
        "    train_std  = torch.tensor([0.2499, 0.2490, 0.2715])\n",
        "    inv_normalize = Normalize(mean=(-train_mean / train_std).tolist(), std=(1.0 / train_std).tolist())\n",
        "\n",
        "    for degradation, model_path in ONNX_MODELS.items():\n",
        "        print(f\"\\n🔧 Quantizing and evaluating: {degradation.upper()}\")\n",
        "\n",
        "        scene_path = TEST_DATASET_PATH\n",
        "        degradation_dir = os.path.join(scene_path, degradation)\n",
        "        gt_path = os.path.join(scene_path, \"gt.jpg\")\n",
        "\n",
        "        valid_samples = []\n",
        "        if os.path.isdir(degradation_dir) and os.path.exists(gt_path):\n",
        "            for img_path in sorted(glob.glob(os.path.join(degradation_dir, \"*.png\")))[:3]:\n",
        "                valid_samples.append((img_path, gt_path))\n",
        "        else:\n",
        "            print(f\"No valid images found for {degradation}\")\n",
        "            continue\n",
        "\n",
        "        results_dir = os.path.join(SAVE_DIR, degradation)\n",
        "        os.makedirs(results_dir, exist_ok=True)\n",
        "\n",
        "        compile_job = hub.submit_compile_job(\n",
        "            model=model_path,\n",
        "            device=DEVICE,\n",
        "            options=\"--target_runtime onnx\",\n",
        "            input_specs={\"input\": INPUT_SHAPE}\n",
        "        )\n",
        "        compile_job.wait()\n",
        "        static_model = compile_job.get_target_model()\n",
        "\n",
        "        calibration_data = {\"input\": []}\n",
        "        for img_path, _ in valid_samples:\n",
        "            img = Image.open(img_path).resize((W, H))\n",
        "            arr = np.transpose(np.array(img, dtype=np.float32) / 255.0, (2, 0, 1))[None, ...]\n",
        "            calibration_data[\"input\"].append(arr)\n",
        "\n",
        "        quant_job = hub.submit_quantize_job(\n",
        "            static_model,\n",
        "            calibration_data,\n",
        "            weights_dtype=hub.QuantizeDtype.INT8,\n",
        "            activations_dtype=hub.QuantizeDtype.INT8,\n",
        "            name=f\"{degradation}_quant\"\n",
        "        )\n",
        "        quant_job.wait()\n",
        "        quant_model = quant_job.get_target_model()\n",
        "\n",
        "        compile_qnn = hub.submit_compile_job(\n",
        "            model=quant_model,\n",
        "            device=DEVICE,\n",
        "            options=\"--target_runtime onnx\",\n",
        "            input_specs={\"input\": INPUT_SHAPE}\n",
        "        )\n",
        "        compile_qnn.wait()\n",
        "        target_model = compile_qnn.get_target_model()\n",
        "\n",
        "        hub.submit_profile_job(model=target_model, device=DEVICE).wait()\n",
        "\n",
        "        psnr_scores, ssim_scores, combined_losses = [], [], []  # define combined_losses\n",
        "\n",
        "        for img_path, gt_path in valid_samples:\n",
        "            img = Image.open(img_path).resize((W, H))\n",
        "            arr = np.transpose(np.array(img, dtype=np.float32) / 255.0, (2, 0, 1))[None, ...]\n",
        "\n",
        "            inf_job = hub.submit_inference_job(\n",
        "                model=target_model,\n",
        "                device=DEVICE,\n",
        "                inputs={\"input\": [arr]}\n",
        "            )\n",
        "            inf_job.wait()\n",
        "            out = inf_job.download_output_data()\n",
        "            if out is None or \"output_0\" not in out:\n",
        "                print(f\"Failed inference on: {img_path}\")\n",
        "                continue\n",
        "\n",
        "            pred_tensor = torch.from_numpy(out[\"output_0\"][0])\n",
        "            pred_img = tensor_to_uint8(pred_tensor, inv_normalize)\n",
        "\n",
        "            # Loss computation\n",
        "            normalize = Normalize(mean=train_mean.tolist(), std=train_std.tolist())\n",
        "            pred_tensor_norm = normalize(pred_tensor.clamp(0, 1))\n",
        "            gt_tensor = to_tensor(Image.open(gt_path).resize((W, H)))\n",
        "            gt_tensor_norm = normalize(gt_tensor.clamp(0, 1).unsqueeze(0))\n",
        "\n",
        "            criterion = CombinedLoss(alpha=0.7, beta=0.1, inv_normalize=inv_normalize, device=\"cpu\")\n",
        "            loss = criterion(pred_tensor_norm, gt_tensor_norm).item()\n",
        "            combined_losses.append(loss)\n",
        "\n",
        "            gt_img = tensor_to_uint8(gt_tensor, inv_normalize)\n",
        "            psnr_scores.append(psnr(gt_img, pred_img, data_range=255))\n",
        "            ssim_scores.append(ssim(gt_img, pred_img, data_range=255, channel_axis=-1))\n",
        "\n",
        "        metrics_path = os.path.join(results_dir, f\"{degradation}_quant_metrics.json\")\n",
        "        with open(metrics_path, \"w\") as f:\n",
        "            json.dump({\n",
        "                \"psnr\": psnr_scores,\n",
        "                \"ssim\": ssim_scores,\n",
        "                \"loss\": combined_losses\n",
        "            }, f, indent=4)\n",
        "\n",
        "        plt.figure(figsize=(10, 6))\n",
        "        plt.suptitle(f\"{degradation.upper()} Quantized PSNR/SSIM\")\n",
        "        plt.subplot(1, 2, 1)\n",
        "        plt.boxplot(psnr_scores, patch_artist=True, boxprops=dict(facecolor=\"lightgreen\"))\n",
        "        plt.title(\"PSNR\")\n",
        "        plt.ylabel(\"dB\")\n",
        "        plt.grid(True)\n",
        "\n",
        "        plt.subplot(1, 2, 2)\n",
        "        plt.boxplot(ssim_scores, patch_artist=True, boxprops=dict(facecolor=\"lightblue\"))\n",
        "        plt.title(\"SSIM\")\n",
        "        plt.ylabel(\"Index\")\n",
        "        plt.grid(True)\n",
        "\n",
        "        plt.tight_layout()\n",
        "        plot_path = os.path.join(results_dir, f\"{degradation}_quant_boxplot.png\")\n",
        "        plt.savefig(plot_path)\n",
        "        print(f\"Saved boxplot to {plot_path}\")\n",
        "\n",
        "if __name__ == \"__main__\":\n",
        "    main()\n",
        "    run_quantized_qaihub_inference()\n",
        "\n"
      ],
      "metadata": {
        "id": "9QNyS-N0m-0U",
        "colab": {
          "base_uri": "https://localhost:8080/",
          "height": 1000
        },
        "outputId": "d79be926-05d4-4a5d-9178-427a17335198"
      },
      "execution_count": null,
      "outputs": [
        {
          "metadata": {
            "tags": null
          },
          "name": "stderr",
          "output_type": "stream",
          "text": [
            "Downloading: \"https://download.pytorch.org/models/vgg19-dcbb9e9d.pth\" to /root/.cache/torch/hub/checkpoints/vgg19-dcbb9e9d.pth\n",
            "100%|██████████| 548M/548M [00:08<00:00, 69.9MB/s]\n"
          ]
        },
        {
          "metadata": {
            "tags": null
          },
          "name": "stdout",
          "output_type": "stream",
          "text": [
            "Saved baseline metrics to /content/drive/MyDrive/TurbRCAE Tests/baseline_model_test/blur_baseline_metrics.json\n"
          ]
        },
        {
          "data": {
            "application/javascript": [
              "\n",
              "    async function download(id, filename, size) {\n",
              "      if (!google.colab.kernel.accessAllowed) {\n",
              "        return;\n",
              "      }\n",
              "      const div = document.createElement('div');\n",
              "      const label = document.createElement('label');\n",
              "      label.textContent = `Downloading \"${filename}\": `;\n",
              "      div.appendChild(label);\n",
              "      const progress = document.createElement('progress');\n",
              "      progress.max = size;\n",
              "      div.appendChild(progress);\n",
              "      document.body.appendChild(div);\n",
              "\n",
              "      const buffers = [];\n",
              "      let downloaded = 0;\n",
              "\n",
              "      const channel = await google.colab.kernel.comms.open(id);\n",
              "      // Send a message to notify the kernel that we're ready.\n",
              "      channel.send({})\n",
              "\n",
              "      for await (const message of channel.messages) {\n",
              "        // Send a message to notify the kernel that we're ready.\n",
              "        channel.send({})\n",
              "        if (message.buffers) {\n",
              "          for (const buffer of message.buffers) {\n",
              "            buffers.push(buffer);\n",
              "            downloaded += buffer.byteLength;\n",
              "            progress.value = downloaded;\n",
              "          }\n",
              "        }\n",
              "      }\n",
              "      const blob = new Blob(buffers, {type: 'application/binary'});\n",
              "      const a = document.createElement('a');\n",
              "      a.href = window.URL.createObjectURL(blob);\n",
              "      a.download = filename;\n",
              "      div.appendChild(a);\n",
              "      a.click();\n",
              "      div.remove();\n",
              "    }\n",
              "  "
            ],
            "text/plain": [
              "<IPython.core.display.Javascript object>"
            ]
          },
          "metadata": {},
          "output_type": "display_data"
        },
        {
          "data": {
            "application/javascript": [
              "download(\"download_02643ea9-1f38-47b2-ae68-e7bbc9228f6e\", \"blur_baseline_metrics.json\", 316)"
            ],
            "text/plain": [
              "<IPython.core.display.Javascript object>"
            ]
          },
          "metadata": {},
          "output_type": "display_data"
        },
        {
          "data": {
            "image/png": "[encoded data removed]",
            "text/plain": [
              "<Figure size 1000x600 with 2 Axes>"
            ]
          },
          "metadata": {},
          "output_type": "display_data"
        },
        {
          "metadata": {
            "tags": null
          },
          "name": "stdout",
          "output_type": "stream",
          "text": [
            "Saved baseline metrics to /content/drive/MyDrive/TurbRCAE Tests/baseline_model_test/tilt_baseline_metrics.json\n"
          ]
        },
        {
          "data": {
            "application/javascript": [
              "\n",
              "    async function download(id, filename, size) {\n",
              "      if (!google.colab.kernel.accessAllowed) {\n",
              "        return;\n",
              "      }\n",
              "      const div = document.createElement('div');\n",
              "      const label = document.createElement('label');\n",
              "      label.textContent = `Downloading \"${filename}\": `;\n",
              "      div.appendChild(label);\n",
              "      const progress = document.createElement('progress');\n",
              "      progress.max = size;\n",
              "      div.appendChild(progress);\n",
              "      document.body.appendChild(div);\n",
              "\n",
              "      const buffers = [];\n",
              "      let downloaded = 0;\n",
              "\n",
              "      const channel = await google.colab.kernel.comms.open(id);\n",
              "      // Send a message to notify the kernel that we're ready.\n",
              "      channel.send({})\n",
              "\n",
              "      for await (const message of channel.messages) {\n",
              "        // Send a message to notify the kernel that we're ready.\n",
              "        channel.send({})\n",
              "        if (message.buffers) {\n",
              "          for (const buffer of message.buffers) {\n",
              "            buffers.push(buffer);\n",
              "            downloaded += buffer.byteLength;\n",
              "            progress.value = downloaded;\n",
              "          }\n",
              "        }\n",
              "      }\n",
              "      const blob = new Blob(buffers, {type: 'application/binary'});\n",
              "      const a = document.createElement('a');\n",
              "      a.href = window.URL.createObjectURL(blob);\n",
              "      a.download = filename;\n",
              "      div.appendChild(a);\n",
              "      a.click();\n",
              "      div.remove();\n",
              "    }\n",
              "  "
            ],
            "text/plain": [
              "<IPython.core.display.Javascript object>"
            ]
          },
          "metadata": {},
          "output_type": "display_data"
        },
        {
          "data": {
            "application/javascript": [
              "download(\"download_a72e60b9-71bd-4c75-bb6b-f3a9189c424e\", \"tilt_baseline_metrics.json\", 316)"
            ],
            "text/plain": [
              "<IPython.core.display.Javascript object>"
            ]
          },
          "metadata": {},
          "output_type": "display_data"
        },
        {
          "data": {
            "image/png": "[encoded data removed]",
            "text/plain": [
              "<Figure size 1000x600 with 2 Axes>"
            ]
          },
          "metadata": {},
          "output_type": "display_data"
        },
        {
          "metadata": {
            "tags": null
          },
          "name": "stdout",
          "output_type": "stream",
          "text": [
            "Saved baseline metrics to /content/drive/MyDrive/TurbRCAE Tests/baseline_model_test/turb_baseline_metrics.json\n"
          ]
        },
        {
          "data": {
            "application/javascript": [
              "\n",
              "    async function download(id, filename, size) {\n",
              "      if (!google.colab.kernel.accessAllowed) {\n",
              "        return;\n",
              "      }\n",
              "      const div = document.createElement('div');\n",
              "      const label = document.createElement('label');\n",
              "      label.textContent = `Downloading \"${filename}\": `;\n",
              "      div.appendChild(label);\n",
              "      const progress = document.createElement('progress');\n",
              "      progress.max = size;\n",
              "      div.appendChild(progress);\n",
              "      document.body.appendChild(div);\n",
              "\n",
              "      const buffers = [];\n",
              "      let downloaded = 0;\n",
              "\n",
              "      const channel = await google.colab.kernel.comms.open(id);\n",
              "      // Send a message to notify the kernel that we're ready.\n",
              "      channel.send({})\n",
              "\n",
              "      for await (const message of channel.messages) {\n",
              "        // Send a message to notify the kernel that we're ready.\n",
              "        channel.send({})\n",
              "        if (message.buffers) {\n",
              "          for (const buffer of message.buffers) {\n",
              "            buffers.push(buffer);\n",
              "            downloaded += buffer.byteLength;\n",
              "            progress.value = downloaded;\n",
              "          }\n",
              "        }\n",
              "      }\n",
              "      const blob = new Blob(buffers, {type: 'application/binary'});\n",
              "      const a = document.createElement('a');\n",
              "      a.href = window.URL.createObjectURL(blob);\n",
              "      a.download = filename;\n",
              "      div.appendChild(a);\n",
              "      a.click();\n",
              "      div.remove();\n",
              "    }\n",
              "  "
            ],
            "text/plain": [
              "<IPython.core.display.Javascript object>"
            ]
          },
          "metadata": {},
          "output_type": "display_data"
        },
        {
          "data": {
            "application/javascript": [
              "download(\"download_5ffc3d94-0ff9-48f6-8729-887da0fa7bbe\", \"turb_baseline_metrics.json\", 316)"
            ],
            "text/plain": [
              "<IPython.core.display.Javascript object>"
            ]
          },
          "metadata": {},
          "output_type": "display_data"
        },
        {
          "data": {
            "image/png": "[encoded data removed]",
            "text/plain": [
              "<Figure size 1000x600 with 2 Axes>"
            ]
          },
          "metadata": {},
          "output_type": "display_data"
        },
        {
          "metadata": {
            "tags": null
          },
          "name": "stdout",
          "output_type": "stream",
          "text": [
            "\n",
            "🔧 Quantizing and evaluating: BLUR\n",
            "Uploading blur.onnx\n"
          ]
        },
        {
          "metadata": {
            "tags": null
          },
          "name": "stderr",
          "output_type": "stream",
          "text": [
            "100%|\u001b[34m██████████\u001b[0m| 1.91M/1.91M [00:00<00:00, 8.92MB/s]\n"
          ]
        },
        {
          "metadata": {
            "tags": null
          },
          "name": "stdout",
          "output_type": "stream",
          "text": [
            "Scheduled compile job (jg9y0zvw5) successfully. To see the status and results:\n",
            "    https://app.aihub.qualcomm.com/jobs/jg9y0zvw5/\n",
            "\n",
            "Waiting for compile job (jg9y0zvw5) completion. Type Ctrl+C to stop waiting at any time.\n",
            "    ✅ SUCCESS                          \u0007\n"
          ]
        },
        {
          "metadata": {
            "tags": null
          },
          "name": "stderr",
          "output_type": "stream",
          "text": [
            "Uploading dataset: 379kB [00:00, 2.34MB/s]                   \n"
          ]
        },
        {
          "metadata": {
            "tags": null
          },
          "name": "stdout",
          "output_type": "stream",
          "text": [
            "Scheduled quantize job (j57l2ezvg) successfully. To see the status and results:\n",
            "    https://app.aihub.qualcomm.com/jobs/j57l2ezvg/\n",
            "\n",
            "Waiting for quantize job (j57l2ezvg) completion. Type Ctrl+C to stop waiting at any time.\n",
            "    ✅ SUCCESS                          \u0007\n",
            "Scheduled compile job (jp4dnyq8p) successfully. To see the status and results:\n",
            "    https://app.aihub.qualcomm.com/jobs/jp4dnyq8p/\n",
            "\n",
            "Waiting for compile job (jp4dnyq8p) completion. Type Ctrl+C to stop waiting at any time.\n",
            "    ✅ SUCCESS                          \u0007\n",
            "Scheduled profile job (jgnm0z2kp) successfully. To see the status and results:\n",
            "    https://app.aihub.qualcomm.com/jobs/jgnm0z2kp/\n",
            "\n",
            "Waiting for profile job (jgnm0z2kp) completion. Type Ctrl+C to stop waiting at any time.\n",
            "    ✅ SUCCESS                          \u0007\n"
          ]
        },
        {
          "metadata": {
            "tags": null
          },
          "name": "stderr",
          "output_type": "stream",
          "text": [
            "Uploading dataset: 133kB [00:00, 803kB/s]                    \n"
          ]
        },
        {
          "metadata": {
            "tags": null
          },
          "name": "stdout",
          "output_type": "stream",
          "text": [
            "Scheduled inference job (jp8m2eok5) successfully. To see the status and results:\n",
            "    https://app.aihub.qualcomm.com/jobs/jp8m2eok5/\n",
            "\n",
            "Waiting for inference job (jp8m2eok5) completion. Type Ctrl+C to stop waiting at any time.\n",
            "    ✅ SUCCESS                          \u0007\n"
          ]
        },
        {
          "metadata": {
            "tags": null
          },
          "name": "stderr",
          "output_type": "stream",
          "text": [
            "tmph72_apuu.h5: 100%|\u001b[34m██████████\u001b[0m| 133k/133k [00:00<00:00, 6.06MB/s]\n",
            "Uploading dataset: 139kB [00:00, 859kB/s]                    \n"
          ]
        },
        {
          "metadata": {
            "tags": null
          },
          "name": "stdout",
          "output_type": "stream",
          "text": [
            "Scheduled inference job (j56z2866g) successfully. To see the status and results:\n",
            "    https://app.aihub.qualcomm.com/jobs/j56z2866g/\n",
            "\n",
            "Waiting for inference job (j56z2866g) completion. Type Ctrl+C to stop waiting at any time.\n",
            "    ✅ SUCCESS                          \u0007\n"
          ]
        },
        {
          "metadata": {
            "tags": null
          },
          "name": "stderr",
          "output_type": "stream",
          "text": [
            "tmpibklo2dv.h5: 100%|\u001b[34m██████████\u001b[0m| 141k/141k [00:00<00:00, 5.30MB/s]\n",
            "Uploading dataset: 133kB [00:00, 1.14MB/s]                   \n"
          ]
        },
        {
          "metadata": {
            "tags": null
          },
          "name": "stdout",
          "output_type": "stream",
          "text": [
            "Scheduled inference job (jp31nzk3g) successfully. To see the status and results:\n",
            "    https://app.aihub.qualcomm.com/jobs/jp31nzk3g/\n",
            "\n",
            "Waiting for inference job (jp31nzk3g) completion. Type Ctrl+C to stop waiting at any time.\n",
            "    ✅ SUCCESS                          \u0007\n"
          ]
        },
        {
          "metadata": {
            "tags": null
          },
          "name": "stderr",
          "output_type": "stream",
          "text": [
            "tmp4tt27v7w.h5: 100%|\u001b[34m██████████\u001b[0m| 133k/133k [00:00<00:00, 7.34MB/s]\n"
          ]
        },
        {
          "metadata": {
            "tags": null
          },
          "name": "stdout",
          "output_type": "stream",
          "text": [
            "Saved boxplot to /content/drive/MyDrive/TurbRCAE Tests/quantized_model_test_results/blur/blur_quant_boxplot.png\n",
            "\n",
            "🔧 Quantizing and evaluating: TILT\n",
            "Uploading tilt.onnx\n"
          ]
        },
        {
          "metadata": {
            "tags": null
          },
          "name": "stderr",
          "output_type": "stream",
          "text": [
            "100%|\u001b[34m██████████\u001b[0m| 1.91M/1.91M [00:00<00:00, 8.04MB/s]\n"
          ]
        },
        {
          "metadata": {
            "tags": null
          },
          "name": "stdout",
          "output_type": "stream",
          "text": [
            "Scheduled compile job (jgzj2l9op) successfully. To see the status and results:\n",
            "    https://app.aihub.qualcomm.com/jobs/jgzj2l9op/\n",
            "\n",
            "Waiting for compile job (jgzj2l9op) completion. Type Ctrl+C to stop waiting at any time.\n",
            "    ✅ SUCCESS                          \u0007\n"
          ]
        },
        {
          "metadata": {
            "tags": null
          },
          "name": "stderr",
          "output_type": "stream",
          "text": [
            "Uploading dataset: 506kB [00:00, 3.39MB/s]                   \n"
          ]
        },
        {
          "metadata": {
            "tags": null
          },
          "name": "stdout",
          "output_type": "stream",
          "text": [
            "Scheduled quantize job (j5w3wlv3p) successfully. To see the status and results:\n",
            "    https://app.aihub.qualcomm.com/jobs/j5w3wlv3p/\n",
            "\n",
            "Waiting for quantize job (j5w3wlv3p) completion. Type Ctrl+C to stop waiting at any time.\n",
            "    ✅ SUCCESS                          \u0007\n",
            "Scheduled compile job (jp1w2nl8g) successfully. To see the status and results:\n",
            "    https://app.aihub.qualcomm.com/jobs/jp1w2nl8g/\n",
            "\n",
            "Waiting for compile job (jp1w2nl8g) completion. Type Ctrl+C to stop waiting at any time.\n",
            "    ✅ SUCCESS                          \u0007\n",
            "Scheduled profile job (j57l2ewvg) successfully. To see the status and results:\n",
            "    https://app.aihub.qualcomm.com/jobs/j57l2ewvg/\n",
            "\n",
            "Waiting for profile job (j57l2ewvg) completion. Type Ctrl+C to stop waiting at any time.\n",
            "    ✅ SUCCESS                          \u0007\n"
          ]
        },
        {
          "metadata": {
            "tags": null
          },
          "name": "stderr",
          "output_type": "stream",
          "text": [
            "Uploading dataset: 177kB [00:00, 822kB/s]                    \n"
          ]
        },
        {
          "metadata": {
            "tags": null
          },
          "name": "stdout",
          "output_type": "stream",
          "text": [
            "Scheduled inference job (jp29xr6rg) successfully. To see the status and results:\n",
            "    https://app.aihub.qualcomm.com/jobs/jp29xr6rg/\n",
            "\n",
            "Waiting for inference job (jp29xr6rg) completion. Type Ctrl+C to stop waiting at any time.\n",
            "    ✅ SUCCESS                          \u0007\n"
          ]
        },
        {
          "metadata": {
            "tags": null
          },
          "name": "stderr",
          "output_type": "stream",
          "text": [
            "tmpym3tjmjq.h5: 100%|\u001b[34m██████████\u001b[0m| 150k/150k [00:00<00:00, 7.89MB/s]\n",
            "Uploading dataset: 177kB [00:00, 1.63MB/s]                   \n"
          ]
        },
        {
          "metadata": {
            "tags": null
          },
          "name": "stdout",
          "output_type": "stream",
          "text": [
            "Scheduled inference job (jp8m2e9k5) successfully. To see the status and results:\n",
            "    https://app.aihub.qualcomm.com/jobs/jp8m2e9k5/\n",
            "\n",
            "Waiting for inference job (jp8m2e9k5) completion. Type Ctrl+C to stop waiting at any time.\n",
            "    ✅ SUCCESS                          \u0007\n"
          ]
        },
        {
          "metadata": {
            "tags": null
          },
          "name": "stderr",
          "output_type": "stream",
          "text": [
            "tmp9myl3212.h5: 100%|\u001b[34m██████████\u001b[0m| 149k/149k [00:00<00:00, 5.91MB/s]\n",
            "Uploading dataset: 177kB [00:00, 679kB/s]                    \n"
          ]
        },
        {
          "metadata": {
            "tags": null
          },
          "name": "stdout",
          "output_type": "stream",
          "text": [
            "Scheduled inference job (jp31nz33g) successfully. To see the status and results:\n",
            "    https://app.aihub.qualcomm.com/jobs/jp31nz33g/\n",
            "\n",
            "Waiting for inference job (jp31nz33g) completion. Type Ctrl+C to stop waiting at any time.\n",
            "    ✅ SUCCESS                          \u0007\n"
          ]
        },
        {
          "metadata": {
            "tags": null
          },
          "name": "stderr",
          "output_type": "stream",
          "text": [
            "tmppyjz674_.h5: 100%|\u001b[34m██████████\u001b[0m| 149k/149k [00:00<00:00, 6.19MB/s]\n"
          ]
        },
        {
          "metadata": {
            "tags": null
          },
          "name": "stdout",
          "output_type": "stream",
          "text": [
            "Saved boxplot to /content/drive/MyDrive/TurbRCAE Tests/quantized_model_test_results/tilt/tilt_quant_boxplot.png\n",
            "\n",
            "🔧 Quantizing and evaluating: TURB\n",
            "Uploading turb.onnx\n"
          ]
        },
        {
          "metadata": {
            "tags": null
          },
          "name": "stderr",
          "output_type": "stream",
          "text": [
            "100%|\u001b[34m██████████\u001b[0m| 1.91M/1.91M [00:00<00:00, 13.5MB/s]\n"
          ]
        },
        {
          "metadata": {
            "tags": null
          },
          "name": "stdout",
          "output_type": "stream",
          "text": [
            "Scheduled compile job (jpewo73op) successfully. To see the status and results:\n",
            "    https://app.aihub.qualcomm.com/jobs/jpewo73op/\n",
            "\n",
            "Waiting for compile job (jpewo73op) completion. Type Ctrl+C to stop waiting at any time.\n",
            "    ✅ SUCCESS                          \u0007\n"
          ]
        },
        {
          "metadata": {
            "tags": null
          },
          "name": "stderr",
          "output_type": "stream",
          "text": [
            "Uploading dataset: 382kB [00:00, 2.08MB/s]                   \n"
          ]
        },
        {
          "metadata": {
            "tags": null
          },
          "name": "stdout",
          "output_type": "stream",
          "text": [
            "Scheduled quantize job (j5w3wln3p) successfully. To see the status and results:\n",
            "    https://app.aihub.qualcomm.com/jobs/j5w3wln3p/\n",
            "\n",
            "Waiting for quantize job (j5w3wln3p) completion. Type Ctrl+C to stop waiting at any time.\n",
            "    ✅ SUCCESS                          \u0007\n",
            "Scheduled compile job (jgdqndlr5) successfully. To see the status and results:\n",
            "    https://app.aihub.qualcomm.com/jobs/jgdqndlr5/\n",
            "\n",
            "Waiting for compile job (jgdqndlr5) completion. Type Ctrl+C to stop waiting at any time.\n",
            "    ✅ SUCCESS                          \u0007\n",
            "Scheduled profile job (jp4dny08p) successfully. To see the status and results:\n",
            "    https://app.aihub.qualcomm.com/jobs/jp4dny08p/\n",
            "\n",
            "Waiting for profile job (jp4dny08p) completion. Type Ctrl+C to stop waiting at any time.\n",
            "    ✅ SUCCESS                          \u0007\n"
          ]
        },
        {
          "metadata": {
            "tags": null
          },
          "name": "stderr",
          "output_type": "stream",
          "text": [
            "Uploading dataset: 134kB [00:00, 487kB/s]                    \n"
          ]
        },
        {
          "metadata": {
            "tags": null
          },
          "name": "stdout",
          "output_type": "stream",
          "text": [
            "Scheduled inference job (jpr26lj05) successfully. To see the status and results:\n",
            "    https://app.aihub.qualcomm.com/jobs/jpr26lj05/\n",
            "\n",
            "Waiting for inference job (jpr26lj05) completion. Type Ctrl+C to stop waiting at any time.\n",
            "    ✅ SUCCESS                          \u0007\n"
          ]
        },
        {
          "metadata": {
            "tags": null
          },
          "name": "stderr",
          "output_type": "stream",
          "text": [
            "tmpnmc4h327.h5: 100%|\u001b[34m██████████\u001b[0m| 138k/138k [00:00<00:00, 5.35MB/s]\n",
            "Uploading dataset: 139kB [00:00, 876kB/s]                    \n"
          ]
        },
        {
          "metadata": {
            "tags": null
          },
          "name": "stdout",
          "output_type": "stream",
          "text": [
            "Scheduled inference job (jpyjzo08p) successfully. To see the status and results:\n",
            "    https://app.aihub.qualcomm.com/jobs/jpyjzo08p/\n",
            "\n",
            "Waiting for inference job (jpyjzo08p) completion. Type Ctrl+C to stop waiting at any time.\n",
            "    ✅ SUCCESS                          \u0007\n"
          ]
        },
        {
          "metadata": {
            "tags": null
          },
          "name": "stderr",
          "output_type": "stream",
          "text": [
            "tmpjhgauhet.h5: 100%|\u001b[34m██████████\u001b[0m| 145k/145k [00:00<00:00, 6.43MB/s]\n",
            "Uploading dataset: 134kB [00:00, 1.34MB/s]                   \n"
          ]
        },
        {
          "metadata": {
            "tags": null
          },
          "name": "stdout",
          "output_type": "stream",
          "text": [
            "Scheduled inference job (jp8m2evk5) successfully. To see the status and results:\n",
            "    https://app.aihub.qualcomm.com/jobs/jp8m2evk5/\n",
            "\n",
            "Waiting for inference job (jp8m2evk5) completion. Type Ctrl+C to stop waiting at any time.\n",
            "    ✅ SUCCESS                          \u0007\n"
          ]
        },
        {
          "metadata": {
            "tags": null
          },
          "name": "stderr",
          "output_type": "stream",
          "text": [
            "tmphjm2ctm3.h5: 100%|\u001b[34m██████████\u001b[0m| 138k/138k [00:00<00:00, 6.21MB/s]\n"
          ]
        },
        {
          "output_type": "stream",
          "name": "stdout",
          "text": [
            "Saved boxplot to /content/drive/MyDrive/TurbRCAE Tests/quantized_model_test_results/turb/turb_quant_boxplot.png\n",
            "\n",
            "🔧 Quantizing and evaluating: BLUR\n",
            "Uploading blur.onnx\n"
          ]
        },
        {
          "output_type": "stream",
          "name": "stderr",
          "text": [
            "100%|\u001b[34m██████████\u001b[0m| 1.91M/1.91M [00:00<00:00, 11.5MB/s]\n"
          ]
        },
        {
          "output_type": "stream",
          "name": "stdout",
          "text": [
            "Scheduled compile job (j5qr0lonp) successfully. To see the status and results:\n",
            "    https://app.aihub.qualcomm.com/jobs/j5qr0lonp/\n",
            "\n",
            "Waiting for compile job (j5qr0lonp) completion. Type Ctrl+C to stop waiting at any time.\n",
            "    ✅ SUCCESS                          \u0007\n"
          ]
        },
        {
          "output_type": "stream",
          "name": "stderr",
          "text": [
            "Uploading dataset: 379kB [00:00, 2.45MB/s]                   \n"
          ]
        },
        {
          "output_type": "stream",
          "name": "stdout",
          "text": [
            "Scheduled quantize job (j56z28l6g) successfully. To see the status and results:\n",
            "    https://app.aihub.qualcomm.com/jobs/j56z28l6g/\n",
            "\n",
            "Waiting for quantize job (j56z28l6g) completion. Type Ctrl+C to stop waiting at any time.\n",
            "    ✅ SUCCESS                          \u0007\n",
            "Scheduled compile job (jp31nz23g) successfully. To see the status and results:\n",
            "    https://app.aihub.qualcomm.com/jobs/jp31nz23g/\n",
            "\n",
            "Waiting for compile job (jp31nz23g) completion. Type Ctrl+C to stop waiting at any time.\n",
            "    ✅ SUCCESS                          \u0007\n",
            "Scheduled profile job (jgonzlqqp) successfully. To see the status and results:\n",
            "    https://app.aihub.qualcomm.com/jobs/jgonzlqqp/\n",
            "\n",
            "Waiting for profile job (jgonzlqqp) completion. Type Ctrl+C to stop waiting at any time.\n",
            "    ✅ SUCCESS                          \u0007\n"
          ]
        },
        {
          "output_type": "stream",
          "name": "stderr",
          "text": [
            "Uploading dataset: 133kB [00:00, 814kB/s]                    \n"
          ]
        },
        {
          "output_type": "stream",
          "name": "stdout",
          "text": [
            "Scheduled inference job (jpvrq2kk5) successfully. To see the status and results:\n",
            "    https://app.aihub.qualcomm.com/jobs/jpvrq2kk5/\n",
            "\n",
            "Waiting for inference job (jpvrq2kk5) completion. Type Ctrl+C to stop waiting at any time.\n",
            "    ✅ SUCCESS                          \u0007\n"
          ]
        },
        {
          "output_type": "stream",
          "name": "stderr",
          "text": [
            "tmpambfp1sr.h5: 100%|\u001b[34m██████████\u001b[0m| 133k/133k [00:00<00:00, 5.33MB/s]\n",
            "Uploading dataset: 139kB [00:00, 1.12MB/s]                   \n"
          ]
        },
        {
          "output_type": "stream",
          "name": "stdout",
          "text": [
            "Scheduled inference job (jg9y0onw5) successfully. To see the status and results:\n",
            "    https://app.aihub.qualcomm.com/jobs/jg9y0onw5/\n",
            "\n",
            "Waiting for inference job (jg9y0onw5) completion. Type Ctrl+C to stop waiting at any time.\n",
            "    ✅ SUCCESS                          \u0007\n"
          ]
        },
        {
          "output_type": "stream",
          "name": "stderr",
          "text": [
            "tmptaz1wzxs.h5: 100%|\u001b[34m██████████\u001b[0m| 141k/141k [00:00<00:00, 7.13MB/s]\n",
            "Uploading dataset: 133kB [00:00, 927kB/s]                    \n"
          ]
        },
        {
          "output_type": "stream",
          "name": "stdout",
          "text": [
            "Scheduled inference job (jg9y0on85) successfully. To see the status and results:\n",
            "    https://app.aihub.qualcomm.com/jobs/jg9y0on85/\n",
            "\n",
            "Waiting for inference job (jg9y0on85) completion. Type Ctrl+C to stop waiting at any time.\n",
            "    ✅ SUCCESS                          \u0007\n"
          ]
        },
        {
          "output_type": "stream",
          "name": "stderr",
          "text": [
            "tmpdek1xwsz.h5: 100%|\u001b[34m██████████\u001b[0m| 133k/133k [00:00<00:00, 6.79MB/s]\n"
          ]
        },
        {
          "output_type": "stream",
          "name": "stdout",
          "text": [
            "Saved boxplot to /content/drive/MyDrive/TurbRCAE Tests/quantized_model_test_results/blur/blur_quant_boxplot.png\n",
            "\n",
            "🔧 Quantizing and evaluating: TILT\n",
            "Uploading tilt.onnx\n"
          ]
        },
        {
          "output_type": "stream",
          "name": "stderr",
          "text": [
            "100%|\u001b[34m██████████\u001b[0m| 1.91M/1.91M [00:00<00:00, 13.4MB/s]\n"
          ]
        },
        {
          "output_type": "stream",
          "name": "stdout",
          "text": [
            "Scheduled compile job (jgdqn61z5) successfully. To see the status and results:\n",
            "    https://app.aihub.qualcomm.com/jobs/jgdqn61z5/\n",
            "\n",
            "Waiting for compile job (jgdqn61z5) completion. Type Ctrl+C to stop waiting at any time.\n",
            "    ✅ SUCCESS                          \u0007\n"
          ]
        },
        {
          "output_type": "stream",
          "name": "stderr",
          "text": [
            "Uploading dataset: 506kB [00:00, 3.70MB/s]                   \n"
          ]
        },
        {
          "output_type": "stream",
          "name": "stdout",
          "text": [
            "Scheduled quantize job (j57l2or9g) successfully. To see the status and results:\n",
            "    https://app.aihub.qualcomm.com/jobs/j57l2or9g/\n",
            "\n",
            "Waiting for quantize job (j57l2or9g) completion. Type Ctrl+C to stop waiting at any time.\n",
            "    ✅ SUCCESS                          \u0007\n",
            "Scheduled compile job (jp4dner1p) successfully. To see the status and results:\n",
            "    https://app.aihub.qualcomm.com/jobs/jp4dner1p/\n",
            "\n",
            "Waiting for compile job (jp4dner1p) completion. Type Ctrl+C to stop waiting at any time.\n",
            "    ✅ SUCCESS                          \u0007\n",
            "Scheduled profile job (jgnm01vqp) successfully. To see the status and results:\n",
            "    https://app.aihub.qualcomm.com/jobs/jgnm01vqp/\n",
            "\n",
            "Waiting for profile job (jgnm01vqp) completion. Type Ctrl+C to stop waiting at any time.\n",
            "    ✅ SUCCESS                          \u0007\n"
          ]
        },
        {
          "output_type": "stream",
          "name": "stderr",
          "text": [
            "Uploading dataset: 177kB [00:00, 1.16MB/s]                   \n"
          ]
        },
        {
          "output_type": "stream",
          "name": "stdout",
          "text": [
            "Scheduled inference job (jp024o0n5) successfully. To see the status and results:\n",
            "    https://app.aihub.qualcomm.com/jobs/jp024o0n5/\n",
            "\n",
            "Waiting for inference job (jp024o0n5) completion. Type Ctrl+C to stop waiting at any time.\n",
            "    ✅ SUCCESS                          \u0007\n"
          ]
        },
        {
          "output_type": "stream",
          "name": "stderr",
          "text": [
            "tmpl2lu_kgf.h5: 100%|\u001b[34m██████████\u001b[0m| 150k/150k [00:00<00:00, 7.87MB/s]\n",
            "Uploading dataset: 177kB [00:00, 864kB/s]                    \n"
          ]
        },
        {
          "output_type": "stream",
          "name": "stdout",
          "text": [
            "Scheduled inference job (j5qr04qop) successfully. To see the status and results:\n",
            "    https://app.aihub.qualcomm.com/jobs/j5qr04qop/\n",
            "\n",
            "Waiting for inference job (j5qr04qop) completion. Type Ctrl+C to stop waiting at any time.\n",
            "    ✅ SUCCESS                          \u0007\n"
          ]
        },
        {
          "output_type": "stream",
          "name": "stderr",
          "text": [
            "tmp7kbucmud.h5: 100%|\u001b[34m██████████\u001b[0m| 149k/149k [00:00<00:00, 5.43MB/s]\n",
            "Uploading dataset: 177kB [00:00, 1.55MB/s]                   \n"
          ]
        },
        {
          "output_type": "stream",
          "name": "stdout",
          "text": [
            "Scheduled inference job (jgonzd2kp) successfully. To see the status and results:\n",
            "    https://app.aihub.qualcomm.com/jobs/jgonzd2kp/\n",
            "\n",
            "Waiting for inference job (jgonzd2kp) completion. Type Ctrl+C to stop waiting at any time.\n",
            "    ✅ SUCCESS                          \u0007\n"
          ]
        },
        {
          "output_type": "stream",
          "name": "stderr",
          "text": [
            "tmp1xgalaec.h5: 100%|\u001b[34m██████████\u001b[0m| 149k/149k [00:00<00:00, 7.69MB/s]\n"
          ]
        },
        {
          "output_type": "stream",
          "name": "stdout",
          "text": [
            "Saved boxplot to /content/drive/MyDrive/TurbRCAE Tests/quantized_model_test_results/tilt/tilt_quant_boxplot.png\n",
            "\n",
            "🔧 Quantizing and evaluating: TURB\n",
            "Uploading turb.onnx\n"
          ]
        },
        {
          "output_type": "stream",
          "name": "stderr",
          "text": [
            "100%|\u001b[34m██████████\u001b[0m| 1.91M/1.91M [00:00<00:00, 10.2MB/s]\n"
          ]
        },
        {
          "output_type": "stream",
          "name": "stdout",
          "text": [
            "Scheduled compile job (jgzj2z3xp) successfully. To see the status and results:\n",
            "    https://app.aihub.qualcomm.com/jobs/jgzj2z3xp/\n",
            "\n",
            "Waiting for compile job (jgzj2z3xp) completion. Type Ctrl+C to stop waiting at any time.\n",
            "    ✅ SUCCESS                          \u0007\n"
          ]
        },
        {
          "output_type": "stream",
          "name": "stderr",
          "text": [
            "Uploading dataset: 382kB [00:00, 2.81MB/s]                   \n"
          ]
        },
        {
          "output_type": "stream",
          "name": "stdout",
          "text": [
            "Scheduled quantize job (jg9y0ol85) successfully. To see the status and results:\n",
            "    https://app.aihub.qualcomm.com/jobs/jg9y0ol85/\n",
            "\n",
            "Waiting for quantize job (jg9y0ol85) completion. Type Ctrl+C to stop waiting at any time.\n",
            "    ✅ SUCCESS                          \u0007\n",
            "Scheduled compile job (jp1w2o47g) successfully. To see the status and results:\n",
            "    https://app.aihub.qualcomm.com/jobs/jp1w2o47g/\n",
            "\n",
            "Waiting for compile job (jp1w2o47g) completion. Type Ctrl+C to stop waiting at any time.\n",
            "    ✅ SUCCESS                          \u0007\n",
            "Scheduled profile job (jp4dnel1p) successfully. To see the status and results:\n",
            "    https://app.aihub.qualcomm.com/jobs/jp4dnel1p/\n",
            "\n",
            "Waiting for profile job (jp4dnel1p) completion. Type Ctrl+C to stop waiting at any time.\n",
            "    ✅ SUCCESS                          \u0007\n"
          ]
        },
        {
          "output_type": "stream",
          "name": "stderr",
          "text": [
            "Uploading dataset: 134kB [00:00, 1.17MB/s]                   \n"
          ]
        },
        {
          "output_type": "stream",
          "name": "stdout",
          "text": [
            "Scheduled inference job (jpr26xv75) successfully. To see the status and results:\n",
            "    https://app.aihub.qualcomm.com/jobs/jpr26xv75/\n",
            "\n",
            "Waiting for inference job (jpr26xv75) completion. Type Ctrl+C to stop waiting at any time.\n",
            "    ✅ SUCCESS                          \u0007\n"
          ]
        },
        {
          "output_type": "stream",
          "name": "stderr",
          "text": [
            "tmp9rosvnoj.h5: 100%|\u001b[34m██████████\u001b[0m| 138k/138k [00:00<00:00, 7.34MB/s]\n",
            "Uploading dataset: 139kB [00:00, 1.40MB/s]                   \n"
          ]
        },
        {
          "output_type": "stream",
          "name": "stdout",
          "text": [
            "Scheduled inference job (jp8m2jqo5) successfully. To see the status and results:\n",
            "    https://app.aihub.qualcomm.com/jobs/jp8m2jqo5/\n",
            "\n",
            "Waiting for inference job (jp8m2jqo5) completion. Type Ctrl+C to stop waiting at any time.\n",
            "    ✅ SUCCESS                          \u0007\n"
          ]
        },
        {
          "output_type": "stream",
          "name": "stderr",
          "text": [
            "tmp9tn487sj.h5: 100%|\u001b[34m██████████\u001b[0m| 145k/145k [00:00<00:00, 6.58MB/s]\n",
            "Uploading dataset: 134kB [00:00, 1.38MB/s]                   \n"
          ]
        },
        {
          "output_type": "stream",
          "name": "stdout",
          "text": [
            "Scheduled inference job (jgkqv6eng) successfully. To see the status and results:\n",
            "    https://app.aihub.qualcomm.com/jobs/jgkqv6eng/\n",
            "\n",
            "Waiting for inference job (jgkqv6eng) completion. Type Ctrl+C to stop waiting at any time.\n",
            "    ✅ SUCCESS                          \u0007\n"
          ]
        },
        {
          "output_type": "stream",
          "name": "stderr",
          "text": [
            "tmp6e5lsroc.h5: 100%|\u001b[34m██████████\u001b[0m| 138k/138k [00:00<00:00, 6.64MB/s]\n"
          ]
        },
        {
          "output_type": "stream",
          "name": "stdout",
          "text": [
            "Saved boxplot to /content/drive/MyDrive/TurbRCAE Tests/quantized_model_test_results/turb/turb_quant_boxplot.png\n"
          ]
        },
        {
          "output_type": "display_data",
          "data": {
            "text/plain": [
              "<Figure size 1000x600 with 2 Axes>"
            ],
            "image/png": "[encoded data removed]"
          },
          "metadata": {}
        },
        {
          "output_type": "display_data",
          "data": {
            "text/plain": [
              "<Figure size 1000x600 with 2 Axes>"
            ],
            "image/png": "[encoded data removed]"
          },
          "metadata": {}
        },
        {
          "output_type": "display_data",
          "data": {
            "text/plain": [
              "<Figure size 1000x600 with 2 Axes>"
            ],
            "image/png": "[encoded data removed]"
          },
          "metadata": {}
        },
        {
          "output_type": "display_data",
          "data": {
            "text/plain": [
              "<Figure size 1000x600 with 2 Axes>"
            ],
            "image/png": "[encoded data removed]"
          },
          "metadata": {}
        },
        {
          "output_type": "display_data",
          "data": {
            "text/plain": [
              "<Figure size 1000x600 with 2 Axes>"
            ],
            "image/png": "[encoded data removed]"
          },
          "metadata": {}
        },
        {
          "output_type": "display_data",
          "data": {
            "text/plain": [
              "<Figure size 1000x600 with 2 Axes>"
            ],
            "image/png": "[encoded data removed]"
          },
          "metadata": {}
        }
      ]
    }
  ]
}